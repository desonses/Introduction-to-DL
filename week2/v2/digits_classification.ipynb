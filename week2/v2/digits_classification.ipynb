{
 "cells": [
  {
   "cell_type": "markdown",
   "metadata": {
    "slideshow": {
     "slide_type": "slide"
    }
   },
   "source": [
    "# MNIST digits classification with TensorFlow"
   ]
  },
  {
   "cell_type": "markdown",
   "metadata": {},
   "source": [
    "<img src=\"images/mnist_sample.png\" style=\"width:30%\">"
   ]
  },
  {
   "cell_type": "code",
   "execution_count": 1,
   "metadata": {},
   "outputs": [
    {
     "name": "stdout",
     "output_type": "stream",
     "text": [
      "We're using TF 1.2.1\n"
     ]
    }
   ],
   "source": [
    "import numpy as np\n",
    "from sklearn.metrics import accuracy_score\n",
    "from matplotlib import pyplot as plt\n",
    "%matplotlib inline\n",
    "import tensorflow as tf\n",
    "print(\"We're using TF\", tf.__version__)"
   ]
  },
  {
   "cell_type": "code",
   "execution_count": 2,
   "metadata": {},
   "outputs": [
    {
     "name": "stderr",
     "output_type": "stream",
     "text": [
      "Using TensorFlow backend.\n"
     ]
    }
   ],
   "source": [
    "import sys\n",
    "sys.path.append(\"../..\")\n",
    "import grading\n",
    "\n",
    "import matplotlib_utils\n",
    "from importlib import reload\n",
    "reload(matplotlib_utils)\n",
    "\n",
    "import grading_utils\n",
    "reload(grading_utils)\n",
    "\n",
    "import keras_utils\n",
    "from keras_utils import reset_tf_session"
   ]
  },
  {
   "cell_type": "markdown",
   "metadata": {},
   "source": [
    "# Fill in your Coursera token and email\n",
    "To successfully submit your answers to our grader, please fill in your Coursera submission token and email"
   ]
  },
  {
   "cell_type": "code",
   "execution_count": 3,
   "metadata": {
    "collapsed": true
   },
   "outputs": [],
   "source": [
    "grader = grading.Grader(assignment_key=\"XtD7ho3TEeiHQBLWejjYAA\", \n",
    "                        all_parts=[\"9XaAS\", \"vmogZ\", \"RMv95\", \"i8bgs\", \"rE763\"])"
   ]
  },
  {
   "cell_type": "code",
   "execution_count": 4,
   "metadata": {
    "collapsed": true
   },
   "outputs": [],
   "source": [
    "# token expires every 30 min\n",
    "\n",
    "COURSERA_EMAIL = \"desonses@gmail.com\"\n",
    "COURSERA_TOKEN = \"dVv9lKNoVzqIB3rj\""
   ]
  },
  {
   "cell_type": "markdown",
   "metadata": {},
   "source": [
    "# Look at the data\n",
    "\n",
    "In this task we have 50000 28x28 images of digits from 0 to 9.\n",
    "We will train a classifier on this data."
   ]
  },
  {
   "cell_type": "code",
   "execution_count": 5,
   "metadata": {
    "collapsed": true
   },
   "outputs": [],
   "source": [
    "import preprocessed_mnist\n",
    "X_train, y_train, X_val, y_val, X_test, y_test = preprocessed_mnist.load_dataset_from_file()\n"
   ]
  },
  {
   "cell_type": "code",
   "execution_count": 6,
   "metadata": {},
   "outputs": [
    {
     "name": "stdout",
     "output_type": "stream",
     "text": [
      "shape...\n",
      " X_train:(50000, 28, 28)\n",
      " y_train:(50000,)\n",
      " X_val:(10000, 28, 28)\n",
      " y_val:(10000,)\n",
      " X_test:(10000, 28, 28)\n",
      " y_test:(10000,)\n",
      "\n"
     ]
    }
   ],
   "source": [
    "print(\"shape...\\n X_train:{}\\n y_train:{}\\n X_val:{}\\n y_val:{}\\n X_test:{}\\n y_test:{}\\n\".format(X_train.shape, y_train.shape, X_val.shape, y_val.shape, X_test.shape, y_test.shape))"
   ]
  },
  {
   "cell_type": "code",
   "execution_count": 7,
   "metadata": {},
   "outputs": [
    {
     "name": "stdout",
     "output_type": "stream",
     "text": [
      "X_train [shape (50000, 28, 28)] sample patch:\n",
      " [[ 0.          0.29803922  0.96470588  0.98823529  0.43921569]\n",
      " [ 0.          0.33333333  0.98823529  0.90196078  0.09803922]\n",
      " [ 0.          0.33333333  0.98823529  0.8745098   0.        ]\n",
      " [ 0.          0.33333333  0.98823529  0.56862745  0.        ]\n",
      " [ 0.          0.3372549   0.99215686  0.88235294  0.        ]]\n",
      "A closeup of a sample patch:\n"
     ]
    },
    {
     "data": {
      "image/png": "[encoded data removed]",
      "text/plain": [
       "<matplotlib.figure.Figure at 0x7f4698edf9e8>"
      ]
     },
     "metadata": {},
     "output_type": "display_data"
    },
    {
     "name": "stdout",
     "output_type": "stream",
     "text": [
      "And the whole sample:\n"
     ]
    },
    {
     "data": {
      "image/png": "[encoded data removed]",
      "text/plain": [
       "<matplotlib.figure.Figure at 0x7f4696a93860>"
      ]
     },
     "metadata": {},
     "output_type": "display_data"
    },
    {
     "name": "stdout",
     "output_type": "stream",
     "text": [
      "y_train [shape (50000,)] 10 samples:\n",
      " [5 0 4 1 9 2 1 3 1 4]\n"
     ]
    }
   ],
   "source": [
    "# X contains rgb values divided by 255\n",
    "print(\"X_train [shape %s] sample patch:\\n\" % (str(X_train.shape)), X_train[1, 15:20, 5:10])\n",
    "print(\"A closeup of a sample patch:\")\n",
    "\n",
    "plt.imshow(X_train[1, 15:20, 5:10], cmap=\"Greys\")\n",
    "plt.show()\n",
    "print(\"And the whole sample:\")\n",
    "plt.imshow(X_train[1], cmap=\"Greys\")\n",
    "plt.show()\n",
    "print(\"y_train [shape %s] 10 samples:\\n\" % (str(y_train.shape)), y_train[:10])"
   ]
  },
  {
   "cell_type": "markdown",
   "metadata": {},
   "source": [
    "# Linear model\n",
    "\n",
    "Your task is to train a linear classifier $\\vec{x} \\rightarrow y$ with SGD using TensorFlow.\n",
    "\n",
    "You will need to calculate a logit (a linear transformation) $z_k$ for each class: \n",
    "$$z_k = \\vec{x} \\cdot \\vec{w_k} + b_k \\quad k = 0..9$$\n",
    "\n",
    "And transform logits $z_k$ to valid probabilities $p_k$ with softmax: \n",
    "$$p_k = \\frac{e^{z_k}}{\\sum_{i=0}^{9}{e^{z_i}}} \\quad k = 0..9$$\n",
    "\n",
    "We will use a cross-entropy loss to train our multi-class classifier:\n",
    "$$\\text{cross-entropy}(y, p) = -\\sum_{k=0}^{9}{\\log(p_k)[y = k]}$$ \n",
    "\n",
    "where \n",
    "$$\n",
    "[x]=\\begin{cases}\n",
    "       1, \\quad \\text{if $x$ is true} \\\\\n",
    "       0, \\quad \\text{otherwise}\n",
    "    \\end{cases}\n",
    "$$\n",
    "\n",
    "Cross-entropy minimization pushes $p_k$ close to 1 when $y = k$, which is what we want.\n",
    "\n",
    "Here's the plan:\n",
    "* Flatten the images (28x28 -> 784) with `X_train.reshape((X_train.shape[0], -1))` to simplify our linear model implementation\n",
    "* Use a matrix placeholder for flattened `X_train`\n",
    "* Convert `y_train` to one-hot encoded vectors that are needed for cross-entropy\n",
    "* Use a shared variable `W` for all weights (a column $\\vec{w_k}$ per class) and `b` for all biases.\n",
    "* Aim for ~0.93 validation accuracy"
   ]
  },
  {
   "cell_type": "code",
   "execution_count": 8,
   "metadata": {},
   "outputs": [
    {
     "name": "stdout",
     "output_type": "stream",
     "text": [
      "(50000, 784)\n",
      "(10000, 784)\n"
     ]
    }
   ],
   "source": [
    "X_train_flat = X_train.reshape((X_train.shape[0], -1))\n",
    "print(X_train_flat.shape)\n",
    "\n",
    "X_val_flat = X_val.reshape((X_val.shape[0], -1))\n",
    "print(X_val_flat.shape)"
   ]
  },
  {
   "cell_type": "code",
   "execution_count": 9,
   "metadata": {},
   "outputs": [
    {
     "name": "stdout",
     "output_type": "stream",
     "text": [
      "(50000, 10)\n",
      "[[ 0.  0.  0.  0.  0.  1.  0.  0.  0.  0.]\n",
      " [ 1.  0.  0.  0.  0.  0.  0.  0.  0.  0.]\n",
      " [ 0.  0.  0.  0.  1.  0.  0.  0.  0.  0.]] [5 0 4]\n"
     ]
    }
   ],
   "source": [
    "import keras\n",
    "\n",
    "y_train_oh = keras.utils.to_categorical(y_train, 10)\n",
    "y_val_oh = keras.utils.to_categorical(y_val, 10)\n",
    "\n",
    "print(y_train_oh.shape)\n",
    "print(y_train_oh[:3], y_train[:3])"
   ]
  },
  {
   "cell_type": "code",
   "execution_count": 10,
   "metadata": {
    "collapsed": true
   },
   "outputs": [],
   "source": [
    "# run this again if you remake your graph\n",
    "s = reset_tf_session()"
   ]
  },
  {
   "cell_type": "code",
   "execution_count": null,
   "metadata": {
    "collapsed": true
   },
   "outputs": [],
   "source": [
    "#tf.get_variable?"
   ]
  },
  {
   "cell_type": "code",
   "execution_count": 11,
   "metadata": {
    "collapsed": true
   },
   "outputs": [],
   "source": [
    "# Model parameters: W and b\n",
    "\n",
    "\n",
    "### YOUR CODE HERE ### tf.get_variable(...) with shape[0] = 784\n",
    "W = tf.get_variable(\"W\", shape = (784, 10), dtype=tf.float32, trainable=True)\n",
    "\n",
    "## YOUR CODE HERE ### tf.get_variable(...)\n",
    "b = tf.get_variable(\"b\", shape = (10, ), dtype=tf.float32, trainable=True)"
   ]
  },
  {
   "cell_type": "code",
   "execution_count": 12,
   "metadata": {
    "collapsed": true
   },
   "outputs": [],
   "source": [
    "# Placeholders for the input data\n",
    "### YOUR CODE HERE ### tf.placeholder(...) for flat X with shape[0] = None for any batch size\n",
    "\n",
    "### YOUR CODE HERE ### tf.placeholder(...) for one-hot encoded true labels\n",
    "\n",
    "input_X = tf.placeholder(shape=(None, 784), dtype=tf.float32)\n",
    "input_y = tf.placeholder(shape=(None, 10), dtype=tf.float32)"
   ]
  },
  {
   "cell_type": "code",
   "execution_count": 13,
   "metadata": {
    "collapsed": true
   },
   "outputs": [],
   "source": [
    "# Compute predictions\n",
    "### YOUR CODE HERE ### logits for input_X, resulting shape should be [input_X.shape[0], 10]\n",
    "logits = tf.matmul(input_X, W) + b\n",
    "\n",
    "\n",
    "### YOUR CODE HERE ### apply tf.nn.softmax to logits\n",
    "probas = tf.nn.softmax(logits)\n",
    "\n",
    "\n",
    "### YOUR CODE HERE ### apply tf.argmax to find a class index with highest probability\n",
    "classes = tf.argmax(probas, 1)\n",
    "\n",
    "\n",
    "# Loss should be a scalar number: average loss over all the objects with tf.reduce_mean().\n",
    "# Use tf.nn.softmax_cross_entropy_with_logits on top of one-hot encoded input_y and logits.\n",
    "# It is identical to calculating cross-entropy on top of probas, but is more numerically friendly (read the docs).\n",
    "\n",
    "### YOUR CODE HERE ### cross-entropy loss\n",
    "loss = tf.reduce_mean(tf.nn.softmax_cross_entropy_with_logits(logits=logits, labels=input_y))\n",
    "\n",
    "# Use a default tf.train.AdamOptimizer to get an SGD step\n",
    "### YOUR CODE HERE ### optimizer step that minimizes the loss\n",
    "step = tf.train.AdamOptimizer(0.001).minimize(loss)\n",
    "\n"
   ]
  },
  {
   "cell_type": "code",
   "execution_count": 14,
   "metadata": {
    "scrolled": false
   },
   "outputs": [
    {
     "data": {
      "text/html": [
       "<img src=\"data:image/jpeg;base64,/9j/4AAQSkZJRgABAQAAAQABAAD/2wBDAAIBAQEBAQIBAQECAgICAgQDAgICAgUEBAMEBgUGBgYFBgYGBwkIBgcJBwYGCAsICQoKCgoKBggLDAsKDAkKCgr/2wBDAQICAgICAgUDAwUKBwYHCgoKCgoKCgoKCgoKCgoKCgoKCgoKCgoKCgoKCgoKCgoKCgoKCgoKCgoKCgoKCgoKCgr/wAARCAEgA2ADASIAAhEBAxEB/8QAHwAAAQUBAQEBAQEAAAAAAAAAAAECAwQFBgcICQoL/8QAtRAAAgEDAwIEAwUFBAQAAAF9AQIDAAQRBRIhMUEGE1FhByJxFDKBkaEII0KxwRVS0fAkM2JyggkKFhcYGRolJicoKSo0NTY3ODk6Q0RFRkdISUpTVFVWV1hZWmNkZWZnaGlqc3R1dnd4eXqDhIWGh4iJipKTlJWWl5iZmqKjpKWmp6ipqrKztLW2t7i5usLDxMXGx8jJytLT1NXW19jZ2uHi4%2BTl5ufo6erx8vP09fb3%2BPn6/8QAHwEAAwEBAQEBAQEBAQAAAAAAAAECAwQFBgcICQoL/8QAtREAAgECBAQDBAcFBAQAAQJ3AAECAxEEBSExBhJBUQdhcRMiMoEIFEKRobHBCSMzUvAVYnLRChYkNOEl8RcYGRomJygpKjU2Nzg5OkNERUZHSElKU1RVVldYWVpjZGVmZ2hpanN0dXZ3eHl6goOEhYaHiImKkpOUlZaXmJmaoqOkpaanqKmqsrO0tba3uLm6wsPExcbHyMnK0tPU1dbX2Nna4uPk5ebn6Onq8vP09fb3%2BPn6/9oADAMBAAIRAxEAPwD9/KKKKACiiigAooooAKKKKACiiigAooooAKKKKACiiigAooooAKKKKACiiigAooooAKKKKACiiigAooooAKKKKACiiigAooooAKKKKACiiigAooooAKKKKACiiigAooooAKKKKACiiigAooooAKKKKACiiigAooooAKKKKACiiigAooooAKKKKACiiigAooooAKKKKACiiigAooooAKKKKACiiigAooooAKKKKACiiigAooooAKKKKACiiigAooooAKKKKACiiigAooooAKKKKACiiigAooooAKKKKACiiigAooooAKKKKACiiigAooooAKKKKACiiigAooooAKKKKACiiigAooooAKKKKACvPfjt%2B1J8FP2b5NGsfil4g1Maj4ilnTQNB8OeF9R1zVNR8lVed4bHTbee5kjiVkMkixlI96biu5c%2BhV4N%2B0P8D/j5/wANJ%2BDv2tv2bLLwfrWueH/B2seFNX8KeOdcutLtLywv7mwuxcQXtraXj288U2noCpt3WVJSCUKK1ABpf/BTL9izWLvxPb2nxXv0h8FWsk/jLUrvwXrEFjoIS0iu9l5dy2iwWsrQzRskMjrJIWKorMrKL2n/APBQ/wDZK1HwBrXxFTx/q9vB4f1ay0vVdE1DwNrNrrkV5ebfscC6PNaLqEr3AYGER27eaAxTcFYjy2b9gH4y%2BMf2a/jn8NfGHinwppHin4o/FS38daHc6U1xeWFpeW0OiywQ3IkihkkiN3pRRwoyYHGDuJVaPi79i/8AaV%2BLmr/Ef45fG34S/CjWvFnjWx8KaPp/gKy%2BI2s2Wm6fY6Hcaldw3qa7b6al5DqDXOqTOksVoPJSKNFZiWcgHsviH9vv9mzwv4a8OeI9XvvG3meK0v5NE8P2vwm8SXGuSRWUscV3NJpMWntf28MLzQq8s0CIpmiy37xM%2Bmaz8RPBHhv4e3XxX8T%2BJbbSvDljo76rf6vqrfZYbSySIzPPMZdvlKsYLNvxtAOcYNfGHin9hH9s/WPgX4X8Nay3hfxV470a58RHRfGV/wDHbxNpGr%2BCLW%2BuUktLO11q1sJLzXIYkjhEy3qw/aTbReYCFGPUfjR/wTotfj1%2Bzb4n%2BHHxD%2BOfjW78d%2BMPhfH4Z17xS3jbWho818tpDE2oJoS3y2FuzzQLK3kRRSEPIBIrSM5AOkg/4KUfsZf8K58V/FbWPite6Jo3giysr7xQ/ifwdq%2Bk3NlZXkxhtb37LeWsVxJaSyK6pcxxtC3luQ%2BEYjj/AI3f8FZP2d/hn8ENU%2BMfgPRfFXiqbQfiD4X8L674Y/4QXXbHU7A6zqVrax3T2cmnNdeV5Fw88DeT5d48aW8MhknjB8r1T/gmJ8ZPHfwq8faR4i8DeG9G8Y%2BI9D0fR7DxDqv7RfjPxut3aWusW%2BoTRyf27AfsEZ8likUSzHe%2BGkxknv8A9qH9gz40/GD4g/F/4g%2BBfEPheOTxfB8LbzwlZ6tfXMSvf%2BE/EdzrUsN40dvJ5ENwGt4VljEzrl2MfyKrgHqFh/wUE/Zb1H4m2XwZh8T%2BJo/Fd5oun6xLoF38N9egudO0%2B9adILu/SSyU6dDut5VeS68pYiFEhQum6j4a/wCCmH7FPi3wZ4s%2BIWkfGC4TR/Bfgi68Zaxe6h4S1W0Fx4et0Z5tWsVntUbVLNVQ4nsxPGxZArEugbB0P9kP4ofEP4mfG74g/G9fD2gxfGj4O%2BHfCF1Y%2BE9duNRl0u4tE11Ltlnns7XzYwNViMT7FZikm6OPA3fN37Y37Kn7UOj/ALDHxS%2BJv7TF34AtIfhD%2BxT8QfBHhePwFqF5cNrzXukWxn1G6W5toBYqE0i3CWcbXAVppCZ22oKAPrPw9/wUl/Yy8TaHrHiPT/i1dQWehppU1/JqnhLVbJmtNSu1s7HUIUuLVGubCWdgovoQ9qoDO0qorMPT9E%2BLvw88R/FLX/gvofiH7T4k8LaXp%2Boa/YR2k22zgvmuBa7pinlF3%2ByzHy1cyKoRmVVkjLfJOofsz%2BIPFegeKfjb/wAFIvF/wz8J%2BBbf9nu5%2BHUlx4f8QTLay6beyQyXmq3k17BbpYOTBbCG2QzCAmT/AEiQsuOw/wCCPngP4u2f7I9r8f8A9pDUDf8AxJ%2BL15H4n8V6g9nJbtJCLSCy01fKl%2BeH/iX2lpI0TYKSzTZAYtkA%2BqqKKKACiiigAooooAKKKKACiiigAooooAKKKKACiiigAooooAKKKKACiiigAooooAKKKKACiiigAooooAKKKKACiiigAooooAK8R0j/AIKMfse6ld69Z6n8Urzw83hzw5c%2BINQk8a%2BEdV0GObSbd0jnv7WTUrWBb63R5IlaW2MqAyxjOXXPtN7FczWcsNndCCZ4mWKYx7/LYjhtp64POO9fmJq//BHL9uX4v6t4X1z43fHHQ31vw14P1Cz1DxRqHxW8TeJx4h1v7ZpV9a6idLvoobLSbaS50xfPsLIBRHJtWWQKgUA%2B2X/b/wD2YbX4aN8WNY8QeKtK0ttcg0axs9c%2BGWv2GqanfzIZIYLLTbixS9v2kQM6/Z4ZAyo7AkIxHReA/wBqz4H/ABH1%2By8J%2BHPEOqQ6vf8AhSfxJDpGteFdS0y7TTYbv7JLLLDeW8UkDrP8hhkVZe%2BzbzXk3xO%2BDn7bvxib4e/G3XPBvwq0P4h/Cjx1NrHh/wAM2vjjUr/Rdcs7jSbvTLmO4vn0qGaxmKXskkbpa3AjMQU%2BYJGxV%2BJPwG/bg1/4y%2BHf2mvA%2BjfCu08WX3ww1XwX4x0LUvFepSWGkLcX8N1a39lcJpwk1AxCN1kt5YrQSlxiWLHIB3Gk/wDBRv8AZA8R694F8LeFfiNqus6n8SfBuleLfBunaJ4H1m9nvND1F9lrqMiQWjNa2%2B7HmSTiNbcMpm8oMCdj4a/tufs3fFf4jXPwn8M%2BL9Ws9ft9LudThsvE/gzVtEW/sbeRI57uyl1G1gjv4I3liDy2zSIvmISQGUnyj9hT9hL4sfsw6/8ADjWfHniDw1dnwd%2Byl4R%2BGN%2B%2BkXM8rNq2lvM1zNF5kEe61bemxmKu235o0wK8a%2BGn/BKv9sbxP8UfC/ib9qb4w2eqRaf4A8V%2BF/GniaD4v%2BJNavPEUur2KW39p2umX0Men6EcqWNpaKUXKgTOI1WgD6l8J/8ABRf9kfxrosfirQfHeuf2Hcarpen6f4lvfh/rdrpWoy6lex2VlJaX09mlteQS3M0UYuIJHhBlQs4VgT6X4W%2BLvw88a/EDxT8LvC/iH7XrnguSzj8T2iWkwWxkuoPtEEZlZBG7tCVkKIzMiyRlgokTd8w%2BOPAnxF8K/wDBPbxp8CP%2BChnif4VeCPAWg/DSLQLb4meHfFt2GadI0trXUntLqzgTTZlmFvJDBHcXTGcoiOTtDdr/AMEr/h98WPDf7ImlfFX9oqwS3%2BJ3xYvpfHXxEhW3aL7Pf36xmG02N8yfZbGOys9pyQLXBoA%2BjaKKKACiiigAooooAKKKKACiiigAooooAKKKKACiiigAooooAKKKKACiiigAooooAKKKKACiiigAooooAKKKKACiiigAooooAKKKKACvF/j14/8A2i/%2BGi/AvwI%2BAvjPwV4fTX/BXiXXtX1Pxf4Lu9aJOnXeh28MMMdvqVj5Yb%2B1JWZmZ8%2BWgAXkn2ivCviLrSWX/BSr4Q6LIoxe/BP4hsjZ53R6t4NOPyZj%2BFJtLcuEJVHaPZv7tWX/APhB/wDgoX/0dB8Gf/DD6t/81FH/AAg//BQv/o6D4M/%2BGH1b/wCaivZqKZB4z/wg/wDwUL/6Og%2BDP/hh9W/%2Baij/AIQf/goX/wBHQfBn/wAMPq3/AM1FezUUAeM/8IP/AMFC/wDo6D4M/wDhh9W/%2Baij/hB/%2BChf/R0HwZ/8MPq3/wA1FezUUAeM/wDCD/8ABQv/AKOg%2BDP/AIYfVv8A5qKP%2BEH/AOChf/R0HwZ/8MPq3/zUV7NRQB4z/wAIP/wUL/6Og%2BDP/hh9W/8Amoo/4Qf/AIKF/wDR0HwZ/wDDD6t/81FezUUAeM/8IP8A8FC/%2BjoPgz/4YfVv/moo/wCEH/4KF/8AR0HwZ/8ADD6t/wDNRXs1FAHjP/CD/wDBQv8A6Og%2BDP8A4YfVv/moo/4Qf/goX/0dB8Gf/DD6t/8ANRXs1FAHjP8Awg//AAUL/wCjoPgz/wCGH1b/AOaij/hB/wDgoX/0dB8Gf/DD6t/81FWtf%2BN/7InwptNI0n46fGH4c%2BHNc1DRYNQNt4u8Q2Fpd3EcmR5%2B24dXZGdJAG6ZRhnggZv/AA1//wAE4P8Ao6L4I/8AhbaP/wDHa5p4zB05OM6sU10cop/c5JntYfhviTF0I1qGBrzhJXUo0a0otd1KNGUWtHqm1puWP%2BEH/wCChf8A0dB8Gf8Aww%2Brf/NRR/wg/wDwUL/6Og%2BDP/hh9W/%2Baiq//DX/APwTg/6Oi%2BCP/hbaP/8AHa9O0DRfhZ4r0Ky8U%2BFtJ8P6lpmpWkd1p2o6fBBNBdQSKHjljkQFXRlIZWUkEEEHBq6WJw9dtU5xlbtJP8mznx2TZzlcIzxuFq0lJ2TqU6lNN72TnTgm7a2Tbtra2p5z/wAIP/wUL/6Og%2BDP/hh9W/8Amoo/4Qf/AIKF/wDR0HwZ/wDDD6t/81FeefD7/go1%2Bxf4v8D2fjDxD8PfE%2Bgz6p441rwtomjXPwe1ue81a9064v45FtIodPZ7omHT552WJXMIBjk2SKyjsviF%2B1R%2By14FsvHtpeaJFp%2BseAvCGteIby28WeBNW0mzu7PTF/0ue3upNOcXtvEzRCSWyS6KiaNgj70V9jzTR/4Qf/goX/0dB8Gf/DD6t/8ANRR/wg//AAUL/wCjoPgz/wCGH1b/AOaiqth%2B1Z%2BxhqHxnk/Z%2BhvLf/hKLfxBHoN1H/wg1%2BLCHVX06PUo7FtQa0Fos72kqTJGZQzg4UFgVGz8a/ir8FfhJ%2Bzzrv7Q%2Bj%2BEdG8Uadpdg0mm2%2BhrbSDVbppRBBaxTAFA0lwyQ7idqsxLdDQBQ/4Qf/goX/0dB8Gf/DD6t/8ANRR/wg//AAUL/wCjoPgz/wCGH1b/AOain/s4fEC2%2BLl54y8D/FH4FeG/CvjDwH4gh0zX9K0fUV1WxkWextr23uba6ktLZ5Y3iuVU74I2WWKVcMoV38k%2BJn7aPiH4DeGfifL8cv2Q/BGneIPAHwsHjuy03QvHQvrO6sjPPAILy6k0uBrCbfA3Kw3EbKshR38phQB6x/wg/wDwUL/6Og%2BDP/hh9W/%2Baij/AIQf/goX/wBHQfBn/wAMPq3/AM1FeaeNP22/h18Pv2fPC3xc8Q%2BF/gbd6h438VyaJ4au9E%2BLME/hT93bXF1Lc3WuyabELeNIbS4DbbaQ%2Bb5US7mkGOn8T/HPXfCfiX4J2t1%2Bzj8P9S0L4r6umk6p4j0HxqLuHS7uTTb2/iayH9nKNSt3SyYCZmtjiRGCHlaAOk/4Qf8A4KF/9HQfBn/ww%2Brf/NRR/wAIP/wUL/6Og%2BDP/hh9W/8AmorL8SfFfxB4A/aR8IfCH4g/s0eD7bwz8QPEN9ovhLxDpXiYXWpNPbaXdaiZrvTmsI0t7Zo7KZPMjuZisklurIvm5TnvhP8AtU2fx%2B%2BInxZ8AfBf9mLQdQHgXSdJvvBWrarrcdpa%2BL47y41O1aXK2crWdutxpVwEmAn8%2BIpKi7XTcAdr/wAIP/wUL/6Og%2BDP/hh9W/8Amoo/4Qf/AIKF/wDR0HwZ/wDDD6t/81Feb6J%2B2FL45%2BCXwR8a/D79lzwhL4v%2BNWhyapZeHtf8WCx0vS44LD7Zco%2Borp0skzgYWNVtQZBvdhGqMRw/ib/gqt8FoLj4bXvgb4D%2BFL7T/iL4L8OeI9Jttc8UQafq2sDVr57M6fodmtpMms3to0e%2B5iWaFY1ntyHYS7lAPoD/AIQf/goX/wBHQfBn/wAMPq3/AM1FH/CD/wDBQv8A6Og%2BDP8A4YfVv/mornF/ab8Faz%2B2y/7H3gn4CaVqUEPgnWdUuPGUtzFDbLq%2Bny6SJNIWIW7lyItYtJJLgNtjLiMJI4kEfndp/wAFFvhrpPgv4j6v43%2BEPwzm1HwDrWh6Mt74J%2BIMGreHbnU9UuXtksp9WmsLUWc1q6CW9R4WNtbyxS/vC/lgA9n/AOEH/wCChf8A0dB8Gf8Aww%2Brf/NRR/wg/wDwUL/6Og%2BDP/hh9W/%2BaivPfip%2B0v438A/scTftf%2BFf2f8A4H%2BK9M0jQNU1jXxoXxbnuNPlt7bJgXTL2DQZf7Qlm2smxooNsu2NTLu3C38Uf2nLj4L/ABN%2BGfw/%2BIvwA%2BGkFx8RLzSdPTw7ZeP1m8TxXl06R3T2ulnTVW%2Bs7Jn8ye5W4j2wRTSmMbAjAHb/APCD/wDBQv8A6Og%2BDP8A4YfVv/moo/4Qf/goX/0dB8Gf/DD6t/8ANRXmvxH/AGuNf%2BBHxa8X%2BE/jj%2Byr4Et/C/g34S678QtW8QeEfGUup3tvpthKqW0U1lNpFqqT3YFyY1SeQA2U43HCls/xd%2B3XpPwe8O%2BItB/aE/Zs8EeEviBo%2BpaFb2OgyeN4X0W4h1dLl7a6n1aaxh%2ByxRCw1I3BNu5jFhIY/P3xhgD1r/hB/wDgoX/0dB8Gf/DD6t/81FUPA/jj9qzwd%2B1Z4c%2BCPxu%2BI/w98TaN4m%2BHviHXIZvCvw8vtFurS602%2B0S3RWe41e%2BSWN01SUlQiMGiQhsZB6b4e6lpPxA%2BANv8VJfDfgm2v73R5722u/AevrrGncbzFLa6gLa3NwjKqPv8pOSVwcZOR44/5SF/C/8A7Iz48/8ATt4QoA9mooooAKKKKACiiigAr5x%2BE3ir9u/466Pr3jvwv8b/AISaBpdv8QvFWh6XpV/8H9Uv7iK10vXr/TIWluE8RQLLI8dmrsyxRrucgKABX0dXjP7B/wDyRDXP%2ByzfEf8A9TXW6AD/AIQf/goX/wBHQfBn/wAMPq3/AM1FH/CD/wDBQv8A6Og%2BDP8A4YfVv/mor2aigDxn/hB/%2BChf/R0HwZ/8MPq3/wA1FH/CD/8ABQv/AKOg%2BDP/AIYfVv8A5qK9mooA8Z/4Qf8A4KF/9HQfBn/ww%2Brf/NRR/wAIP/wUL/6Og%2BDP/hh9W/8Amor2aigDxn/hB/8AgoX/ANHQfBn/AMMPq3/zUUf8IP8A8FC/%2BjoPgz/4YfVv/mor2aigDxn/AIQf/goX/wBHQfBn/wAMPq3/AM1FH/CD/wDBQv8A6Og%2BDP8A4YfVv/mor2aigDxn/hB/%2BChf/R0HwZ/8MPq3/wA1FH/CD/8ABQv/AKOg%2BDP/AIYfVv8A5qK9mooA8Z/4Qf8A4KF/9HQfBn/ww%2Brf/NRR/wAIP/wUL/6Og%2BDP/hh9W/8Amor2aigDxn/hB/8AgoX/ANHQfBn/AMMPq3/zUUf8IP8A8FC/%2BjoPgz/4YfVv/mor2aigDxn/AIQf/goX/wBHQfBn/wAMPq3/AM1FH/CD/wDBQv8A6Og%2BDP8A4YfVv/mor2aigDxn/hB/%2BChf/R0HwZ/8MPq3/wA1FH/CD/8ABQv/AKOg%2BDP/AIYfVv8A5qK9mooA8Z/4Qf8A4KF/9HQfBn/ww%2Brf/NRR/wAIP/wUL/6Og%2BDP/hh9W/8Amor2aigDxn/hB/8AgoX/ANHQfBn/AMMPq3/zUUf8IP8A8FC/%2BjoPgz/4YfVv/mor2agkKCzEADqTQB4z/wAIP/wUL/6Og%2BDP/hh9W/8Amoo/4Qf/AIKF/wDR0HwZ/wDDD6t/81Feo3njrwTp8v2e/wDGOlQSDqk2oRKfyLVF/wALI%2BHf/Q%2B6L/4NIf8A4qo9pTXVfev8yHVpL7S%2B9f5nmf8Awg//AAUL/wCjoPgz/wCGH1b/AOaij/hB/wDgoX/0dB8Gf/DD6t/81Femf8LI%2BHf/AEPui/8Ag0h/%2BKqnrfxr%2BDXhq1N94j%2BLXhnT4B1mvdet4k/NnApOrSSu5L71/mS69CKu5r71/mef/wDCD/8ABQv/AKOg%2BDP/AIYfVv8A5qKP%2BEH/AOChf/R0HwZ/8MPq3/zUU/WP%2BCh/7Bugzta6l%2B2P8M1kT76ReNLKUqfQ7JDg%2B1c9rX/BVz/gnPoERmvv2vfB8gHayvWuT%2BUKsa5ZZnlsPirwX/b8f/kjjnnGUU/ixNNf9vw/%2BSN7/hB/%2BChf/R0HwZ/8MPq3/wA1FH/CD/8ABQv/AKOg%2BDP/AIYfVv8A5qK8v1b/AILl/wDBMTTHaK3/AGipr%2BROqWHg/Vn/ACY2oU/nWGf%2BC/f/AATZS4ME3xF8RRgHiR/CF2Af/Hc/pXNLP8ji9cTT/wDAkZ088yesm6deMrfyvm/GMZL8T2z/AIQf/goX/wBHQfBn/wAMPq3/AM1FH/CD/wDBQv8A6Og%2BDP8A4YfVv/morxS%2B/wCC/f8AwTStIRJb/FHXbpiP9XB4RvAw9vnRR%2BtY4/4OGP2BbmUwaPpfxD1BweFsvCisT%2BBmFRLiPIIuzxUP/Ar/AJJnRSzDCV1elJyXeMakl98aUkvm0fQf/CD/APBQv/o6D4M/%2BGH1b/5qKP8AhB/%2BChf/AEdB8Gf/AAw%2Brf8AzUV4Ta/8F2P2fda%2BXwj%2Byx8fNaYj5Rpnw/hkB/8AJsH9KzNa/wCCyXxx1fK/Bv8A4JO/HLXiThX1XRJ7FAfdora4A/Ok%2BI8lSvGrzf4Yzl%2BUGXDFwrT5KMJzfaNKrL/3Gl/5MfRP/CD/APBQv/o6D4M/%2BGH1b/5qKt/srfEb40%2BMNY%2BKHgT46a/4X1bVPAPxCi0Oz1Xwn4audJt7q1l0HR9TVnt7i9vGWRZNRlQsJdpWNDtU5z8r2X/BRL/grz4nkLeGv%2BCS9zaI5/drq%2BuvEVHuZRF/IV7D/wAExfGHxw8ej45eLf2j/hfbeDPGd38ZojrPhqzvkuY7Pb4T8OJDiRHcNvhWKQ4Y4LkHBGB0YLNsLj6jhSjPRXvKE4r75Ja%2BR0uGLhK1ahUp/wCOKj/7fJ3%2BS/Q%2BoqKKK9MYUUUUAFFFFABRRRQAUUUUAFFFFABRRRQAUUUUAFFFFABRRRQBj/ED4ifD/wCE3g6/%2BInxT8daN4Z8P6XEJNT13xBqcVlZ2iFgoaWaZlSMFmUZYgZIHeq978WfhXpvw0X40aj8S/D9v4ObSo9TXxZPrMCaYbGRFdLoXRfyvJZGVhJu2kMCDg1V%2BN3iLw94S%2BE%2Bu%2BIvFOhapqdla2RaSy0Xw1d6xdSOWAj8qzs4Zp5mDlTiONiuN3AUkfPP7JXx30z4T/8ABLr4fXfiX4B/FLVNZ8AfBbRU1XwL/wAKl1qLVrm/sLK3t3soLa6tIzLP9pTCAcEDzQfLUyAA%2BlPhz8T/AIafGLwlb%2BPvhH8Q9C8U6Fds62mteHNWhvrSYoxVwk0LMjFWBU4PBBBr55/aE1n%2By/8AgrP%2BzPY78f2j8MfiZb49cSeGJcf%2BQv0ro/8AgndYXV78LvFPxT8T2er2nivx/wCOrjxD400/UvBWq6FBYag9nZ26WlpBqlrbTzwQ2ttaRG68sLcTRzy4RneNPEf2oZfir4d/4La/smXXjnxp4fv9B1TRPiVb%2BHLDSvDU9ldWEZ0/SmZLq4kvZ0vGZ1i2skNuF2tlX3Dby4yfs6HN5x/GUV%2Bp7vDmG%2Bt5p7LvTrP/AMBoVpf%2B2n3bRRRXUeEFFFFABRRRQAUUUUAFFFFABRRRQAUUUUAeZ6l%2BzJ%2Bzb8aNH0HxT8Yv2e/A/izU7fw/a2sGo%2BJfCdnfzxwKpdYlknjZggZ3YKDgF2OMk1S/4YH/AGFf%2BjLPhL/4bnTP/jFcn8Xv%2BCkH7F/7H0vhz4aftF/GX/hHdbvvClnqdrZf8I7qN3vtX3xLJvtbeRBl4ZRtLBvlzjBBPIf8Pzf%2BCWX/AEdF/wCWTrn/AMhV4uIxfDtOvKNedJTT15vZ3v53V7%2BpovEPEZUvqkc4nSVPTkWJqQUetlFV4qO%2Byit9tT1v/hgf9hX/AKMs%2BEv/AIbnTP8A4xXp2gaBoXhTQrLwt4W0W003TNNtI7XTtO0%2B2WGC1gjUJHFHGgCoiqAqqoAAAAGBXyt/w/N/4JZf9HRf%2BWTrn/yFX094B8deFfih4E0X4l%2BBdU%2B3aJ4i0i21PR73yHi%2B0WtxEssUmyRVdNyOp2soYZwQDxXRgcRk9aclg5U20teTlvbz5UtL9xS4uq8Sfup5jLE8mtnXnV5b6XtKrUtfa6SvtfoeE/DD9hfxX4A8eeFNa1P4z6bqGg%2BB/ih4q8X%2BGtLh8ISQXYXXf7Wee0uLk3rpKYpdVYpKkMX7uEIyFmMg8j1r/gjDLr3inx74kvPjt4diuPGXgLx/4X/tq1%2BF6JrdzH4mkVxcarqJvi%2BqPZbRHCgW3Tyxt2pgMPdrD9vz4R6vp1jNpPhTxHNfXWi%2BLdSu9Jl%2BwW8ulp4cvVsNRju5J7tIIGF26QIzS%2BWxJYusau68J4N/4KfeB/jtN8ONR%2BAkFnLY678Z9R8DeN4L%2B%2BsdSl082/g3V/EKG2udKvrizldjaWB3pPMgSaaNgkqnyvSIOuk/YYD%2BIdV18fFDB1P466T8RzENE/1f2LSNP037Bnz/AJt/2DzPOwNvm7fLbbubvPjX8DtQ/aA/Z5134JeP/GMVvf61YNGniDQ9LMAsrpJRNa3UUEssuWhlSF9rOyu0ZzgNgfPHi3/gqtK/wQ8KeNfhF8Kdf8R3uqQfD2TxH4pl8PwW%2BjaK3iS705UguYBqTXMdw1re%2BaqQG6igaaDzZmUkt9IfGH48eH/hJ8AvHnx9utG1K5sfAXh/WNUvrK40%2Ba0luBp0MssqxidFLK3ksElUNG4IZGZSCQDnfgL%2Bz/8AFD4U6v4i8d%2BNfi1ofiHxV448Wxat401Gy8HzWFpJawaZFYW9lY27X0zWmz7PBKZJZbkszXA2qJU8ni/2cf2S/wBqf4H6L44v/Fn7THw/8WeMfGt2dRu/Gdz8Ir2Cea%2BDgQi5jOuyLLZwQAW8NpCbcRqAwcu0jPt/stfGz4/eIfip4m%2BA37So8I3PiLRvBXh3xXa6l4L0q5srQWuqyalAbJo7m5uHeW3n0ubM4dFlSaMiKMhlrmvGX7RP7VHwy%2BPGv/CO%2BufA3jSWT4X%2BIvF2j6V4X8KX9ve%2BHjaTQx6ZDfs19OL0XhkmjQxpauz2U3lo6q5iAK6f8E8/F4cfFGb4zeG5finF8YX%2BItr4hk%2BHj/2FBqL6APD7wrpQ1ATCI2A3Fvtvmm5PnGQj91UOpfsB/Gzw98Pvg18Pfgx%2B0h4U0iD4U%2BKrjxNdzeJPhjcakdX1KeO/SQRJb6taLZWoGp3OyACUoFhUSbYyH5bT/wBt/wDaav8A9kO/%2BIeg69omvfEzT/FHhay8R%2BG7T9njxTaXfhSz1G8s47yW40CS/fUr7ybeW6njliaJJBASoYI1dF8dP2wPi34H/Yqsf2qfhT8ZPCHiUadaamdamsfgZ4hvYtVvLcygWptbfUfP8PiKS2nt7me%2BaWO3kGZfK2FCAdbp37Ivxmu/2t/Ev7QvxD%2BOnhfxF4f13TJdE0vw5ceAryDUvD2iPCBJY2Gox6uI4WmuFW4nuPshlmKRplVhg8rP%2BCf/AATm8M/srfErxn8T/wBmX4k6zpdxr3w70Twt4Y0jxt4g1/xLp2hLp0t7IkjQXerZuIiLqJI4VeH7OsMgikUXMoMfxa/ak%2BOnw0%2BOXwr0WN9AudA%2BI%2BrabZSeHB4E1NjYLcQuZpT4nW7/ALL8xHQtHaNAJrlQEi3F1auJ/ZZ/bv8A2kv2ifjXrnwhuLHwnp1zdeEfFGoaGl54J1Wzi0a/07VoNPtYheTXfkeKLZxM0k9zpvlJbmFI3KtcxYAOl8KfsDfF/R/2KPB/7IfjL4pfCDxjJ4Pkt7ez1fxf8B5NQsHsoLfy4WGnz6ywW%2BRyXF15pTBK%2BR1Y5fiD/glb9n8Mw/Cv4Y/HRNK8F3/w58N%2BDPFen634UGo6lcWWj3VzcRXNheLdQJYXUzXUxkkaCdRII5I0jdSWp3v/AAUG%2BLXhX9jj4d/EPxs3hlPH/wAQPilqfgW31TS/BmqXmlwXNndaxuuk0m2uJr65L2ujy%2BXaRzl3nljTzFUlhtfGH9qz4/8Ag/8AZU0v9qr4U/F/4XeLNPttPWOTSB4B1S1ufGestem1j0mwR9T8zSrqWYC0EU6XckdyzLIqiNhQBt2P/BNH4W%2BCP2ntH/ah%2BDnjrxVoGo6RpHi5Rol94017UtNl1XXruzu5b37JPqX2eOJZoJ5JLRIlinkuI5Dse2hYUPFf/BPrx38WLjxX4%2B%2BNfxv8Oap441q78IXWh6honw8kstG0ufw3qdxqVhLJp82o3Et27z3MqTsbpC0IjSMwsgkPct8Xfjho37fVj8BNevfClx4E8RfDPV/EOhxWei3Mer2d1p95o1s4nuWumhmjkOpTEIlvGyeUmXbJFeJfsj/t7ftK/tMeLtb8EaiPCmjXs3w/vNf015vhtrCJol1DqC2otojLeqvi232sxa90xoYA6RrkG6iAAPStP/YM1K7%2BE8Pw18a/F22vm1f4yw/EHx%2B%2Bm%2BGDZ2esyxXyX62FvbG5kNnbm5t7Nn3yXDSLFMH3G4Zl6f49fs6/F/48%2BMtH07V/jToGn/D/AErxboXiL%2BwbTwPKdaa60u9gvoo01Q3/AJUUMk9tGHAszIYnljEg3hl8m8H/ALY37QXjP9lD4k/Hi%2B%2BJPgjwsvwo8RasmueIfEPwh1eEanpVjpsF7JK2hXOrW19pFwGmeMR3MztIkKTKgjuYiMXXP%2BCgvxz8D%2BIPAfwd%2BN3inwN8PfGMHwk0Hxn8W9SvPhxresaZZzalcXFsbSJbW7QaXbwy2V2st/eztFHugBVt7bQD2rxV%2BxT4Z%2BJDfHhPib4wudSj%2BOXh%2BLw3ctZ2gt5dF0GPTHtI7KJy7%2BYy3F1qV2JcLh74rs%2BTc3Ear/wT0%2BIHjk33xN%2BLXx70HXvioviXw3q/h/xUnw8aDSdPOhi4%2BxRPph1B3mDG/wBReRluo2L3e6PyfLQDtdL%2BN3xl0L9tbxT8GPiDqHhWbwRB8N4/FHh46Xol1FqdptujbypdTvdPFcA7WdRHBEVGAS/WuS/4J3/tta3%2B2No6eNPEXjzw2g8QeFLDxLoXgiy8B6tpd9pen3ZZo3OoX05g1uMArE11ZQxwLKjAMwZaAPRPgt8B5f2dP2c9Z8AX/iuPW9Qvb7xDr2salbaZ9ht5L7U7261C4FvbeZJ9ngEty6pGZJGCgbnkcs7UfHH/ACkL%2BF//AGRnx5/6dvCFepeOf%2BRJ1j/sFXH/AKLavLfHH/KQv4X/APZGfHn/AKdvCFAHs1FFFABRRXO/Ff4r%2BAfgj4CvfiZ8TdcbT9HsHgjmmis5rmWSWaZIIIIoIEeWeaWaWOKOKNGkkkkREVmYAgHRUV53ZftW/AS%2B%2BBd1%2B0injpofCFjJPDfXt5pF3b3Ntcw3JtJLSSyliW6S6Fypg%2BytEJjLiMIXIU5Uv7bf7P6eAYviNa3fjC9spNXm0ubTtM%2BGGv3eq2V3EgkkiutNhsWvbQrGUcmeFBskjbOJELAHrNeM/sH/APJENc/7LN8R/wD1Ndbr1HwL448I/E3wVpHxH%2BH/AIhtdX0LX9Mg1HRtVsZQ8N5azRrJFMjDqrIysD6GvLv2D/8AkiGuf9lm%2BI//AKmut0AezUUUUAFFFFABRRRQAUUUUAFFc58S/jD8JvgxoZ8S/F34maB4Y0/nF5r%2Brw2kbEdlMrKGPsMmvnXXv%2BCyP7INzq0vhn4F2Pjn4uavE219N%2BGPgq6v2Vu37yRY4yO%2BVZhiuPE5jgMG7VqsYvs3r8kryfyR5%2BLzXLMBJRxFaMW%2BjfvP0iryfyifVtFfI7/trf8ABQ/4iIYfgn/wS31nT4pRiLV/iP45stMWDPRntADKw9QrZqGP9i79vb9opxqP7Yf7dd/4X06Q7j4J%2BBUB0qGPvtbUZg1xKvQFGUjg4PNcv9q%2B10w1Gc3/AIXCP/gU%2BX8Is4/7b9vpg6FSo%2B/K6cfnKoo/hGR9dXd7Z2EBur%2B7igiX70k0gVR%2BJrGvfil8MtNBbUfiLoNuB1M2rwpj82r5qs/%2BCKP7At3cLqHxH8E%2BJ/G94vS98X%2BO9SuZM9yQkyKT%2BFYnxD/YI/4ImfAWF7j4r/D34beG/JXcYvEPi6WOQ%2Bwjmudzn2AJPpU1MVm1OPPOnSgv71R/nyJfidWDo8X5lXVHB4OM5vaMZVKkvup0ZP7kfRev/tb/ALKnhWCS58TftMfD/T44lJka88Y2Ue0f8ClFeP8Ai3/gsp/wT08OaofD%2BhfG2bxXqfO3T/Bvh691JnA7h4ojGf8Avuvnyx%2BJ/wDwR0l1c6V%2Byn/wTovvjNe20u15PBXwna%2BtIXH/AD0nvVRQv%2B0Aw6V634R/aT/bktNMGh/s5/8ABHlPDGmnHly6/wCO9K0eKL03WkUe8/QHivM/tnFVXaFSn/3DhWq/ilGP/kzPt14W%2BLDSeNpYfBL/AKiKtOlK3%2BCvXpTXlekm%2BiZqH/grBH4k/c/CP9gH9onxO7/6m6Hw7%2Bx2TemZ5pfl/FaQftP/APBVf4gHd8Ov%2BCcGg%2BFLZv8AU33j74nW8jOPVre0XzI/oSaXP/BbLx/8gT9n/wCH9pJ1bOqarfxfTpA1A/YU/br8enzvjX/wVU8YBH62Pw%2B8H2OhrEP7qzJvd/qwzR7TNq%2BzrP0hSpL75OcvwD/iG0aOua8U4an/AHaClWl/5Rw8l/5UXqw/sL/gtx4w/wCQl47/AGd/B0L/AHf7I0zV9QuEH%2B155EZP04rmPG3wq/bM0Es37Qn/AAW08OeEIcZlsNN8C6Lpmz1xPcTCT8xXUf8ADnn4IeIP%2BSwftG/HPx%2BG/wBdF4t%2BKFzJG/qNsKx4Htmun8E/8Ejf%2BCb/AIA2nRf2TfDd0ynJbXWn1MsfU/a5JM0f2dmlX4ov/t/ETf4UoQX4h/qd4VYf/e85x2JfanSdNP51sRD/ANIZ8seL7r9iPQC1z8U/%2BC/Pxkv7lPvN4J%2BJ6JFnviOxtpgfwNcY3xF/Ya1pinw//wCClv7dfjiPOAPDfiDUplc%2Bg8ywjzX6Z%2BD/ANmz9nX4ebP%2BEA%2BAfgvQ/L%2B5/ZHha0ttv08uMV2iqqKERQABgADpR/q/iJ/E6cfRVpP75V1%2BQf2X4K4b4Mqxld96mMVO/qqMJv7pH5LHw38M/FP%2BjeH/AIW/8FG/Gqv0/tm/mt7OT/elZlx%2BVC/sK3/j1s6T/wAEW/G2tq/TU/iZ%2B0bJaFfdoI5g5%2BgNfrVRR/qpQn/EqX9KcP8A251A9r4X0P8Ad%2BFsPJ/9P8RjK/4OpSXy2Pyqs/8AgkD8fvEcQi0X9hH9mXwdbt94eIPF/ifVLpB7NFcbCfrxU4/4N6/iN4sYHxH8Wfhd4TBOWXwp8O7i%2B2%2BwN7dD8zX6nUVa4PyR/HFy%2BaX/AKTGP5l/6xZTRVsJkOWUfTAUZv768q1/mj8z9L/4Nqvg8YgfFP7TWu3Uv8T6b4S0%2B0U/RSJMfnW1pn/BtT%2Bx2kgbxB8ZviNdKOdlpcabb5%2Bp%2BxscV%2Bi1FbR4S4cj/wAw0X68z/8Abjjln%2BI5%2BeGGwsH05MFgY29LYR2Ph7w//wAG%2BP8AwT30KIRS2vje%2BA6m58Vsm76%2BTHGK6nRf%2BCGn/BM3SpVnvvgHd6o6fdbU/GGqOB/wFblVP4ivriiuqHD2RU/hw0P/AAFP87nYuNOKoO9PFShb%2BSNKnb09nQptfJo%2Bf9F/4JV/8E69BjWOx/ZC8GSBehvdPNyfxMzMT%2BNdLpf7Av7DOjYOm/scfC6Nl6SHwHp7MP8AgTQk/rXrdFdcMty2n8NCC/7cj/8AIk1uNeM8QrVczxMvXEV/0rJfgcboP7Of7PfhVxJ4Y%2BBHg3TWHRrDwvaQkf8AfEYrrrSztLCBbWxtY4Y1HyxxIFUfQCpKK6oUqVNWhFL0SX5JHh4nHY7Gy5sRVnUf96Upf%2BlSkFFFFWcoV4z%2By/8A8lv/AGjv%2ByzWP/qFeF69mrxn9l//AJLf%2B0d/2Wax/wDUK8L0AezUUUUAFFFFABRRRQAUUUUAFFFFABRRRQAUUUUAFFFFABRRRQAUUUUAFFFFABXwb/wUp1T%2Bw/8Agq3%2BxBqm7G7UfGdrnP8Az3XRIsf%2BPV95V%2Bdn/BYm%2Bk0b/god%2BxFricJb%2BPdSWdv7scmp%2BHI2P/j1eZnEuTLpy7OL/wDJ6Z9v4cUFiuM8NR/nVeP34XF/5H6J0UUV6Z8QFFFFABRRRQAUUUUAFFFFABRRRQAUUUUAZXgb/kSdH/7Bdv8A%2Bi1rVrKHgzQ0ysDX0KZJEVvq1zGi%2ByqsgVR7AAUv/CH6T/z96r/4PLv/AOO0AalFZf8Awh%2Bk/wDP3qv/AIPLv/47R/wh%2Bk/8/eq/%2BDy7/wDjtAHh/iD/AIJp/s%2BeJfEfxm8S6hq/iYS/G3Traz1y3TUYfJ0QRKS0mmoYSIGmnIuZhL5qSzKpZSvyF/gr/gnd8OfC3i6P4heIPjF4%2B8U%2BID8TpPHd5rHiC90/zLvU28Kz%2BF/LZLWyhiS3FhOWWOJI8TIjZ2bo29t/4Q/Sf%2BfvVf8AweXf/wAdo/4Q/Sf%2BfvVf/B5d/wDx2gD5y/4dSfBiz8L6B4B8OfGf4kaR4d0ix8IQ6poOnanp4g8QTeGmtTpl3eM9i0om22Vskv2d4I5UiUMnyrj6B1j4daR4t8D678OviFfXPiPSfEUN9bala6pHCoayug6vZjyI4wYljcxqWzIVA3u7ZY3P%2BEP0n/n71X/weXf/AMdo/wCEP0n/AJ%2B9V/8AB5d//HaAPM/gd%2Bx7pfwLk1LWdO%2BOfjvxBr%2BqQ6LY3XijxNPps98dI0qSV7TSR5dlHF9mH2i7DOYzcsbyZzP5hWRc74S/sTXHwe8d%2BP8Ax/oP7VfxLvrr4i6he3%2Bsx6tB4flNvdTL5cEkM66StxttIgkVtDLLJDGiANG/OfXf%2BEP0n/n71X/weXf/AMdo/wCEP0n/AJ%2B9V/8AB5d//HaAPKvDn7HOoeF18T%2BI9P8A2qviU/jbxa2nR6r8RZ4tBbUxZ2PnfZrKOD%2Byv7PSBTc3LY%2Byby1w7F87StG4/YS0%2B3%2BEUfwX8H/tNfE3w7pd3LrM/i250qfR3u/FFxqty9zez3ctzp0phkeWacqbP7N5YlKxhAkYT2P/AIQ/Sf8An71X/wAHl3/8do/4Q/Sf%2BfvVf/B5d/8Ax2gDy7Wv2LvDOv8AiLw4mofGHxr/AMIT4S1DSL7QPhdFJpqaJbXGlrCbF/MFl9vcRSwRTiN7sxmVASpHy1lfCj/gn/4J%2BDetQax4T%2BNfj6QaD4X1Xw/8PLS/uNMlh8E2WoTQyzCwH2EGZla2thG18bvYsCoPlaRX9m/4Q/Sf%2BfvVf/B5d/8Ax2j/AIQ/Sf8An71X/wAHl3/8doA8M8C/8E7vD/gb4L2Hwf8A%2BGlviTqlxoPja48V%2BEPGGpJoI1Xw9qVxJcvcPbeRpUds6Sfbr1WW4gmGy6kQYUIFo3n/AATQ8KQ6p4F1nwb%2B098UfD1z4Ak1m90xrI6DeJd6vq13Nd6jrM8WoaVcx/b5pbm5HmxLGsSXM0cSRpK6t9A/8IfpP/P3qv8A4PLv/wCO0f8ACH6T/wA/eq/%2BDy7/APjtAHnHiL9lG68Q/tZ6L%2B1p/wANHePbO60LQbrRbPwZaW%2BiHRmsbp7SW5hcyaa14fNmsbaUsLoOrRkIyIzIeV%2BFv/BOzwh8HLayh8DftCfEmCTw14Jk8IfDi4nudJlbwToslxZzPZ2AbTysyn%2Bz7GMvfLdv5dpGu77273H/AIQ/Sf8An71X/wAHl3/8do/4Q/Sf%2BfvVf/B5d/8Ax2gDyRP2D/hzffCzxP8ADDxn8R/GHiJ/HPjfTvFHjrxDq11ZLfa/cWb6eEtp1t7WK3jtXt9MtbSSGCGINAHAIeRpDY/aP/Yg%2BHP7S%2Bt6hq/iPx34q0KHxH4T/wCEW8dad4buLOOHxVoXmSyDTbw3FtNIkQ%2B03ah7Z4Jgt3MPM%2BYY9T/4Q/Sf%2BfvVf/B5d/8Ax2j/AIQ/Sf8An71X/wAHl3/8doA82b9k2aT9rd/2tZv2ivHjyyaB/Yj%2BBHttDOhtYYLeQf8AiW/bceeTcbvtW7f8u7yv3VV/2df2JPh7%2Bzd4ktPEXh/x94r15dE8JR%2BFfBmn%2BIrm0a38MaEkiSLp1oLa2hd4/wBzbqZLlp5yttEDKcHPqP8Awh%2Bk/wDP3qv/AIPLv/47R/wh%2Bk/8/eq/%2BDy7/wDjtACeOf8AkSdY/wCwXcf%2Bi2ry7xx/ykL%2BF/8A2Rnx5/6dvCFeonwZob4Wdr6ZMgmK41a5kRvZlaQqw9iCK8u8cf8AKQv4X/8AZGfHn/p28IUAezUUUUAFeQftr/Dfx98Q/hPpF98MvDLa7rHhPx/4d8Tw%2BHUu4YH1aLT9Tt7ie2jkndIlmMKSGLzXSMyrGHdFJdfX6KAPk/wr8CfHfif9nb4oeHvjJ%2Bz94ztrvx343vPHGn6B4c1/Rl1LS7hL%2BCTTreGdr37MupRGwtb0lnNoJZNnnSgNnhfD3w3/AG%2BPgT8E/H2sfDP4ZfEDxB4y%2BN3xeGqaxqOpa/4Ym8QeDtGXRNO0x76RDdWmlz37LpYMMFsxt4Tcw7xKtu6S/dVFAHnfwt%2BFVl4b/Zg8N/Bn4a2viX4ZWul%2BE7LS9GtxLp93qugxQwpHHGzyfbbSaZFQKznz0Y5OWzurj/8AgnTpN/oP7N19omq%2BJ77W7mz%2BLfxDhuNY1OOBLm%2BdfGetAzSrbxRQh3I3ERxomSdqqMAe6V4z%2Bwf/AMkQ1z/ss3xH/wDU11ugD2aiiigAooqvq%2Br6T4f0q517XtTt7Kxsrd57y8u5ljigiRSzyO7EBVVQSSTgAEmk2krsTaSuyxXlX7Un7aH7Pv7H3huDWvjL4x8q%2B1BvL0Pw1pcP2nVdXlJ2rHbWync5LELuOEBIDMMivDPE37ePx2/a/wDEF58Kv%2BCYngiG8063na21z44eK7R49C01hw4sY2XdfzjtgFAdpKsjbx6P%2By1/wTv%2BE37PPiab4x%2BNNc1H4jfFPURnV/iR4wbz7wsRgpaoSVs4gCVCR/MFO0swAA8h5hXxr5MAk11qS%2BBf4Vo6j9LQ7yex4LzTE5i%2BTLIpx61ZX5F/gWjqP0tBdZvY4Bfjv/wVN/adIj%2BA37M2hfBfw7P9zxR8W7s3OqvGf4otNt/9TIP7s%2BVPPNWT%2Bwd%2B3R41B/4XD/wVh8ayxyf6y38DeC9P0IoP7qyxF2/4ERmvrevFP2mP%2BCgv7Lv7Kt5H4Z%2BIPjptS8VXRVNO8DeF7Y6jrN5I33UW2i5Qt/CZCinsazr4HCUKTq46vKS7ym4R9FGDivRe8/U9bJ%2BCMz4kxscJh1XxdaX2YOa0W75KXJGMV1lKSilrKaWpyPwz/wCCRn7EngXXB408a%2BAL/wCJPiVsGfxJ8UdXl1u5nI5yyTfuCc5ORGDXuWv%2BJvg3%2Bz74GOp%2BJtd8N%2BCvDdiuBNeXEGn2cAx0G4qi9Ogr5kHjn/gqn%2B16dnw58B6P%2Bzp4NuOmu%2BL4k1bxNPEf4o7IYhtiRkFJsOpwQ1b3gD/gkh%2BzPZ%2BI4fiL%2B0VqviX40%2BK4%2Bf7a%2BKGsPfwxknJWK04gWPOMIyvgDANZYafIrZbhVFP7clyJ%2BdrOpL52v3P0HCcAcHcKR/4WcdTpz60MHGOIrek63MsNB9%2BatXkuqvoZ%2Btf8Fafh9491ifwf%2BxL8CPHHxw1aGUxS3fhrTGstGt5B/DNqN0oSP2YKyn1qIJ/wWa%2BOHLz/AAm%2BB2mS9kWXxJrMGfXOLR8fhzX1foehaJ4Z0mDQPDejWmn2NrGI7WysbdYoYUHRVRQAo9gKtV1f2fjK%2BuJxEvSFqcfvXNN/OS%2BR1vjDh3K/dyXJ6KttUxTliqr8%2BVulho%2BkaM0u8j5HH/BK/XviQftH7V37ePxh%2BIBf/j40mw1xdC0mb1zaWoOPbDjArtvhj/wSr/4J6fCSWO68K/sqeF7m4jYOt14hgfVpN/XfuvWlw2ecjGD0xX0FRWlPJsrpy5/Ypy7y99/fNyf5HJjPErjzGUHQ/tCpTpP/AJd0WsPT/wDAMPGhH7%2Bb1INM0zTdFsItK0fToLS1gQJBbW0KxxxqOgVVAAHsKnoor00klZHxEpSlJyk7thRRRQIKKKKACiiigAooooAKKKKACiiigAooooAKKKKACiiigAooooAK8Z/Zf/5Lf%2B0d/wBlmsf/AFCvC9ezV4z%2By/8A8lv/AGjv%2ByzWP/qFeF6APZqKKKACiiigAooooAKKKKACiiigAooooAKKKKACiiigAooooAKKKKACisD4pfE3wl8G/AWo/Evx0%2BpLpWlRo92dI0K71O5IZ1jUR2tnFLPMxZlG2ONjznGATWVF%2B0N8Gpf2f7f9qVvHMEXgK68Kw%2BJIPENzbyxI2mS263Ec5jdBKC0TKRGUEmWC7d3FAHaV%2Bcv/AAXH/wBA%2BP37Pfi7p/wj51TUd393b4h8IJn/AMiV92fBn45/DT4/eGrrxV8MtVvpodP1OTTtUs9X0K80u%2B0%2B7REdoLmzvoobi2k8uSKQLLGpaOWNxlXVj8Lf8F84ZY9F0bxBbpul0b4V%2BIL%2BIDrlPFvgQEj8GNeVnv8AyJsQ%2B0G/us/0Pv8AwpafiXlEH9vEU4f%2BDOen/wC5D9F6KbBNFcwJcQuGSRAyMO4IyDTq9U%2BAaadmFFFFABRRRQAUUUUAFFFFABRRRQAUUUUAFFFFABRRRQAUUUUAFFFFABRRRQAUUUUAFFFFABRRRQAUUUUAFFFFABRRRQAV4z44/wCUhfwv/wCyM%2BPP/Tt4Qr2avGfHH/KQv4X/APZGfHn/AKdvCFAHs1FFFABRRRQAUUUUAFeM/sH/APJENc/7LN8R/wD1Ndbr2avGf2D/APkiGuf9lm%2BI/wD6mut0AezUUVHeXlpp1pLqGoXUcEEEbSTzzOFSNFGSzE8AAAkk9KNg2Fubm3s7eS7u50iiiQvLLIwVUUDJJJ4AA718N%2BK9f8Vf8Fe/ifdfCz4f6pe6X%2BzV4T1TyvF/iWzkaKT4gX0TAmwtXGCLFGA3yj75xt/hKr4n8Y/Ej/grv4xvPhf8IdY1Lwz%2Bzdo961t4u8a2u6C88ezRth7CxJwUswRtkl/j5HqtfZvw%2B%2BH3gn4UeCdM%2BHHw48M2mjaHo1ottpmmWMWyKCJegA7nqSTkkkkkkk14Tcs7lyx0w63f/PzyX/Tvu/t7L3buXzcpS4inyR0wi3f/AD%2Ba6L/p1f4pf8vPhj7l3Kz4U8J%2BGPAnhqx8G%2BC/D9npWk6ZbJb6fpun26xQ28SjCoiKAFAHYVw37SP7Xf7O37JXhceKfj18T9P0RZlP2DT2cy3t%2Bw42wW6ZklOcDKrgZG4gc14l%2B0J%2B2d8VvjZ8Ur79jX/gnaLTUfFlmwi8d/Ey5iE2keCoiSGGcFbm94YLEMhWBBBKuE7T9mz/AIJt/AD4AeJv%2BFs%2BIzqXxD%2BJFwRJf/EXx5dG/wBQaX1g35S1UchRGNwU7S7AVq8bXxM3RwEU1HRzfwJrS0UtZtdUmop6OV7pfs%2BG4SyXh7BUsZxRUnTc4qVPC0lFV5waTjOpKXuYanNW5HOE6s4%2B9CiouMpeYDVf2/v%2BCip2%2BHo9X/Z2%2BD9yf%2BQjOoHjLxBbnvGn3dMRh/FnzBwQZFbFe6/szfsMfsw/skWkj/Bn4ZWtvq1yD/aXijUmN3qt8zHLtLdS5kO45JVSqZPCivXKK2w%2BWUaVVVqrdSr/ADS6f4V8MF5RV%2B8mcOc8c5nj8C8sy%2BEcHgX/AMuKN0p22dao37XET86snFP4KUFZBRRRXpHxQUUUUAFFFFABRRRQAUUUUAFFFFABRRRQAUUUUAFFFFABRRRQAUUUUAFFFFABRRRQAUUUUAFeM/sv/wDJb/2jv%2ByzWP8A6hXhevZq8Z/Zf/5Lf%2B0d/wBlmsf/AFCvC9AHs1FFFABRRRQAUUUUAFFFFABRRRQAUUUUAFFFFABRRRQAUUUUAFFFFAHOfFzWvEHh/wCGmtar4V%2BHmr%2BK9RSxZbTw9oNxZRXd4z4TbG99cW9upAYsfMlQYU4JOFPyz4L%2BD37RnjD/AIJU%2BDf2YNZ/Z213wv448G/DvwvE2l%2BIta0d7bUNS0OWwkNiJ7G%2BuVCXLWRVZGAURygybGylfZNFAHin7Ifgr4l2niv4sfGv4m/Di%2B8GzfEjx5bappfhTVb6zuL2xtLXRNM0xXumsZ57fzpJLKWTEU0gETQgtuDKvyp/wWG%2BGXiRNS8T6rq3xa8Q69Z6n%2Bz142u7DQNVtdOS00QW%2Bv8AgyUrbNbWkU7htoJ%2B0SzkbBtK/Nn9Fq%2BNv%2BCo%2Bjf29rGqacE3H/hk34ryovq0dz4VkH6oK4M0h7TLK8e8J/8ApMj6vgPE/U%2BOcqr/AMuJw7/8r0v8z6k%2BDWs/8JH8H/CniHfu%2B3%2BGrG43eu%2B3Rs/rXS15d%2BxBrP8AwkP7F/wj10tlrv4ZaDK5/wBo6fASPzzXqNdGFn7TC0594xf3xi/1PJz3DfUs9xeH/kq1Y/8AgNWpH/20KKKK3PKCiiigAooooAKKKKACiiigAooooAKKKKACiiigAooooAKKKKACiiigAooooAKKKKACiiigAooooAKKKKACiiigArxnxx/ykL%2BF/wD2Rnx5/wCnbwhXs1eM%2BOP%2BUhfwv/7Iz48/9O3hCgD2aiiigAoorxD9v7xJ4i0L4J6NpGieK9S0C08SfEvwr4f1/XNH1CSzurPTr7WrS2uBFcxMr2zzLJ9mEyMrx/aNyMjhWAB7fRXyD4Qi/aB8cfsa/Ff4X/Bfx/r2q6j4X%2BK%2BpaB4S1m98VSf2rqOi2uqW7XdhHqlw5k%2B1iI3%2BmxXcsnmJJFGzy70aSvKvhR47%2BKXxU%2BI1r%2BzF8Q9b%2BJPgv4fH9oPWtD05Lz4pXcmvyWtr4MtNUTSZ9dsr6WeRl1CbUZmEV5Iyix%2BzNIyQyoQD9E68Z/YP/5Ihrn/AGWb4j/%2BprrdUv2Mvi98RvFf7A3gP4veItI1nx1r0/hCCdBp0lpHfeIkX5IbtWuZoLfzLiIJOWaSND5hIIBApP8AgnTq1/r37N19req%2BGL7RLm8%2BLfxDmuNH1OSB7mxdvGetEwytbyywl0J2kxyOmQdrMMEgHulfI/8AwUm%2BIXi/4w%2BJPC//AATW%2BCGtSWviX4oo0/jfVrU5bQPCkbYu527Bp8NAgPDfOvBZTX1J438XaN8P/Bmr%2BPPEU/lafoml3F/fyf3IYY2kc/gqmvl7/glZ8PfEHjnwhr3/AAUE%2BMEaS%2BOfjZdf2hFHyy6NoUbFLDT4SR9wRqshIxvzHuyVyfIzNzxM4YGDt7S7k%2B1NW5vnJtQXrJ9Dws4lPF1KeW03b2t3NrpSjZSt5zbVNdk5PofTfw4%2BHng/4S%2BAdG%2BGPw/0WLTtE0HTYbHS7KEfLFDGoVR7nAySeSSSck18t/tcfH34o/tMfF%2B4/wCCeX7GXiN7DUxCrfF34kWmWj8I6c/BtYWB5v5lyqqDlBnkEO8PZf8ABQ/9p/xr8IfB2i/Aj9nuJb34vfFO9bR/Atmpz9gUj/SNUl4O2K3jJfcQRuwSCqvjuf2Pf2T/AAB%2Bx38GbP4W%2BDC97fSubzxP4iu8tda5qUgBnvJ3YlmZmzgEnaoC5OMmMQ5Y2s8BQfLCKXtGtLJrSnG2za%2BJr4Ybe9JW/ZOHcJgODcjpcR42lGdabawVGSTheHuyxNSL0lSpStCjTa5ataLcr0qMlPa/Z1/Zy%2BEX7K3wr0/4O/BXwnDpWj2CZYqA015MQA9xPJjMsr4BLH0AGFAA7miivXpUqdGmqdNJRSsktEkfBY7HYzM8ZUxeLqSqVajcpSk3KUpN3bbd223/AEkkkUUUVZyhRRRQAUUUUAFFFFABRRRQAUUUUAFFFFABRRRQAUUUUAFFFFABRRRQAUUUUAFFFFABRRRQAUUUUAFeM/sv/wDJb/2jv%2ByzWP8A6hXhevZq8Z/Zf/5Lf%2B0d/wBlmsf/AFCvC9AHs1FFFABRRRQAUUUUAFFFFABRRRQAUUUUAFFFFABRRRQAUUUUAFFFFABRRRQAV8xftpaN/wAJH8erDw9s3fb/ANmL4pW%2B3133XhVcfrX07Xhnxc0lNe/bp%2BH2hyAbb34GfEGBs9MPqfhFf61nWh7SjKHdNfemv1OzLsT9TzGhiP5Jwl/4DOEv/bSt/wAEtdZ/t3/gnf8AB%2B%2B352eCLS3z/wBcQYsf%2BOV75Xyx/wAEUtWfWP8AgmN8LpZc%2BZb2up2zqeqmLVbyMA/gor6nrhyeftMow8u9OH/pKPqPEjDfU/EPOKH8uKxC/wDK1R/qFFFFekfFhRRRQAUUUUAFFFFABRRRQAUUUUAFFFFABRRRQAUUUUAFFFFABRRRQAUUUUAFFFFABRRRQAUUUUAFFFFABRRRQAV4z44/5SF/C/8A7Iz48/8ATt4Qr2avGfHH/KQv4X/9kZ8ef%2BnbwhQB7NRRRQAVm%2BMfBng/4ieFr/wP8QPCmm67omqWzW%2Bp6PrFjHdWt5Cww0csUgKSIR1VgQa0qKAOKt/2a/2c7TwW/wAN7X4A%2BCovDsmh/wBiyaBH4Vs1sm03zGk%2BxGAR%2BWbfe7v5WNm52OMkmo9T/Zg/Zp1r4S23wC1j9njwNd%2BBLN1ez8FXPhKzk0mBlcupSzaIwqQ7MwIXgknqa7migCHTtO0/SNPg0nSbGG1tbWFYba2t4gkcMagKqKq4CqAAABwAK8f/AGD/APkiGuf9lm%2BI/wD6mut17NXjP7B//JENc/7LN8R//U11ugDif%2BCwPj/V/Bv7BXi7wx4WJbXPHc9n4S0SANgzzahcJBJH%2BMBn/KvY7V/h7%2Byd%2BzhbrrWopZeF/h14NjjnuSuPLs7K1C5A7nZHwOpJAHWvn79t/wD4vF%2B3v%2BzV%2BzTGPNs9K1%2B/%2BIHiCLqIl02ArYuR3DXDyL7VX/4KPajf/tMfGD4df8E0vCN5KIfGV2viT4pTWzkNaeGLKUN5TEcobm4VY1bsyAEYavnK2KdHE4rExV5R5KUF3k/et/4FON/KL7HXwDkNPivjmrTrzcMPSSVWa/5d0KMHXxE15pNRiutSVOO7LP8AwTq%2BGXjL42eLtZ/4KY/tAaU0Pib4h2a2/wAPtDuDvHhrwsG3W0SdhLOMTOw6hgRt8x1r65qHT9PsdJsINK0uzit7a2hWK3t4UCpFGoAVVA4AAAAA6AVNXsYHCRwWGVO93vJ9ZSespP1f3Ky2R6/FXENXibOqmNcFTppKFKmvhpUYLlpUo%2BUIJXe8puc3eU2wooorrPnQooooAKKKKACiiigAooooAKKKKACiiigAooooAKKKKACiiigAooooAKKKKACiiigAooooAKKKKACiiigArxn9l/8A5Lf%2B0d/2Wax/9QrwvXs1eM/sv/8AJb/2jv8Ass1j/wCoV4XoA9mooooAKKKKACiiigAooooAKKKKACiiigAooooAKKKKACiiigAooooA534ufFLwb8D/AIW%2BIvjH8Q797XQvC2i3OqatPFC0si28ETSPsRctI5CkKigszEAAkiuI%2BHf7YHgjxh4J8c%2BLfG3gTxR4DvPhtE0/jTw34ttrV7/T7f7Et8lwBYXF1DNG8DblMUrnckkZCyRug2f2q/grdftGfs3eNvgdp2vR6VeeJ/Dl1Y6dqc0JljtLpkJgmdAQXRZQjMgILKCMjOa8r8Kfs%2BftW63D8XfF/jnU/CPhDxf8WdBOlW9/4P8AEd3qMfhRbXTDbWFxC1xY25vZTcz3Vw%2B5YBGvkxjzSrOQDu/2af2uvC/7Suqax4csvhn4q8Jato2jaTrEul%2BKlsGefTdTW4ayu45LC7uoSsn2W4HltIsqeXl41DoWpeOP%2BUhfwv8A%2ByM%2BPP8A07eEK4z/AIJ//sceLf2W/EXi3XdQ%2BGPw5%2BHmka9oOg6fbeA/hZqFxc6Y19Yi8FzrUrzWdpi7u0uLaJwImbZp8RkmmYjZpX/wx8N%2BDv8Agpt4L8Z6TqXiGa88Q/B7xxJfw6r4u1G%2BtIimreEsC2tbmeSCyB3HK26RhsDcDtXAByX/AARZ/wBA/Ysk8I9P%2BEf%2BIXiPTtv93bqMr4/8iV9aV8l/8Ej/APiX%2BD/jl4RPH9g/tLeLbJV9FEkDj8PnNfWleTkWmT0F2jb7nKP6H6B4q6%2BI2Z1P56vP/wCDKdCr/wC5Aooor1j8/CiiigAooooAKKKKACiiigAooooAKKKKACiiigAooooAKKKKACiiigAooooAKKKKACiiigAooooAKKKKACiiigArxnxx/wApC/hf/wBkZ8ef%2BnbwhXs1eM%2BOP%2BUhfwv/AOyM%2BPP/AE7eEKAPZqKKKACiiigAooooAK8Z/YP/AOSIa5/2Wb4j/wDqa63Xs1eKfsPXttpnwD8RajeyiOG3%2BMPxJkmc9FVfGmtkn8hRsDaSueTfAjWtL%2BIn/BT39oL9o/XrtE0X4W%2BD9L8E6dfycoi7W1HUPp5cq4PfBq1/wS08Oaz8Yf8AhOv%2BCi/xDsHi1r4xay3/AAjVrPy%2Bl%2BGrN2gsrcdlZ9hkfbw%2BI26186%2BC/H%2BveDv%2BCI/xD%2BO1pC58YftD%2BNdYlt7ZT%2B9mu9X1I6cI1PqLeN3XHTtiv0b%2BB3wv0v4J/Bnwn8HtF2m18L%2BHLLSoXUY3iCBIt/1YruJ7kmvk8oX1zE05y2SlWf8Aiqykof8AgNNadrn1PCTeTeEFXMI6Vs1xEo36/V6Vq9RLynVnhoS7qly7Jo6miiivrD5YKKKKACiiigAooooAKKKKACiiigAooooAKKKKACiiigAooooAKKKKACiiigAooooAKKKKACiiigAooooAKKKKACvGf2X/APkt/wC0d/2Wax/9QrwvXs1eM/sv/wDJb/2jv%2ByzWP8A6hXhegD2aiiigAooooAKKKKACiiigAooooAKKKKACiiigAooooAKKKKACiiigAooooAK8Z8cf8pC/hf/ANkZ8ef%2BnbwhXs1eA/FPxhp%2Bg/8ABTT4KeGb5gr678HfiJDZknlpYtR8Izbf%2B/aSH/gNKUlFXZMpRgrv%2Br6HE/8ABNb/AIlHx0/al8I9PJ%2BOt1qO3/r7tonz%2BO2vrSvkv9ib/iUf8FFf2uvCXQR674S1FV9ftWku5I/Fa%2BtK8rJNMBy9pVF91Sf%2BZ%2BheJ3vcXOr/AM/KGDn/AOB4PCv/ANtCiiivWPz8KKKKACiiigAooooAKKKKACiiigAooooAKKKKACiiigAooooAKKKKACiiigAooooAKKKKACiiigAooooAKKKKACvGfHH/ACkL%2BF//AGRnx5/6dvCFezV4z44/5SF/C/8A7Iz48/8ATt4QoA9mooooAK8w/a2%2BMnjL4MfDCwvvhrZ6ZL4l8SeMNF8NaBJrcEktla3GoX8NsbqeOKSN5Y4Y5JJvKWSMymIRh49%2B9fT64348fBLw1%2B0D8Opfh34m1jU9L26lY6npetaJNHHe6XqFldRXdpdwNLHJHvjnhjbbIjxuAUdHRmUgHiWq/tk/Gbwp%2Bxr8UPinrnh/w5f%2BPfhb4m1Dw/qT2FlPFpl7LDcQiO%2BitWuHnYG1uYZ/sSzvK8oa3jldmRz5bcf8FKv2iP8AhWVpexx6Il6/xc1LwpP4og%2BCniO7u/sttoi6kkj%2BDYrsa1bTvIzQlJJDshjS8ZRDcR4%2BgI/2DvAMnwW1j4I6v8VfGt/aa9qf9tanrVzc2CajLr41NdTTWhLFaIq3SXMcBSMILVEtoo1twilTlJ/wTs8KWt2vjfSv2iviTZ/EFvFV3r158ToJtHbVrye40220yWGSB9NbT/I%2ByWVnGI0tF2m1RwRIXdgDt/gZ%2B0XpfjD9kHwb%2B1F8a9Y8NeE4Na8D6drviK7PiGBtK017i2jkkAvGfyjEruVD7yCMfMep8Q%2BGvxZ8NWP/AASz%2BL3xp8F%2BJrHVNMGs/FvVNG1bTLxJ7e8Q%2BJ9feCSKVCVkR8oVZSQQwINfS/wX%2BEfg34CfCbw78F/h9BcJovhnSYdP077ZcmaZ441C75JG5eRjlmY9WYnvXxD%2B1P4qn8J/8EaPjVNZkm51H4r%2BOtMt4k%2B9I118RNSgKj1%2BWRj9Aa4czrfV8tr1f5YSf/krPOziv9VyjEVv5ac3/wCSy/Wxz/gDwb/wlen/ALB/7HSRbrXTtAh%2BJfim2x/qPslkJrQuO4a6uJUOeM%2BtfpLXxd%2Bw14Vg8Z/8FAPi/wDEmELLpfwr8JaF8LfDM45A%2Bzwrcagg9NtwEH0btX2jXn8P0eTDTqd5cq/w04xpr8YzfzP0njCh/YuWZLw8tPqeDo86/wCnuISxNT5pToxf%2BG3QKKKK94%2BHCiiigAooooAKKKKACiiigAooooAKKKKACiiigAooooAKKKKACiiigAooooAKKKKACiiigAooooAKKKKACiiigArxn9l//kt/7R3/AGWax/8AUK8L17NXjP7L/wDyW/8AaO/7LNY/%2BoV4XoA9mooooAKKKKACiiigAooooAKKKKACiiigAooooAKKKKACiiigAooooAKK8/8A2q/jVc/s5/s3%2BNvjjp%2Bgpqt54Y8OXV9p%2BmSzGKO7ulQ%2BRC7gEojSlFZwCVUk4OMV554A/ak%2BJPw%2B0b4zaT%2B1HJ4f1XVfg3o8OvX2seB9Fn0%2B11PS5dNe8XZa3N1cvDMj293EQZ3VwkcnybzGgB9B18G/8FLPH7/Cr/gqj%2BxL43aYpBNf%2BMdEuDn5SuonQrMbvYNIp56EA17h%2BwT%2B1H4q/aW8P6jqnj34j%2BFb/VhpWl6qPDOgeA9X0SXR7a9SZ4yZdTnY6tbOY3SHUIIoIJzbzFF6qnyl/wAFqPG/w8%2BJfj7T1%2BE/xJ8Pa14z%2BDnw28R%2BI7/R9K1qC4u9GuIPEfgxh9pijYvbkw/aCA4UnY2Ohrzc4lOGWVakN4rm/wDAXGX5RZ5GfSqU8nrVYbwXP/4BKM3%2BEWe9/s//APEk/wCCvP7QemdP7b8CeE9Rx/e8mGS3z%2BuK%2BtK%2BNtF8W6Z4c/4K9eGfiBvH9ifG74BiPw1c5x517ZXAu3j9Di1cPkeoGO9fZNZZPJeyrRXSrU%2B6TU196ldH6t4gtV8RlmMjrGtgcG0%2Bj5Kc6Mv/AAGVLlfZhRRRXrnwAUUUUAFFFFABRRRQAUUUUAFFFFABRRRQAUUUUAFFFFABRRRQAUUUUAFFFFABRRRQAUUUUAFFFFABRRRQAUUUUAFeM%2BOP%2BUhfwv8A%2ByM%2BPP8A07eEK9mrxnxx/wApC/hf/wBkZ8ef%2BnbwhQB7NRRRQAUUUUAFFFFABX5t/tR6la3P7Fvgv4cXb/ufF37bniLTbxP%2BnZfHWv3EjH/ZHkgmv0kr8nv2uvFP2bwl8N/Daycad8Vfj94skAP3G0rVtfniY%2B5dsD3rxeIaip5PVb62X3yj%2BiZw4/ByzOnTwEd8RVo0V/3Fr0Kf/t7PrH/gi5pN1c/sM6f8X9cX/id/EzxZrnivX5P%2Bel1cX8se7PfMcERr6wrw/wD4JpeFv%2BEO/wCCf/we0Yx7C/w%2B027ZcdGuIFuD%2BOZTXuFdOT03SymhB78kb%2BrSb%2B9yb%2BZ%2Bg%2BI2NjmHiBm1ePwvE1lHyjGpKnBLyjCnGK8opBRRRXonxgUUUUAFFFFABRRRQAUUUUAFFFFABRRRQAUUUUAFFFFABRRRQAUUUUAFFFFABRRRQAUUUUAFFFFABRRRQAUUUUAFeM/sv/8AJb/2jv8Ass1j/wCoV4Xr2avGf2X/APkt/wC0d/2Wax/9QrwvQB7NRRRQAUUUUAFFFFABRRRQAUUUUAFFFFABRRRQAUUUUAFFFFABRRRQBzvxc%2BFng344fCzxF8G/iHYSXWheKdFudK1aCGZopGt54mjfY64aNwGJV1IKsAQQQK4L4Z/sdeGvAdt4kj8V/Fjxd45n8bCVPHN54wGmPJr8Js4rKKCYWllAkUUMEZCJbrCGaaZ5PNeQtXr9FAHk37Ov7Ivhf9nfXtQ8WRfE/wAXeMNWvPD2m%2BH7bUvGFzZvJYaPp7XDWljELS2t1KI11OxllWSeQuPMlfau3gf2wPhrH8Zf2jtF%2BEksYb/hJ/2bfibpahuzT3vhOJT7EFgQexFfS9eM%2BOP%2BUhfwv/7Iz48/9O3hCoqU41acoS2aafo00/zM6tOFalKnPaSafo00/wAGz4p1TxzqWs/8Em/2bv26tHhll1j4D69pb6oqKTM%2Bm21ydIvrcjqN6RxM3fapPvX6babqNhrGnW%2Br6XdpPa3UCTW08TZWSNgGVge4IIP418R/sLfCrRPGvwj/AGof2BvFACWWmfE/xDp1nGy/8e%2Bl6rCJbVwOxBaRwR3AI6V6h/wSZ%2BKmt/Er9iDwvoPjIlfEngKW58HeJbd2y0F3psht1Vj1LGAQMSecsfrXzOR1JUqtOMv%2BXlNX/wAdFunL74qL%2BR9fk9WefeDGBrT1rZbWdCff2VdNx%2BUcRh6sfL2qXXX6Sooor6k%2BUCiiigAooooAKKKKACiiigAooooAKKKKACiiigAooooAKKKKACiiigAooooAKKKKACiiigAooooAKKKKACiiigArxnxx/wApC/hf/wBkZ8ef%2BnbwhXs1eM%2BOP%2BUhfwv/AOyM%2BPP/AE7eEKAPZqKKKACiiud%2BK/xX8A/BHwFe/Ez4m642n6PYPBHNNFZzXMsks0yQQQRQQI8s80s0scUcUaNJJJIiIrMwBAOiorzyy/as%2BAt/8Crv9pJPHLxeENPa4jv7280i7guba4guGtZbWSykiW6S6W4UwfZmiE3m4jCFiFONH%2B3P%2BzTL8P5PiMni3Wvs8Xif/hHH0U%2BB9YGuf2v5AufsA0c2n9oGf7MRc%2BWLfd5B87HlfPQB65X4r/tceKfO17x9bCX5PB3gX4tXu7skmq/E3VNKx9SsnT0Nfsz4V8Sab4y8M6d4u0aO8Sz1Sxiu7VNR02ezuFjkQOolt7hEmgfBG6ORFdDlWUEED8P/ABuj/Enxv%2B074ddSwf41w%2BBIgR94X3xB1jVCg9eYMkV8txfNrKeRbyl%2BUZv87HvcF4eGN8SeHcNU%2BGWPw0pf4aUpV5fdGjf5H7T/AAP8Lf8ACDfBXwh4K8rZ/Y/hfT7HZjG3yraOPH/jtdRR06UV9PCCpwUFskl9yS/Q8jFYipi8VUrz%2BKcpSfrKUpP8ZMKKKKowCiiigAooooAKKKKACiiigAooooAKKKKACiiigAooooAKKKKACiiigAooooAKKKKACiiigAooooAKKKKACiiigArxn9l//kt/7R3/AGWax/8AUK8L17NXjP7L/wDyW/8AaO/7LNY/%2BoV4XoA9mooooAKKKKACiiigAooooAKKKKACiiigAooooAKKKKACiiigAooooAKKKKACvGfHH/KQv4X/APZGfHn/AKdvCFezV4z44/5SF/C//sjPjz/07eEKAPJfB2oQfs%2Bf8FivGfh3xCGstN%2BPXgHTdR8P3LjEN5q2kI0E1sp/56i2JlI7gjuRUXwP1a1/ZL/4KcfEv4D%2BKQ2neHvjmYPGHw9nlXFvcavHDs1W2Vuhndgs23g7VXuy59C/4KSfs1%2BKf2gPgGviX4RyNbfEn4d6nF4o%2BHV/Cv7wahbfObb/AGlnQNHtJ2ljGWyFrkfFmg%2BDP%2BCt/wCwT4c%2BKPw81UeHvGMIi1rwjrETlZ/DPiW0JDRFsblUTI0bcfMhVwMhCPlqtGvQxMqVJXnCTrU1/NGWlSHrdu3%2BKDelz2PDfNsuyfO8dw9m0uTB4%2BDXPa/s%2BapGpGrb7X1fEJSnFaujVqW961/rGivDf2B/2srr9qf4QTf8J5o40T4ieDr9tD%2BJPhpwFew1SHKs4XP%2Bql2mRCMj7ygsUJr3KvosNiKWLw8a1J3jJXX%2BT7NO6a6NNGed5NmHD2bVstx0eWrSk4tXuns1KLWkoyi4zhJXUoSjJOzCiiitzywooooAKKKKACiiigAooooAKKKKACiiigAooooAKKKKACiiigAooooAKKKKACiiigAooooAKKKKACiiigArxnxx/wApC/hf/wBkZ8ef%2BnbwhXs1eM%2BOP%2BUhfwv/AOyM%2BPP/AE7eEKAPZqKKKACvIP21/hv4%2B%2BIfwn0i%2B%2BGXhltd1jwn4/8ADvieHw6l3DA%2BrRafqdvcT20ck7pEsxhSQxea6RmVYw7opLr6/RQB8Za98Af2iPGv7IPxd8D3fwHvbPXfiX42uPFY8NXutaZvt7CTU7ZX02O5iunjg1VrC0adJ1Jt4Lq5jZbhjEXHn1p%2BxB8crWHTfiQPg/8AFOLw/pXxs1bXrX4eWXxWt18bTaPe%2BGrfTzNc67/aoM9wuowySLu1NpVsZEh84rGLSv0OooA8s%2BA3gT49n9kjwx8P/jV8TdU0v4gDwzBb634m0mSyu761uQB82%2B4t5baedVwjyNCyO4dguGFflJ%2Bzt4Bv2%2BJuoeHdU8Q32tXWt/8ABSjULa%2B1bU44EudTi0S91CWWWVbeKKIMxu9zCONEBJ2qowB%2B11flp%2Bz74CuLP9tb4QeGp7YKmsftPfHnxfeLkH5YdYvbW3c49WgxzyK%2Bf4iouth6S/vxX/gUox/zPs/Dqg5ccYbGdMNSxtb0cMBikn99RW87H6l0UUV9AfGBRRRQAUUUUAFFFFABRRRQAUUUUAFFFFABRRRQAUUUUAFFFFABRRRQAUUUUAFFFFABRRRQAUUUUAFFFFABRRRQAUUUUAFeM/sv/wDJb/2jv%2ByzWP8A6hXhevZq8Z/Zf/5Lf%2B0d/wBlmsf/AFCvC9AHs1FFFABRRRQAUUUUAFFFFABRRRQAUUUUAFFFFABRRRQAUUUUAFFFFAHmH7afxe8VfAP9kz4h/GPwNHanW/D/AIUvLrR3voi9vDdCMiKWVQQWiRyruuRlVYZGcjz74U/HrxH8A7r45eGv2mPjZqHi3QPg9pll4im8c6zpNlb3q6ZNpj3VxDPHp1vBA7wvbTupjhVjHNErB2Uu/vvjTwb4V%2BIvg7Vvh9460C11XRNd02fT9Y0u9iDw3lrNG0csMinhkdGZSO4JrkPg5%2By38G/gLvf4aafr0E1xey3l/d6r401XU7jUZ3ght/Mu5r25lkuykNvBFF5zP5KRhY9gyCAeD/8ABLj9tXW/2t/FHxjtfFf7QPgzxfcaN4t0660PQ/B%2Bs6bexeHNLvdHsrlLHzrIt9q8md7iF7l2cSTwzhCqKsadnf8AxO8N%2BMf%2BCm3gvwZpOm%2BIYbzw98HvHEd/NqvhHUbG0lL6t4Swba6uYI4L0DactbvIFyNxG5c%2B0%2BFvhj4H8FeK/E3jfwzof2bVPGOpQX/iS6%2B0yv8AbLiG0hs432uxWPEFvCmECg7NxBYknzfxx/ykL%2BF//ZGfHn/p28IUAezV8P8AijVtb/4JTftM%2BJ/ijqfhy4uf2efizr0Woa5e6ajSHwNr8oEctzJCoz9kuW2lmX7rBVABVVl%2B4KpeJPDfh/xj4fvfCfizRLXUtL1K1e21DT76BZYbmF1KvG6MCGUgkEHg5rhx2DlioxlTly1IO8XvZ2s011jJaSXbVapHm5lgJYyEJ0pclWm%2BaErXs7Waa6xktJLTSzTTimfMf7S37JfjPxH44tv28v8Agn/49sNL%2BJUmmQve2rXIk0Tx7pyoDHb3W1tpYx7RFcAjA2gsMLJH2/7H37dnw2/ars7zwhqGnT%2BDviR4fc2/jD4b6%2B4j1HTZ1xvZFbBngOQVlUYwy7gpOK8WtfhX%2B1r/AMEv9Qvp/wBmvwbdfFr4ES3b3Z%2BHaXjN4h8JK5LSrpzPkXdvklhAcvkgDBLytv3nhb/gnl/wVu0CD4heBPFUmn%2BPNDH%2Bi%2BIdBujpPizw1OhwFlXiTCMSAHDx53bDn5q8SlVrUsU/YpQqvWdKTtGb6ypy2u%2B60f24RkuY%2B%2ByPjrI%2BJMFSyHi%2BMqVelFRo14xUqtOK%2Bw03H61hlvFKSr0E7Q929I%2BvKK%2BOLX4nf8FMv2KozpHxg%2BFY/aG8DWZxB4y8Dqlr4mgtx0%2B06c3y3cgAx%2B5OT95nJNepfAP/AIKTfsZ/tFXC6H4M%2BNGn6Z4gEnlXHhPxUf7L1SCYHBiMFxtMjA8Hyy4969ajm2EqTVKrenU/ln7r%2BTfuy9YyfodmZeH3EOEwssdgVHGYVf8AL7DP2sEuntIxXtaL7qtShZ3XM7XPdaKKK9M%2BHCiiigAooooAKKKKACiiigAooooAKKKKACiiigAooooAKKKKACiiigAooooAKKKKACiiigAooooAK8Z8cf8AKQv4X/8AZGfHn/p28IV7NXjPjj/lIX8L/wDsjPjz/wBO3hCgD2aiiigAooooAKKKKACvzf8A2Tb%2Bz1n/AIKb6fZ304WDwdoXxW1d3IJCPdfErWbQDj%2BIgDAHJzX6QV%2BaH/BNX/irP%2BCgv7Qev/e/4RPxXquibv7n2r4haxe7fxxmvJzX3pYen3qw/wDJVOX6I/QOAv3NLOcV/wA%2B8BiF86ssPRX/AKXJfM/Rr/hMNJ/59NU/8Ed3/wDGqX/hMNJ/59NV/wDBHd//ABqvnbx9/wAFkf8Agm98L/HetfDTxz%2B0b9h1vw7q1zpmsWX/AAiGsS/Z7q3laKWPfHaMj7XRhuUlTjIJHNZP/D8v/glp/wBHQ/8Alk63/wDIVVLPMlhJxliaaa/vx/zM6Phb4mYijGrSyTFyjJJprD1Wmmk001CzTTTT6pp9T6f/AOEw0n/n01X/AMEd3/8AGqP%2BEw0n/n01X/wR3f8A8ar528A/8Fkf%2BCb3xQ8d6L8NPA37Rv27W/EWrW2maPZf8IhrEX2i6uJViij3yWiom53UbmIUZySBzXfft/fGD4mfs%2B/sTfFP44/Bu002bxP4S8D6hqujrq8zJbrLBC0m99scm7aoZgm3DsoQsgYuvXhcbg8bFyw9SM0t%2BVp29bHz%2BecM8ScMVoUs4wVXDSmm4qrTnTcknZtKaTaT0bXXQ9L/AOEw0n/n01X/AMEd3/8AGqP%2BEw0n/n01X/wR3f8A8ar571P9tz42%2BFfiH458F/EL4FeBNC0/4ZfDy08TeOfE938VLo2Nu93FqjW9tbY0cSzqH0%2BMSyukRRLgtHHM6CKTmfht/wAFKtX%2BKuqeGdD1b4T6v4X1uL40S%2BDvEOkLLeW0MiHwfqGvwz7dY0e0vXhdIYk2/Z7SQSoGWWSFStx0nhn1V/wmGk/8%2Bmq/%2BCO7/wDjVH/CYaT/AM%2Bmq/8Agju//jVfPP7JX7fPxJ/aH0/RLjxz%2BzB/wj934s%2BE2i/EHwnpfh7xrDqs91p18wR4JzcQWUVvcQl4mKh5EdHyHDKY66n9qvxZ8VdS%2BLXwv/Z4%2BFvxX1DwI3ja61i61bxXo2m2N1exW9hZCRbaBb%2B3uLdWkmmhZmeJz5UEqrtZhIgB67/wmGk/8%2Bmq/wDgju//AI1R/wAJhpP/AD6ar/4I7v8A%2BNV85QftCftI/E//AIJkeEPj/wDD60uf%2BE513SPDs3iG78K6Gt7cW9pLf2kWsahp1lIsgnlSzN5c28BWXcyxrsnOI34Hwr%2B0v8QfGv7MvxC8b%2BM/2qviX4Kh%2BFnxGv8Aw9p3iI/D/SIfEXjDzLSxuNNhl0280xkFzJJfpbJbQW1vNM6xqVidmSgD7L/4TDSf%2BfTVf/BHd/8Axqj/AITDSf8An01X/wAEd3/8ar4c/aB/ar/bt%2BBFhofxF%2BLtp4p0a70rwJ4KvZvC/grwPDqPh/X9aubsxeIrO/1FraZrAQqY1twLi1yXVkN2xMKvi/4KyfDm4/4KHaj4Z1P9q3wVp/wu8N%2BAPHceq%2BDYtSsJtUfVPDtxpb3GozoubyE%2BW%2Brxw2oA82HTpbnbIroYgD7f/wCEw0n/AJ9NU/8ABHd//Gqv2F/aanaJfWM4kikGVYAjvgjB5BByCDyCK%2BRv%2BCX/AO3Bq37Xnj/4v2viP9oHwb4qbTta0rUfD3hrwnrOm3q%2BGtMvNOhmWxaayZjcvFIWjmnd5AbhZxGyxhI1%2BqvB/wDyCZv%2Bwpff%2BlctAGrRRRQAUUUUAFFFFABRRRQAUUUUAFFFFABRRRQAUUUUAFFFFABRRRQAUUUUAFeM/sv/APJb/wBo7/ss1j/6hXhevZq8Z/Zf/wCS3/tHf9lmsf8A1CvC9AHs1FFFABRRRQAUUUUAFFFFABRRRQAUUUUAFFFFABRRRQAUUUUAFFFFABRRRQAV4z44/wCUhfwv/wCyM%2BPP/Tt4Qr2avGfHH/KQv4X/APZGfHn/AKdvCFAHs1FFFABXhH7R/wDwTe/ZS/aa8Qf8LA8U%2BCrjw/4zjYPa%2BPPBd%2B%2Bl6vBIBgSedFxKwHAMqvgdMV7vRWGIwuHxdP2daClHs1f/AIZ%2Baafmc2KweEx1L2WIpqcezV/muz80010Z8gQ/CT/grR%2BzQv2b4R/Hjwd8b/Dluf3GkfEu0k07W1i7RpfW5Mc7/wDTSfrnp0rzr46ftF/AL4lWjaX/AMFN/wDgk3448P3SJ5dz4otvDEeu2VsoGDs1axKTIPQJ2HtX6CUV5dXJ26bhSqvl/lmlVj90/eXykzHLqWd5Bio4rJcwrYepHZqTlb0lzRqJeSqNeTPzM%2BFtt%2BxXJHG/7AP/AAWf8Q/DUH/jw8KeMdejvdMgPaOOw1gQuPQjcxOPavcNC8Yf8FhPA2nJqej23wO%2BOGiAfuL7RNVn0bUboepY7rRc/wCzmvoT4nfsp/sx/GhpJviz%2Bz54M8RTS533Wr%2BGraefPqJWQup9wQa8S1r/AIIt/wDBP641F9c8D/DPWvBepSHJ1Dwb4x1CydfTavnNGuPZa87%2ByMyw38Cy/wAFSpBf%2BATVWHyVkfa/8RM4/raZxhcFmS6yrUVCq/8AuLCNOpfzdSb63b1Kg/4KXfG7wEPL/aH/AOCY/wAZ9BZOLi68HWdv4ktYfVmmt3T5f9oCr%2Bg/8Fof%2BCeeo3y6L4q%2BMOoeE9TP39N8W%2BFNQspI/wDeZoTGP%2B%2B6o/8ADsH4meEufg7/AMFM/j5o6r/qbbxD4kh1qCL0CxzRL8vtmqWvfsd/8FPY7A6XH/wUT8JeNbH%2BDTvHfwXsAhHozwsS31IzT9rxLQ%2By5esaUvxhOm//ACUP9cODsT/v/DFei%2B%2BExykvlDEQn93P8z3LwX%2B29%2Bxv8RAg8E/tU/D3UZJMbbeDxfZ%2Bd%2BMZkDj8RXpWm6rpes2i3%2Bj6lb3cD/cntplkRvoVJBr87PGf/BOz9tbWC7%2BJv2Uf2KvFyt/rLmPwlqWk38vuZLdFXP415vqP/BND41aFdtqen/8ABJzwol7/ABXnw7/aIv8ASmb/AHVupWRfb5aP7azml/Ewt/SNRfpUQv7S8J8RvPM8M/7%2BDoV199DEQdvPlv5H6xUV%2BSv/AAz9%2B274K%2BfSP2eP2uvCWzpbeFP2mdN1a2H/AGzNv84/GlHxD/4KT%2BChjS/Ef7ZFhs6fa/hFo/ibH5zR7/60f6zyh/Ews16f8GEQ9l4aVv4XEKh/1%2BwGYUvvcaddfcfrTRX5LD9vX/gpf4QH/Ew%2BIvxYn2df%2BE1/ZLWx/wC%2Bvsdy%2BPwpR/wWQ/bz8LnGr618LZY1%2B%2BfEnwq8W2cuP%2B3eN1Bo/wBcMsj/ABITj/26v80H9k8KVP4PEmXP/HVr0f8A09go/ifrRRX5Nx/8HCXxh0KQQeI9E%2BD%2BoSd47FvEdkT9DcWJA/E1saZ/wceeI1ZUvv2VvCuoKfvTWPxehtQPfbc2gNVHjPh971Wv%2B3X%2Blyo8N4at/u%2BcZbU9Mxwi/CpOk/wP1Mor82NN/wCDi7wYwDa/%2BzB9nH8X2L4p6PcY/MpmtWD/AIOP/wBlu0G7xF8EfGsOPvf2dqWkXf5YvFzW64s4df8AzEJeqkv/AG0uHBubVXahWw1T/BjsBL8sbE/RKivgXRf%2BDjX9hPWcZ8BfFG3z183w3aPj/v1ePXTab/wXw/YEvgDc3PjmzB6m58GTnH/fstW0OJeH5/DiYff/AJouXAvFcXZYdP8Aw1sLL/0jGTPtSivkO1/4Lpf8E1ZBnUfjRqtgO5u/BOq8f98W7Vq6f/wWv/4Jg6lj7N%2B1RZrn/n48NarF/wCh2ordZ7kktsTT/wDA4/5iXAfGrV45dWl/hhzfjGUj6nor5ysf%2BCuX/BN3UcfZ/wBrbwyuf%2Be4uIv/AEOIVsWP/BTn/gnvqGPI/bD8Arn/AJ7%2BIIov/QyK1jm2VS2xEP8AwOP/AMkS%2BBeN475Xif8AwRWf5U2e60V5DZ/8FA/2Eb/H2f8AbO%2BFmT0Enj7T0P5NMK1bP9sr9kHUcf2f%2B1X8Np89PJ8c6e38pq2jjsDLarB/9vR/%2BSOOpwrxTR/iZfiI%2BtCuvzoo9Jori7T9pH9na/x9g%2BPfgufPTyfFNo38pK07T4t/CnUMfYPib4enz08nWoG/k9aqvQltNP5r/M4KmVZrR/iYepH1p1F%2BcEdDRVG18UeGb7H2LxFYzZ6eVdo38jV1WV13IwIPQg1omnszjnTqU3aSa9U1%2BaQtFFFMgKKKKACvGfHH/KQv4X/9kZ8ef%2BnbwhXs1eM%2BOP8AlIX8L/8AsjPjz/07eEKAPZqKKKACiivEP2/vEniLQvgno2kaJ4r1LQLTxJ8S/Cvh/X9c0fUJLO6s9OvtatLa4EVzEyvbPMsn2YTIyvH9o3IyOFYAHt9FfEPiP4mfEbwr/wAE%2BfjNo3hr4u6%2BZfDHxVvvB3gLxVqGvXE99cQyaza2kNpLqUkhnQJcXMunNfs7TW6RGZmeSEsfJfiH%2B0N%2B0H8Kf2Xfi78ANU1H4n6ZrFn8Qtb07V/EXgq48SeOT4G02Dw3pmppZ2uux2z38j3LXkO27u0tmtTeXoRlFjAZAD9OK/Or/gkH4e2/G79sLx1s/wCP/wDagv8AT9%2BOv2XxDftj8PtH619g/s//ABU1jxB%2Bxv4J%2BLWleE/FPirULrwLpt3/AGU9sLPVtSmNtHvyuqyWwWRm3NuneMN97ccgn5u/4I/6ZqDfB746eONZ8MXujXniX9sTxnfTaXqbwNc2WPEKxfZ5Wt5JYmeN0dWMckibgdrsuGPBi6ftMVh3/LKT/wDJGv1PrMgxiwmQZxG%2BtWjSh8niqc3/AOm0fctFfMXj/wD4Ka/8IF471vwL/wAO%2Bf2nta/sXV7mw/tjQPhP9psL/wAmVo/PtpftI82F9u9HwNyspwM1kf8AD2H/AKxqftaf%2BGb/APuqspZ1lkZOLqar%2B7P/AOVn51LiHJoScZVdVp8NTpp/z6PrSsX4j/DzwZ8XPh9rnwq%2BI2gxar4f8S6Rc6XrmmTsypdWlxE0U0RKEMAyMwypBGcgg818%2BeAf%2BCmv/Ce%2BO9F8C/8ADvn9p7Rf7a1e2sP7Y1/4T/ZrCw86VY/PuZftJ8qFN293wdqqxwcV7N%2B0n4w%2BJ3w8%2BAXi/wCIPwZ8OWms%2BJ9B0C51LR9FvYXdNSkgQym1AR0IeVUaNG3YV3ViGAKnrw2Mw2Mi5UZXS30kv/Sox/U7cHj8HmEXLDy5ktHpJef2ox/C5jQfsa/s8L4V8U%2BDtT8Ialq9n418N2%2Bg%2BKpfEXivU9TutSsIPtPkxyXN3cyT70%2B1z4lDiUbl%2Bf5E253gf9gr9lr4e6kuueH/AAFqU2pDxcPFEura14x1bUry41caRNowu5ri8upZZ2Gnzy2%2BJGZdpU43IjL4b4j/AOCj/wATfiR4WufGP7LjaHqth4j8dzaR8KJYvCS6o3iDTrDSFutVvZGudb0q2hjiu/PgDtcLtFm4CStIPL4nwb%2B3V8Rvi54j0T48WX2m107x58Mv2d9Vj8KNr979h0qfxF4u122v5IPs08W5zF5KMxyk62sKzJLEvlHpOw%2Bw/DH7J3wI8E2OiWHg7wne6UvhzwNaeDtEm07xHqEM1potq8bwWqypOHO0xR5kLGRgCGdgzA6Pxv8A2evhT%2B0Tomn6H8UtH1GYaRqJvtIv9E8RX2kX1jcGGWBnhvLCaG4i3QzTROEkAdJGVgVJFfJvwT/ap/ag%2BN37Unwg8Yan4q8I/wBieO/hb4/1vw58PdKur3T2tZLO/wBGgtoNWlM1wl1LH5pRrhLaI20j3CLFJnJ9u/bf1bxJPpnwo%2BG8virVfDukeO/ivYaH4z1Lw3rtxp91DZnT7%2B6SCG9t2int/PvbWztfMjaORluCqlS4oA9Ck/Z3%2BFieAx8MNGsdY0XQIvDlhoVlpnhnxXqOlR6fY2ZJt0tPsdxEbN1B2mWApK6IiM7LGirxfiX/AIJ6/sq%2BK/CnhPwdqPhLxJb23gnXrvXPDt3pHxH16wvotUullW4v5ry2vY7m7uZBPMGnnkkkPnSfN87Z4H4Raj%2B0L8U/%2BCbfjfQ/hP8AEm7n8aWepeO/DngHxZrGqlri4t9P17VNP0y4kvJQ5aU2ttAPtbhy7YnbfuOfMfhv8RtFsPCvxs8KftGv8Y/CfgLwF4z0IeGdEm%2BMGo33iqbVLvS4t2hrqOmalNc3MstxNbzRWaXsrE3sIJVWEMYB9XeIP2S/gp4u8QeGPEfi608TatJ4Qt7CLR7LVfH%2Bs3Ni72Unm2txdWkl21vf3UcuJRdXUcs/mIjmQsisOr1P4Y%2BB9Z%2BJmjfGHUtD8zxH4e0XUdJ0fUftMo%2Bz2d9LZy3UXlhhG%2B97C0O5lLL5WFKhnDfAv7T2ift4fBb9kjTfil8R9c8dajeeDfgfrN4knhn4opp0vhvxMkhuLK61l/tMH9uQw24htnG28E0sEpNrN9pDDqPiL4n/AGvPhv8AtWeEvHvifQvF8lx41%2BL/AIc07Q5LT4ghfDtt4euNHgXUtJfRPtWZL6GaPUb4zm1dhFGsn2tVT7OAD7S8NfDHwP4P8Y%2BJPH/h3Q/s%2Br%2BLrq2uPEN39plf7XJb26W0LbWYrHtijRcIFBxk5JJq14P/AOQTN/2Fb7/0rlrUrL8H/wDIJm/7Ct9/6Vy0AalFFFABRRRQAUUUUAFFFFABRRRQAUUUUAFFFFABRRRQAUUUUAFFFFABRRRQAV4z%2By//AMlv/aO/7LNY/wDqFeF69mrxn9l//kt/7R3/AGWax/8AUK8L0AezUUUUAFFFFABRRRQAUUUUAFFFFABRRRQAUUUUAFFFFABRRRQAUUUUAFFFFABXjPjj/lIX8L/%2ByM%2BPP/Tt4Qr2avnD9o/V/jXo/wC3h8J5/gd8P/C3iLUm%2BEfjtbu08V%2BMLnRYI4P7U8JEuktvp96zvu2jYY1GCTvyApAPo%2BivGf8AhOP%2BChf/AEa/8Gf/AA/Grf8AzL0f8Jx/wUL/AOjX/gz/AOH41b/5l6APZqK8Z/4Tj/goX/0a/wDBn/w/Grf/ADL0f8Jx/wAFC/8Ao1/4M/8Ah%2BNW/wDmXoA9mor5x0n9o79u3WPjPr/wOt/2UPhIuqeHfC%2Bka7eXL/HXVPIkg1G51K3hRCPDG4uraXOWBUAB48FiWC9R/wAJx/wUL/6Nf%2BDP/h%2BNW/8AmXoA9morxn/hOP8AgoX/ANGv/Bn/AMPxq3/zL0f8Jx/wUL/6Nf8Agz/4fjVv/mXoA9morxn/AITj/goX/wBGv/Bn/wAPxq3/AMy9cv4B/aO/bt%2BInivxv4Q0f9lD4SQ3HgPxRFoWqyXPx11QJPPJpWn6mHi2%2BGCSnk6jCpLBTvRxjADMAfR1FeM/8Jx/wUL/AOjX/gz/AOH41b/5l6P%2BE4/4KF/9Gv8AwZ/8Pxq3/wAy9AHs1FeM/wDCcf8ABQv/AKNf%2BDP/AIfjVv8A5l6P%2BE4/4KF/9Gv/AAZ/8Pxq3/zL0AezUV84/CL9o79u34y%2BFLvxf4c/ZQ%2BEltb2fijW9CkjvfjrqiuZ9L1W60ydxt8MMNjTWkjIc5KMpIU5UdR/wnH/AAUL/wCjX/gz/wCH41b/AOZegD2Oe3guYzFcwJIh6q6gg/gax9Q%2BGvw51bP9qeANEuc9ftGlQvn81rzT/hOP%2BChf/Rr/AMGf/D8at/8AMvR/wnH/AAUL/wCjX/gz/wCH41b/AOZeplGMt1cmUIT%2BJJ%2BqTOxvv2bP2ddTz/aXwD8FXGevn%2BFbR8/nHWRe/sV/scaln%2B0f2S/hncZ6%2Bf4D058/nDWL/wAJx/wUL/6Nf%2BDP/h%2BNW/8AmXrl/gj%2B0d%2B3b8ePgx4Q%2BOPhX9lD4SWul%2BM/C%2Bn67pttqHx11RZ4YLu2juI0kCeGGUOFkAYKzDIOCRzWMsJhJb04v/t2P/yJzywWCn8VKD9Yxf8A7adZef8ABPT9gy%2B/1/7GHwtGf%2BePgOwj/wDQYhWZd/8ABMb/AIJ73mfO/Y68ADP/ADy8PRR/%2BggVf/4Tj/goX/0a/wDBn/w/Grf/ADL0f8Jx/wAFC/8Ao1/4M/8Ah%2BNW/wDmXrJ5bl0t6MP/AACP/wAiYyynKZb4en/4BD/5A566/wCCTn/BOO8z5v7InhIZ/wCeVtIn/oLis%2B5/4I7f8E0rvPm/sm6EM/8APK%2BvE/8AQZxXY/8ACcf8FC/%2BjX/gz/4fjVv/AJl65f43ftHft2/Af4MeL/jj4q/ZQ%2BEl1pfgzwvqGu6lbaf8ddUaeaC0tpLiRIw/hhVLlYyFDMoyRkgc1m8oymW%2BHh/4BH/IyeQ5HLfC0/8AwXD/AORMe4/4Ip/8Ewrr/Wfsq2I/65%2BI9UT/ANBuhVKf/ghp/wAEtp%2Bf%2BGYNh9Y/GetD/wBvMV6b/wAJx/wUL/6Nf%2BDP/h%2BNW/8AmXo/4Tj/AIKF/wDRr/wZ/wDD8at/8y9Q8jyV74an/wCAR/yMnw5w898HS/8ABcf8jyWf/gg//wAEwJvufs/3kf8AueM9VP8AO5NVJ/8Aggb/AMEzJf8AV/B7V4v9zxhf/wBZTXsv/Ccf8FC/%2BjX/AIM/%2BH41b/5l6P8AhOP%2BChf/AEa/8Gf/AA/Grf8AzL1D4fyJ/wDMLT/8BRrHI8mp/Bh4r0VvyaPD5v8Ag38/4Jry/c%2BHniKP/c8W3X9WNVZv%2BDez/gnHJ/q/DHi2P/c8VSf1U16l8Xf2jv27fg14UtPF/iP9lD4SXNveeKNE0KOOy%2BOuqM4n1TVbXTIHO7wwo2LNdxs5zkIrEBjhT1H/AAnH/BQv/o1/4M/%2BH41b/wCZeofDmQP/AJhYf%2BAo6I5dg4fDFr0lUX5VUfPkv/Bu9/wTtk%2B5Y%2BNk/wBzxR/jEagP/Buv/wAE/wBDutNU%2BIVufWHxPEP525r6K/4Tj/goX/0a/wDBn/w/Grf/ADL0f8Jx/wAFC/8Ao1/4M/8Ah%2BNW/wDmXqf9WeH3/wAwsPu/4JssPGO05r0q11%2BVdHzsv/BvR%2BxXAc2XxQ%2BLVtjp5Hi63GPztDViH/ggN%2By3a/8AHj%2B0T8cLfHTyfHFsuP8AyTr6B/4Tj/goX/0a/wDBn/w/Grf/ADL1y/j79o79u34d%2BK/BHhDWP2UPhJNcePPFEuhaVJbfHXVCkE8elahqZeXd4YBCeTp0ygqGO90GMEsouGsgW2Gj%2BP8A8kJ4eMt5z/8ABtf/AOaDzG3/AOCFvwNs8fYf2wP2h4MdPJ%2BIduuP/JOr9v8A8EWfh/ZDFh%2B3j%2B03B6eV8UIl/lZ17P8A8Jx/wUL/AOjX/gz/AOH41b/5l6P%2BE4/4KF/9Gv8AwZ/8Pxq3/wAy9WuHsljtQX3z/wDkznnlmDqfFzP/ALi1v/l55FF/wSAsrX/jx/4KOftSw%2Bmz4rgfythTfgX%2ByXe/st/8FDPBwuv2nfir8R11z4M%2BMtg%2BJviw6p/Z3k6t4Wz9myi%2BX5nmjf8A3vKj/u16/wD8Jx/wUL/6Nf8Agz/4fjVv/mXqh4H8D/tWeMf2rPDnxu%2BN3w4%2BHvhnRvDPw98Q6HDD4V%2BId9rV1d3WpX2iXCMyXGkWKRRomlygsHdi0qALjJHRQynL8LVVSlCzX96f5ObX4CoZVgMPWVWnF8y6udR/hKpJfgz3WiiivRPRCs3xj4M8H/ETwtf%2BB/iB4U03XdE1S2a31PR9YsY7q1vIWGGjlikBSRCOqsCDWlRQBx2m/s7fs/aN4RbwBpHwL8HWmgvoR0R9EtvDFpHaNphd3NiYVjCG3LSSN5ONmXY4yTVvwX8FPg18OPh/J8Jvh58JfDOg%2BFZY5kl8M6LoNva6e6zZ85TbxIsZD7m3Db82TnOa6aigCDS9L0zQ9MttF0XToLOzs4EgtLS1hWOKCJFCqiKoAVQAAABgAACvnn9iHwzp3hf9njxZeWPmEXv7Q3j/AFO%2BdhnB/wCE81Te3A6KkY/Ba%2Bja%2BSv2SvFn7Z2n/D3xRZ/DH4B/DDV9CT40/EX%2Bz9R174u6jpt3Mv8AwmesljJbRaBcpEQ24ACZ8gA5BO0JpNp9i41JxhKCekrX87O6%2B56n1B/wnPgn/ocNL/8ABhH/APFUv/Cc%2BCf%2Bhw0r/wAGEf8A8VXlv/Ccf8FC/wDo1/4M/wDh%2BNW/%2BZej/hOP%2BChf/Rr/AMGf/D8at/8AMvTIPUv%2BE58E/wDQ4aV/4MI//iqP%2BE58E/8AQ4aV/wCDCP8A%2BKry3/hOP%2BChf/Rr/wAGf/D8at/8y9H/AAnH/BQv/o1/4M/%2BH41b/wCZegDUvvgZ%2BxRqnw40n4O6n8HfhbceEdAvftmheFZ/D2mvpum3O6RvOgtinlQybpZTvRQcyOc/Mc6Gn/Dj9lHSbW1stK8B/D22hsrTSbSyht9LsUW3g0ueS40yJAFARLSeWWW3UYEEkjvGFZiT5n8Ef2jv27fjx8GPCHxx8K/sofCS10vxn4X0/XdNttQ%2BOuqLPDBd20dxGkgTwwyhwsgDBWYZBwSOa6j/AITj/goX/wBGv/Bn/wAPxq3/AMy9AGrY/A/9irS/FOt%2BOdM%2BEHwut9b8SwXUPiPWIPD%2BmpdarHdY%2B0pcyhN86y7V8wOSHwN2cV0HjfSvgB8TPBFz8MviRpvg7xB4bvIUiu/D2uQ2l3YzxoysiPBKGjZVZVIBXAKgjoK4r/hOP%2BChf/Rr/wAGf/D8at/8y9H/AAnH/BQv/o1/4M/%2BH41b/wCZegDqh4J/ZhHh638Ijwj4DGk2nhufw9a6X9gsvs8OkTiNZtOSPbtW1kEMQeADy2ESAqdoxz%2Bo/s4/sHav8MLH4I6t8B/hHdeC9M1P%2B0dN8I3HhfS30u0vMOPtMVq0ZijlxLIPMVQ37x%2BfmOeN%2BN37R37dvwH%2BDHi/44%2BKv2UPhJdaX4M8L6hrupW2n/HXVGnmgtLaS4kSMP4YVS5WMhQzKMkZIHNdR/wnH/BQv/o1/wCDP/h%2BNW/%2BZegDQb4B/sPvB4WtX%2BC3wpMfgaR5PBMZ8OaZt8Pu8iys1iPL/wBEJkVXJi25ZQ3UA1r2/gH9lq0%2BK8/x5tfBfgCLxzdWgtbnxnHp1iurSwBFQRNdhfOZNqIu0tjCgYwBXMf8Jx/wUL/6Nf8Agz/4fjVv/mXo/wCE4/4KF/8ARr/wZ/8AD8at/wDMvQB6j/wnPgn/AKHDS/8AwYR//FUeDDv0MzqDsmvruWIkY3I9zIyt9CpBHsa8u/4Tj/goX/0a/wDBn/w/Grf/ADL1y/xd/aO/bt%2BDXhS08X%2BI/wBlD4SXNveeKNE0KOOy%2BOuqM4n1TVbXTIHO7wwo2LNdxs5zkIrEBjhSAfR1FeM/8Jx/wUL/AOjX/gz/AOH41b/5l6P%2BE4/4KF/9Gv8AwZ/8Pxq3/wAy9AHs1FeM/wDCcf8ABQv/AKNf%2BDP/AIfjVv8A5l6P%2BE4/4KF/9Gv/AAZ/8Pxq3/zL0AezUV84%2BPv2jv27fh34r8EeENY/ZQ%2BEk1x488US6FpUlt8ddUKQTx6VqGpl5d3hgEJ5OnTKCoY73QYwSy9R/wAJx/wUL/6Nf%2BDP/h%2BNW/8AmXoA9morxn/hOP8AgoX/ANGv/Bn/AMPxq3/zL0f8Jx/wUL/6Nf8Agz/4fjVv/mXoA9morxn/AITj/goX/wBGv/Bn/wAPxq3/AMy9cvq37R37duj/ABn0D4HXH7KHwkbVPEXhfV9ds7lPjrqnkRwadc6bbzI5PhjcHZtUgKgKQQkmSpChgD6Oorxn/hOP%2BChf/Rr/AMGf/D8at/8AMvR/wnH/AAUL/wCjX/gz/wCH41b/AOZegD2aivGf%2BE4/4KF/9Gv/AAZ/8Pxq3/zL0f8ACcf8FC/%2BjX/gz/4fjVv/AJl6APZqK%2BcdJ/aO/bt1j4z6/wDA63/ZQ%2BEi6p4d8L6Rrt5cv8ddU8iSDUbnUreFEI8Mbi6tpc5YFQAHjwWJYL1H/Ccf8FC/%2BjX/AIM/%2BH41b/5l6APZqK8Z/wCE4/4KF/8ARr/wZ/8AD8at/wDMvR/wnH/BQv8A6Nf%2BDP8A4fjVv/mXoA9morxn/hOP%2BChf/Rr/AMGf/D8at/8AMvXL%2BAf2jv27fiJ4r8b%2BENH/AGUPhJDceA/FEWharJc/HXVAk88mlafqYeLb4YJKeTqMKksFO9HGMAMwB9HUV4z/AMJx/wAFC/8Ao1/4M/8Ah%2BNW/wDmXo/4Tj/goX/0a/8ABn/w/Grf/MvQB7NXjP7L/wDyW/8AaO/7LNY/%2BoV4Xo/4Tj/goX/0a/8ABn/w/Grf/MvVv9lb4c/GnwfrHxQ8d/HTQPC%2Bk6p4%2B%2BIUWuWeleE/Etzq1va2sWg6Ppiq9xcWVmzSNJp0rlRFtCyINzHOAD1uiiigAooooAKKKKACiiigAooooAKKKKACiiigAooooAKKKKACiiigAooooAK%2BV/2nv2tPi58MPjH4s1rwD4d8HyeGPg/4f8P3vjU61pFxNquqW%2Br38qXMFhcR3EaWXkW1nHcZkinFzIUjIh8vzT9UV4z8Z/2Ifhx8bvikfiZrnjnxVpcWo2ukWvi/w1o11app3imDS72S9sYr5ZbeSYLHNNLn7PLAZY5DFMZYwqAA9mooooAKKKKAPmPw5%2B0r8TIf2/8AxR8H/iNrHh7wn4bXxBaaJ4Mi1H4Rayl14xgGgQajiDxG12unNLHd3OoAWgheTy7SYBQWaRfpyvK/Fn7LUHj/AOMmkfFPx78b/Gur6V4e12PWtA8AXB0yLRrHUI7d4I5w0Nkl7Ls8ySRUmupIxI%2B7Z8iBfVKACiiigDxf/goL8Xfjh%2Bz9%2ByP40%2BPXwCvfCkeseCdCu9cuoPGGi3N9bXdpa20sz26JbXVsySuyIokLlUBYlH4Fef8Ajz9rT4ueC/jx4t1Pwp4d8IRfDzwh8Y/CPw%2B8ZWc2kXB1vVdV12DRUj1CG7S4WGOOD%2B3NJjMUlvK8iQz4lj2oK9h/ax/Zxsv2tPgRr37PutfFXxT4R0nxPZS2OuX/AIQXTvtdzZSxPFNbbr%2B0uo0R1flkRZAVG115zxcH7APg6f4i2fxF8VfHHx9rrHWdJ1zxNo2oS6VFY%2BJ9c0xI0sdWvY7awiZbiIQWmFtmggY2NsXiYx5IB73RRRQAV4v%2B2T8Xfjh8ErXwD4x%2BFl74U/sbUPiZ4c8PeL7HxBotzc3Vza6rrNjpoNnLDdQpbSRrcyyb5EnUlEXZyTXtFeVftXfstv8AtVeG9C8Lz/H3xv4Gt9C8SWGuo3guHR2e7vbG8gvLNpTqWn3g2xXFvG4WMIG5WTep2gA84/Z5/aV%2BJmt/tVeLfgj8UNX8PeE9Oh8U63b%2BCfCUnwi1nTLnXraF0lN/b61cXf2DUHYyTSyxW0BfkuxXDE/TleS6T%2ByiH%2BMmi/GX4j/tAeO/Gs3he7vLvwnoXiEaTDYaPdXNvJayXES2Gn20sr/Z5p4V8%2BSVUWd9oBII9aoAKKKKAPD/ANu74ufHj9n74Nav8dfhR4x8C2On%2BFtFuby90XxZ4Zvb%2B58Q3uUWz0yzktr2D7PNcSkW6N5V0zSzxBYWPyt5/wDBH9r74z658S/BX9reDPCWkfDTxv8AE/xR8NvCvhrTtLmj1fRL/QIdW3zz3IuGt5oJG8P6miwx28RjVrY%2BZJlgPT/2lf2QYP2kvHngj4gTftA%2BO/CFz4Bu7m90Wx8MRaNPZyXsqCNbyaDU9OvEeeGPzFhkAUxieUj5myKvgP8AYa%2BHvgP4y2/xdh%2BIvi7UoNO13U9e0TwhqVzZf2TpWt6jG8eoapAkVqk/nzie7LK8zwo19cmOKPzOAD2uiiigAr5f/a5%2BPH7S/wAFviJp/hTSofAHjXR/HMOtW2i/DmLwffSawlraaHdXcl/cTi9eK6thdRW9tJCLWIH7fCgmMjIkn1BXh037E1xH%2B0f4r/aa0T9qv4l6dq/i3TYdOudLhg8Pz2mn2cMDRw21m1zpMtzbxLK73WxZtrzuXcODtoAZ%2Bwh%2B0H43%2BPfw9vLr4r%2BPtGvvF2nCzbX/AA3ZfC7V/CN5oDz2yyiC5stXup7hwW3%2BXcAJHIqHaG2k17pXm/wO/Zu074M%2BJ/EnxD1j4peKfHHirxXFY2%2BseJ/FzWC3L2lmJvstqkWn2trbRxRtc3LjbCGZriQszZGPSKACiiigD45/4KCftx/FT9jDxz/aeuaLoHjHwi%2Bjajrdv4Vl%2BHOp2Utumm6Nfakkn/CRTXT6ZPd/a9NGyxWBLoRzLKBthaRvXv2aPi78c9W%2BKnjf9nr9o658Kah4n8I6ToetR614K0i5sLG5sdUF5GkRgubm5dZYrjTrtS/m4kQxNsjJKit8df2EvBH7TmtXVr8f/i3418UeC7mS4kX4ZXkmmw6LFJNYzWTNvt7KO%2BkAjuJmCS3ToHfdt%2BRAvT/s%2BfszaR8A7zXvEV38UPFnjjxH4kNnHq3irxrcWb30ttaRGK1tR9jtreFYog8rDEe9nnld2dnJoA9KooooAK%2BI/wBqf9sr9rP4N/GrxB8KPB3hvw5411Ow0W413wwE%2BB/iCOTRQNR0y1Qwt9uceJpBY6pced/ZflPC0JWURiYR19uV4fr37Fup%2BJfHp%2BJ2tftc/FGbW9PgvIvBt4U0ADwqt1NDJP8AZIxpOydmjgW33Xq3TLEzhSruzkA6r9lj4sP8ZPhHB4svfiZo3iq/h1G6stUvtG8GX3h0W1xFKytazabqFxPdWc8YwrxzOHz821QwFejVw3wD%2BAvh74AeGdT0bSvFOt%2BINR1/XrjW/EniTxHNA17qt/MERp5RbxQwJiOKGJUhijjVIkAUYJPc0AFFFFABRRRQAUUUUAFFFFAFHxR4hsPCXhrUfFeqhza6ZYzXdyIly3lxoXbA7nCmvnP9ib9pP41%2BP/FOj%2BDPjZ4e8GWY8dfC2y%2BI3hmHwZpVxaDTI7y4Ju9PuzNcSi7mje5tn%2B2IIBO0sxMEe0F/pa7tLW/tZbG9t0mhmjaOaKVQyupGCpB4II4xXkP7M37FfgL9mDVX1fQPiD4t8Sy23hix8M%2BHR4svbWYaBoVm8j2%2Bm2pt7eEtGpk%2BaWczXEgji8yZ/LXAB7FRRRQAVwv7UHjz4i/Cz9mj4ifE74P%2BFF17xb4c8C6vqnhbQ2sZroajqNvZyy21sYYGWWYSSoieXGwdt2FIJBruqzvFuiX/AIl8Mah4f0vxXqOhXN7aSQ2%2BtaQsDXVi7KQJohcRSxF1PIEkbpkfMrDIIB5d%2BxT8Wp/ih8M76y1b4heH9Z1Pw7qq6deaZonww1Pwc%2BhoLaCSKzuNK1S5nuYXCOJFdvLR4pYtiYG9/Yq88%2BA/7O2k/A688S%2BI7n4ieJPGPiTxfqMN54i8U%2BK3sxd3Rht0t4IhHY21tbRRRxoAqxwpks7MWZmY%2Bh0AFFFFAHy5%2B1R%2B1j8UP2cPi944sviVo3hLxF8L7D9nfxf49ttCt9EuE1V20QaWs9tcXMly9vNFOt9OAgtkKhEy75YV2/7M/wAX/j5qnxc8Zfs6/tLP4SvPFHhjwx4e8Sx6r4K0m5sbKSy1Z9St1tjDc3Ny5lhuNIuwZRIFkR4m8uM7lqD4x/sK%2BHfjp8dW%2BMvjz47eOZdNm8Fan4Rvvh7DBov9iXejaktt9vtJC%2BmtekTtaQOzi6DqUIRkRmQ9J%2Bzv%2By7of7Pt9rXiOf4oeLfG/iHX7Wwsr/xP42ubSS9NhYpItnZj7JbW8flRGe4cEoZHe5ld3dmzQB6fRRRQAV8ifGv9pf8Aa28Ga7%2B0B4Et/CvgzxZe%2BAvD/hTxJ8NrHSfh/qd/Oseo6rqUIS8tYrx5dRngXTY51NsLclyQq/KrV9d14XL%2BxR4hi%2BOnjb4/6F%2B2h8VtK1bxvpFjplzY2Vn4Ya0022sri5ns0thLoryfujeXSgzPKXWciTzCqFQDq/2VPi3N8ZfhSPE2o/E7RvFOo2uq3Njq11o/gi/8NmzuIm%2Ba1n0zUbie6tJ0UruSZgxDK21VYV6TXCfAP4B6B8AdC1mx0/xbrniPVfE3iCXXPE/ibxJLbte6rfyQwwebILaGGCMLBb28KpFFGipCgC5yT3dABRRRQB8bftLftd/tLfs8fGaD4baynwz8a32twQTeEYdO8LXtpL4LvNS8Q6Z4e0ibU5XvphdRTtq84LRLZyOLG6WMMvmGL3H9lX4v/Ej4jDx/8PvjEdEn8VfDTx43hrWdV8NadNZ2Gp%2BZpenatb3ENvNPPJb5tdUt0eNppcSRyYYgjHC23/BNXwk118Q38Q/tL/E7Wbf4k68dc1i31I6F5lnqUVxDPp9zbXUWlpdKbB7e3FpG80kUSwoGR%2Bc%2BsfAP4C6H8A/D2rabZeL9c8Sat4i16bWvE/ijxK9sb/V76SOKHzphawQQLsggt4ESKKNFjgjULwSQDuqKKKAGXP2n7NJ9j2edsPlebnbuxxnHOM18QfFb9rn9tP4afETXPhtb23gPxnr3hi98NW%2BreOvBHwV1/Vo/DlvqzXj3thLpVnqU93czRw2VjdExTp%2B7uoWlgQGJpPt67hkuLWW3hupIHkjZVniCl4yRgMu4FcjqMgj1Br57%2BDH7AXiD4CfDa4%2BGnw7/AG6vjFFHdas%2BpzazeWXhOfUJbuV5ZLmeaZ9CP2mSd5d0kk4kfMabCgGCAes/AT4h2XxW%2BDvh/wCIVh8QNG8VJqeniR9f8P6TNYWl3ICVkKWs800tsVdWRoZJHeNlZWO5SB19cl8C/gv4S/Z9%2BF%2BnfCnwVc39xZWEt1cTX2q3Imur67urmW6urqZwqhpZrieaV9qqu6Q7VVcKOtoAKo%2BJ4fElz4b1C38G6nY2WryWUq6XeanYPdW0FwUIjklhjliaaNWwWRZIywBAdSdwvVm%2BMdBv/FHha/8ADul%2BLdS0G5vLV4oNa0cQG6sXI4miFxFLEXU8gSRuhx8ysMigD4e%2BG/7dn7Wvxg%2BKet/BL4Wab8Pk8Z6ba67fSeM/Ffwu1rQ11TTNItdFlSxl0S8vk1DT5Xu/EOxJp5nj8qGS4SF1nQH7G%2BAXxa034%2BfAnwV8ddG02Wzs/GvhLTdetLOZ9zwRXlrHcLGxAGSokAJ9RXi2r/8ABMjwPrWuX3xFu/2lPimnxA1ZLy11r4k217pEOrX%2BmXVta202mFE00WcNsUsrRh5FtFKskCyrKHLMfoPwX4P8NfDzwdpPgDwZpMWn6PoemQafpNhDnZbW0MaxxRrnnCoqqPpQBp0UUUAcv8adR8caN8Lda1v4c%2BIbHS9WsLM3UN9qHg%2B98QIkcZDygadYzwXN5I0SuqRQyBy7LhXPyN8W/CX/AIKI/H7xJ400PU/G9x4R8CeDNSnnXxB44vPgZ4imttYv4dfutIRLmVb6NPDM8lraWv7jVGklgeVY3zsCV9t/EzwZrvj3wlN4c8N/FLX/AAbeSSxvFr/hmKxe7g2sCVVb%2B2uYGDAFSHibgnGDgjxW6/4JzeFNQ8H3Hw21b9pD4m3fhjXNQmv/AB5oE1xo4i8YXc9411cTX0q6aLiLzSywtHZy2sQhiSNUUbtwB9E0UUUAFFFFABRRRQAUUUUAFFFFABRRRQAUUUUAFFFFABRRRQAUUUUAFFFFABRRRQAUUUUAFFFFABRRRQAUUUUAFFFFABRRRQAUUUUAFFFFABRRRQAUUUUAFFFFABRRRQAUUUUAFFFFABRRRQAUUUUAFFFFABRRRQAUUUUAFFFFABRRRQAUUUUAFFFFABRRRQAUUUUAFFFFABRRRQAUUUUAFFFFABRRRQAUUUUAFFFFABRRRQAUUUUAFFFFABRRRQAUUUUAFFFFABRRRQAUUUUAFFFFABRRRQAUUUUAFFFFABRRRQAUUUUAFFFFABRRRQAUUUUAf//Z\">"
      ]
     },
     "metadata": {},
     "output_type": "display_data"
    }
   ],
   "source": [
    "s.run(tf.global_variables_initializer())\n",
    "\n",
    "BATCH_SIZE = 512\n",
    "EPOCHS = 40\n",
    "\n",
    "# for logging the progress right here in Jupyter (for those who don't have TensorBoard)\n",
    "simpleTrainingCurves = matplotlib_utils.SimpleTrainingCurves(\"cross-entropy\", \"accuracy\")\n",
    "\n",
    "\n",
    "\n",
    "for epoch in range(EPOCHS):  # we finish an epoch when we've looked at all training samples\n",
    "    \n",
    "    batch_losses = []\n",
    "    for batch_start in range(0, X_train_flat.shape[0], BATCH_SIZE):  # data is already shuffled\n",
    "        _, batch_loss = s.run([step, loss],\n",
    "                              {input_X: X_train_flat[batch_start:batch_start+BATCH_SIZE], \n",
    "                               input_y: y_train_oh[batch_start:batch_start+BATCH_SIZE]})\n",
    "        \n",
    "        # collect batch losses, this is almost free as we need a forward pass for backprop anyway\n",
    "        batch_losses.append(batch_loss)\n",
    "\n",
    "    train_loss = np.mean(batch_losses)\n",
    "    val_loss = s.run(loss, {input_X: X_val_flat,\n",
    "                            input_y: y_val_oh})  # this part is usually small\n",
    "    \n",
    "    train_accuracy = accuracy_score(y_train,\n",
    "                                    s.run(classes,\n",
    "                                          {input_X: X_train_flat}))  # this is slow and usually skipped\n",
    "    \n",
    "    valid_accuracy = accuracy_score(y_val,\n",
    "                                    s.run(classes,\n",
    "                                          {input_X: X_val_flat})) \n",
    "    \n",
    "    simpleTrainingCurves.add(train_loss,\n",
    "                             val_loss,\n",
    "                             train_accuracy,\n",
    "                             valid_accuracy)"
   ]
  },
  {
   "cell_type": "markdown",
   "metadata": {},
   "source": [
    "# Submit a linear model"
   ]
  },
  {
   "cell_type": "code",
   "execution_count": 15,
   "metadata": {
    "collapsed": true
   },
   "outputs": [],
   "source": [
    "## GRADED PART, DO NOT CHANGE!\n",
    "\n",
    "# Testing shapes \n",
    "grader.set_answer(\"9XaAS\", grading_utils.get_tensors_shapes_string([W, b, input_X, input_y, logits, probas, classes]))\n",
    "# Validation loss\n",
    "grader.set_answer(\"vmogZ\", s.run(loss, {input_X: X_val_flat, input_y: y_val_oh}))\n",
    "# Validation accuracy\n",
    "grader.set_answer(\"RMv95\", accuracy_score(y_val, s.run(classes, {input_X: X_val_flat})))"
   ]
  },
  {
   "cell_type": "code",
   "execution_count": 16,
   "metadata": {},
   "outputs": [
    {
     "data": {
      "text/plain": [
       "0.25504532"
      ]
     },
     "execution_count": 16,
     "metadata": {},
     "output_type": "execute_result"
    }
   ],
   "source": [
    "s.run(loss, {input_X: X_val_flat, input_y: y_val_oh})\n",
    "# 0.25504532"
   ]
  },
  {
   "cell_type": "code",
   "execution_count": 17,
   "metadata": {},
   "outputs": [
    {
     "data": {
      "text/plain": [
       "0.93000000000000005"
      ]
     },
     "execution_count": 17,
     "metadata": {},
     "output_type": "execute_result"
    }
   ],
   "source": [
    "accuracy_score(y_val, s.run(classes, {input_X: X_val_flat}))\n",
    "# 0.93000000000000005"
   ]
  },
  {
   "cell_type": "code",
   "execution_count": 18,
   "metadata": {},
   "outputs": [
    {
     "name": "stdout",
     "output_type": "stream",
     "text": [
      "Submitted to Coursera platform. See results on assignment page!\n"
     ]
    }
   ],
   "source": [
    "# you can make submission with answers so far to check yourself at this stage\n",
    "grader.submit(COURSERA_EMAIL, COURSERA_TOKEN)"
   ]
  },
  {
   "cell_type": "markdown",
   "metadata": {},
   "source": [
    "# MLP with hidden layers"
   ]
  },
  {
   "cell_type": "markdown",
   "metadata": {},
   "source": [
    "Previously we've coded a dense layer with matrix multiplication by hand. \n",
    "But this is not convenient, you have to create a lot of variables and your code becomes a mess. \n",
    "In TensorFlow there's an easier way to make a dense layer:\n",
    "```python\n",
    "hidden1 = tf.layers.dense(inputs, 256, activation=tf.nn.sigmoid)\n",
    "```\n",
    "\n",
    "That will create all the necessary variables automatically.\n",
    "Here you can also choose an activation function (remember that we need it for a hidden layer!).\n",
    "\n",
    "Now define the MLP with 2 hidden layers and restart training with the cell above.\n",
    "\n",
    "You're aiming for ~0.97 validation accuracy here."
   ]
  },
  {
   "cell_type": "code",
   "execution_count": null,
   "metadata": {
    "collapsed": true
   },
   "outputs": [],
   "source": [
    "#tf.layers.dense?"
   ]
  },
  {
   "cell_type": "code",
   "execution_count": 19,
   "metadata": {
    "collapsed": true
   },
   "outputs": [],
   "source": [
    "# write the code here to get a new `step` operation and then run the cell with training loop above.\n",
    "# name your variables in the same way (e.g. logits, probas, classes, etc) for safety.\n",
    "### YOUR CODE HERE ###\n",
    "\n",
    "\n",
    "hidden1 = tf.layers.dense(input_X, 256, activation = tf.nn.sigmoid)\n",
    "\n",
    "hidden2 = tf.layers.dense(hidden1, 256, activation = tf.nn.sigmoid)\n",
    "\n",
    "logits = tf.layers.dense(hidden2, 10)\n",
    "\n",
    "probas = tf.nn.softmax(logits)\n",
    "\n",
    "classes = tf.argmax(probas, 1)\n",
    "\n",
    "loss = tf.reduce_mean(tf.nn.softmax_cross_entropy_with_logits(labels=input_y, logits=logits))\n",
    "step = tf.train.RMSPropOptimizer(0.001).minimize(loss)\n",
    "\n"
   ]
  },
  {
   "cell_type": "code",
   "execution_count": 20,
   "metadata": {},
   "outputs": [
    {
     "data": {
      "text/html": [
       "<img src=\"data:image/jpeg;base64,/9j/4AAQSkZJRgABAQAAAQABAAD/2wBDAAIBAQEBAQIBAQECAgICAgQDAgICAgUEBAMEBgUGBgYFBgYGBwkIBgcJBwYGCAsICQoKCgoKBggLDAsKDAkKCgr/2wBDAQICAgICAgUDAwUKBwYHCgoKCgoKCgoKCgoKCgoKCgoKCgoKCgoKCgoKCgoKCgoKCgoKCgoKCgoKCgoKCgoKCgr/wAARCAEgA2ADASIAAhEBAxEB/8QAHwAAAQUBAQEBAQEAAAAAAAAAAAECAwQFBgcICQoL/8QAtRAAAgEDAwIEAwUFBAQAAAF9AQIDAAQRBRIhMUEGE1FhByJxFDKBkaEII0KxwRVS0fAkM2JyggkKFhcYGRolJicoKSo0NTY3ODk6Q0RFRkdISUpTVFVWV1hZWmNkZWZnaGlqc3R1dnd4eXqDhIWGh4iJipKTlJWWl5iZmqKjpKWmp6ipqrKztLW2t7i5usLDxMXGx8jJytLT1NXW19jZ2uHi4%2BTl5ufo6erx8vP09fb3%2BPn6/8QAHwEAAwEBAQEBAQEBAQAAAAAAAAECAwQFBgcICQoL/8QAtREAAgECBAQDBAcFBAQAAQJ3AAECAxEEBSExBhJBUQdhcRMiMoEIFEKRobHBCSMzUvAVYnLRChYkNOEl8RcYGRomJygpKjU2Nzg5OkNERUZHSElKU1RVVldYWVpjZGVmZ2hpanN0dXZ3eHl6goOEhYaHiImKkpOUlZaXmJmaoqOkpaanqKmqsrO0tba3uLm6wsPExcbHyMnK0tPU1dbX2Nna4uPk5ebn6Onq8vP09fb3%2BPn6/9oADAMBAAIRAxEAPwD9/KKKKACiiigAooooAKKKKACiiigAooooAKKKKACiiigAooooAKKKKACiiigAooooAKKKKACiiigAooooAKKKKACiiigAooooAKKKKACiiigAooooAKKKKACiiigAooooAKKKKACiiigAooooAKKKKACiiigAooooAKKKKACiiigAooooAKKKKACiiigAooooAKKKKACiiigAooooAKKKKACiiigAooooAKKKKACiiigAooooAKKKKACiiigAooooAKKKKACiiigAooooAKKKKACiiigAooooAKKKKACiiigAooooAKKKKACiiigAooooAKKKKACiiigAooooAKKKKACiiigAooooAKKKKACvPfjt%2B1J8FP2b5NGsfil4g1Maj4ilnTQNB8OeF9R1zVNR8lVed4bHTbee5kjiVkMkixlI96biu5c%2BhV4N%2B0P8D/j5/wANJ%2BDv2tv2bLLwfrWueH/B2seFNX8KeOdcutLtLywv7mwuxcQXtraXj288U2noCpt3WVJSCUKK1ABpf/BTL9izWLvxPb2nxXv0h8FWsk/jLUrvwXrEFjoIS0iu9l5dy2iwWsrQzRskMjrJIWKorMrKL2n/APBQ/wDZK1HwBrXxFTx/q9vB4f1ay0vVdE1DwNrNrrkV5ebfscC6PNaLqEr3AYGER27eaAxTcFYjy2b9gH4y%2BMf2a/jn8NfGHinwppHin4o/FS38daHc6U1xeWFpeW0OiywQ3IkihkkiN3pRRwoyYHGDuJVaPi79i/8AaV%2BLmr/Ef45fG34S/CjWvFnjWx8KaPp/gKy%2BI2s2Wm6fY6Hcaldw3qa7b6al5DqDXOqTOksVoPJSKNFZiWcgHsviH9vv9mzwv4a8OeI9XvvG3meK0v5NE8P2vwm8SXGuSRWUscV3NJpMWntf28MLzQq8s0CIpmiy37xM%2Bmaz8RPBHhv4e3XxX8T%2BJbbSvDljo76rf6vqrfZYbSySIzPPMZdvlKsYLNvxtAOcYNfGHin9hH9s/WPgX4X8Nay3hfxV470a58RHRfGV/wDHbxNpGr%2BCLW%2BuUktLO11q1sJLzXIYkjhEy3qw/aTbReYCFGPUfjR/wTotfj1%2Bzb4n%2BHHxD%2BOfjW78d%2BMPhfH4Z17xS3jbWho818tpDE2oJoS3y2FuzzQLK3kRRSEPIBIrSM5AOkg/4KUfsZf8K58V/FbWPite6Jo3giysr7xQ/ifwdq%2Bk3NlZXkxhtb37LeWsVxJaSyK6pcxxtC3luQ%2BEYjj/AI3f8FZP2d/hn8ENU%2BMfgPRfFXiqbQfiD4X8L674Y/4QXXbHU7A6zqVrax3T2cmnNdeV5Fw88DeT5d48aW8MhknjB8r1T/gmJ8ZPHfwq8faR4i8DeG9G8Y%2BI9D0fR7DxDqv7RfjPxut3aWusW%2BoTRyf27AfsEZ8likUSzHe%2BGkxknv8A9qH9gz40/GD4g/F/4g%2BBfEPheOTxfB8LbzwlZ6tfXMSvf%2BE/EdzrUsN40dvJ5ENwGt4VljEzrl2MfyKrgHqFh/wUE/Zb1H4m2XwZh8T%2BJo/Fd5oun6xLoF38N9egudO0%2B9adILu/SSyU6dDut5VeS68pYiFEhQum6j4a/wCCmH7FPi3wZ4s%2BIWkfGC4TR/Bfgi68Zaxe6h4S1W0Fx4et0Z5tWsVntUbVLNVQ4nsxPGxZArEugbB0P9kP4ofEP4mfG74g/G9fD2gxfGj4O%2BHfCF1Y%2BE9duNRl0u4tE11Ltlnns7XzYwNViMT7FZikm6OPA3fN37Y37Kn7UOj/ALDHxS%2BJv7TF34AtIfhD%2BxT8QfBHhePwFqF5cNrzXukWxn1G6W5toBYqE0i3CWcbXAVppCZ22oKAPrPw9/wUl/Yy8TaHrHiPT/i1dQWehppU1/JqnhLVbJmtNSu1s7HUIUuLVGubCWdgovoQ9qoDO0qorMPT9E%2BLvw88R/FLX/gvofiH7T4k8LaXp%2Boa/YR2k22zgvmuBa7pinlF3%2ByzHy1cyKoRmVVkjLfJOofsz%2BIPFegeKfjb/wAFIvF/wz8J%2BBbf9nu5%2BHUlx4f8QTLay6beyQyXmq3k17BbpYOTBbCG2QzCAmT/AEiQsuOw/wCCPngP4u2f7I9r8f8A9pDUDf8AxJ%2BL15H4n8V6g9nJbtJCLSCy01fKl%2BeH/iX2lpI0TYKSzTZAYtkA%2BqqKKKACiiigAooooAKKKKACiiigAooooAKKKKACiiigAooooAKKKKACiiigAooooAKKKKACiiigAooooAKKKKACiiigAooooAK8R0j/AIKMfse6ld69Z6n8Urzw83hzw5c%2BINQk8a%2BEdV0GObSbd0jnv7WTUrWBb63R5IlaW2MqAyxjOXXPtN7FczWcsNndCCZ4mWKYx7/LYjhtp64POO9fmJq//BHL9uX4v6t4X1z43fHHQ31vw14P1Cz1DxRqHxW8TeJx4h1v7ZpV9a6idLvoobLSbaS50xfPsLIBRHJtWWQKgUA%2B2X/b/wD2YbX4aN8WNY8QeKtK0ttcg0axs9c%2BGWv2GqanfzIZIYLLTbixS9v2kQM6/Z4ZAyo7AkIxHReA/wBqz4H/ABH1%2By8J%2BHPEOqQ6vf8AhSfxJDpGteFdS0y7TTYbv7JLLLDeW8UkDrP8hhkVZe%2BzbzXk3xO%2BDn7bvxib4e/G3XPBvwq0P4h/Cjx1NrHh/wAM2vjjUr/Rdcs7jSbvTLmO4vn0qGaxmKXskkbpa3AjMQU%2BYJGxV%2BJPwG/bg1/4y%2BHf2mvA%2BjfCu08WX3ww1XwX4x0LUvFepSWGkLcX8N1a39lcJpwk1AxCN1kt5YrQSlxiWLHIB3Gk/wDBRv8AZA8R694F8LeFfiNqus6n8SfBuleLfBunaJ4H1m9nvND1F9lrqMiQWjNa2%2B7HmSTiNbcMpm8oMCdj4a/tufs3fFf4jXPwn8M%2BL9Ws9ft9LudThsvE/gzVtEW/sbeRI57uyl1G1gjv4I3liDy2zSIvmISQGUnyj9hT9hL4sfsw6/8ADjWfHniDw1dnwd%2Byl4R%2BGN%2B%2BkXM8rNq2lvM1zNF5kEe61bemxmKu235o0wK8a%2BGn/BKv9sbxP8UfC/ib9qb4w2eqRaf4A8V%2BF/GniaD4v%2BJNavPEUur2KW39p2umX0Men6EcqWNpaKUXKgTOI1WgD6l8J/8ABRf9kfxrosfirQfHeuf2Hcarpen6f4lvfh/rdrpWoy6lex2VlJaX09mlteQS3M0UYuIJHhBlQs4VgT6X4W%2BLvw88a/EDxT8LvC/iH7XrnguSzj8T2iWkwWxkuoPtEEZlZBG7tCVkKIzMiyRlgokTd8w%2BOPAnxF8K/wDBPbxp8CP%2BChnif4VeCPAWg/DSLQLb4meHfFt2GadI0trXUntLqzgTTZlmFvJDBHcXTGcoiOTtDdr/AMEr/h98WPDf7ImlfFX9oqwS3%2BJ3xYvpfHXxEhW3aL7Pf36xmG02N8yfZbGOys9pyQLXBoA%2BjaKKKACiiigAooooAKKKKACiiigAooooAKKKKACiiigAooooAKKKKACiiigAooooAKKKKACiiigAooooAKKKKACiiigAooooAKKKKACvF/j14/8A2i/%2BGi/AvwI%2BAvjPwV4fTX/BXiXXtX1Pxf4Lu9aJOnXeh28MMMdvqVj5Yb%2B1JWZmZ8%2BWgAXkn2ivBfib4mttJ/4KX/Brw/c4B1X4MfENYCTyZI9T8Hvt/wC%2BA5/4DSclFXZdOnOrLlgruzfySu/wRqf8IP8A8FC/%2BjoPgz/4YfVv/moo/wCEH/4KF/8AR0HwZ/8ADD6t/wDNRXs1FMg8Z/4Qf/goX/0dB8Gf/DD6t/8ANRR/wg//AAUL/wCjoPgz/wCGH1b/AOaivZqKAPGf%2BEH/AOChf/R0HwZ/8MPq3/zUUf8ACD/8FC/%2BjoPgz/4YfVv/AJqK9mooA8Z/4Qf/AIKF/wDR0HwZ/wDDD6t/81FH/CD/APBQv/o6D4M/%2BGH1b/5qK9mooA8Z/wCEH/4KF/8AR0HwZ/8ADD6t/wDNRR/wg/8AwUL/AOjoPgz/AOGH1b/5qK9mooA8Z/4Qf/goX/0dB8Gf/DD6t/8ANRR/wg//AAUL/wCjoPgz/wCGH1b/AOaivZqKAPGf%2BEH/AOChf/R0HwZ/8MPq3/zUUf8ACD/8FC/%2BjoPgz/4YfVv/AJqK9mooA8Z/4Qf/AIKF/wDR0HwZ/wDDD6t/81FH/CD/APBQv/o6D4M/%2BGH1b/5qKta/8b/2RPhTaaRpPx0%2BMPw58Oa5qGiwagbbxd4hsLS7uI5Mjz9tw6uyM6SAN0yjDPBAzf8Ahr//AIJwf9HRfBH/AMLbR/8A47XNPGYOnJxnVimujlFP7nJM9rD8N8SYuhGtQwNecJK6lGjWlFrupRoyi1o9U2tNyx/wg/8AwUL/AOjoPgz/AOGH1b/5qKP%2BEH/4KF/9HQfBn/ww%2Brf/ADUVX/4a/wD%2BCcH/AEdF8Ef/AAttH/8AjtenaBovws8V6FZeKfC2k%2BH9S0zUrSO607UdPggmguoJFDxyxyICroykMrKSCCCDg1dLE4eu2qc4yt2kn%2BTZz47Js5yuEZ43C1aSk7J1KdSmm97JzpwTdtbJt21tbU85/wCEH/4KF/8AR0HwZ/8ADD6t/wDNRR/wg/8AwUL/AOjoPgz/AOGH1b/5qK88%2BH3/AAUa/Yv8X%2BB7Pxh4h%2BHvifQZ9U8ca14W0TRrn4Pa3Peate6dcX8ci2kUOns90TDp887LErmEAxybJFZR2XxC/ao/Za8C2Xj20vNEi0/WPAXhDWvEN5beLPAmraTZ3dnpi/6XPb3UmnOL23iZohJLZJdFRNGwR96K%2Bx5po/8ACD/8FC/%2BjoPgz/4YfVv/AJqKP%2BEH/wCChf8A0dB8Gf8Aww%2Brf/NRVWw/as/Yw1D4zyfs/Q3lv/wlFv4gj0G6j/4Qa/FhDqr6dHqUdi2oNaC0Wd7SVJkjMoZwcKCwKjZ%2BNfxV%2BCvwk/Z5139ofR/COjeKNO0uwaTTbfQ1tpBqt00oggtYpgCgaS4ZIdxO1WYluhoAof8ACD/8FC/%2BjoPgz/4YfVv/AJqKP%2BEH/wCChf8A0dB8Gf8Aww%2Brf/NRTv2c/iJZ/Fe58Z%2BC/it8DfDXhPxd4B1%2BLTfEOmaTqS6rYOk1jb30Fzb3clpavJG0VyFO%2BCNllhlXDKqu/ieg/wDBRPw9L8P7f4heMf2SNK06Dxp4DsfFvwbs7LXIrmbxPZXuo2WnWkF4Hs4hply0%2Bq6TvQG5RFvc%2BYzROlAHtX/CD/8ABQv/AKOg%2BDP/AIYfVv8A5qKP%2BEH/AOChf/R0HwZ/8MPq3/zUV4r8Tf8AgoRoXwe8Kz2nxQ/Z%2B%2BGfhXxTo/xIm8H%2BK7jxd8RF07wlpFwuixa1BM2uPpZcrcWlzbLEr2cZaZ3iODHlnXf/AAUV8I22kaZ47vP2VdI0bwzZ%2BC/BviP4hTeKtbisNU0KHxHcvb20VvZfZJBetC8bGbfLbdNsQlkDRgA9o/4Qf/goX/0dB8Gf/DD6t/8ANRR/wg//AAUL/wCjoPgz/wCGH1b/AOaiuf8AEPx1uvhd8fdO%2BGPxw/Z18G6J4Z8RW%2Bu3PhrxLpHiX%2B0Lz7NpcInluL6xbT4RaRNCch4p7ja7xRvtaRa5z4D/ALW1r%2B0L8DPFfxy8FfCv4Hw2ujabaajYWV18X4XbT7eRWmmXxBJBpciaHPDbASNGpuxuDoXUJvIB6H/wg/8AwUL/AOjoPgz/AOGH1b/5qKP%2BEH/4KF/9HQfBn/ww%2Brf/ADUV5n4a/a18UfEn9lh/2ofhL%2By18NNX0vSH19/El7d/EgW%2BkSWulyuhvNK1BNKkGpW84jkeKaSO2jwh3MvBJr37cHhWDXrXWfCv7LlhdeBtPt/CLeOfEGq30dlqOiy%2BIpY0tYorAWsguTbrPbTXW6eHy45v3YndWQAHpn/CD/8ABQv/AKOg%2BDP/AIYfVv8A5qKP%2BEH/AOChf/R0HwZ/8MPq3/zUV5J8Jf28dC%2BM37RHin9nfwX%2Bzb4Lu9Y0WHxQtppFv4yifWLK40i8W0i/tuxNiP7Ggv2dZLWbzbjzIXSTZgkDbuv2mPiDY/DX4wXE37H/AIDn8e/B4wSat4esfHZk0a8glsI7/Kam2krNHKsDEtC1nuBMRBKyq9AHoH/CD/8ABQv/AKOg%2BDP/AIYfVv8A5qKP%2BEH/AOChf/R0HwZ/8MPq3/zUVwfxZ/avbwr4b8J3fwn/AGUdD8V6zrfwtvPiDrmj3eux6cunaRax2hkihl%2BxzfabyR7tUgiZYY38mUyTQgLut69%2B2N8H2/aI%2BD3wR%2BG/wY0/xHpvxQmC6n4pQxW8Xh4XGg6prWnK0RhY3EtxDpNzmIMhhQxyOcSRK4B2P/CD/wDBQv8A6Og%2BDP8A4YfVv/moo/4Qf/goX/0dB8Gf/DD6t/8ANRXkfgz/AIKBfDvx/wDDb4mfG7wZ8GPh/rvhnwJ4Y1HWdO0fw343gv8AxTfRW7OIHvNJjssabDcpG80btcSuIihaJWLIh4A/bn0L4k/s9%2BMPjt4e%2BHPwCj0/wT4ti0rVfF978Z0TwTdWr2dvObq119dHbzWSW5itXja2RVmEieYSmCAeuf8ACD/8FC/%2BjoPgz/4YfVv/AJqKoeB/HH7Vng79qzw58Efjd8R/h74m0bxN8PfEOuQzeFfh5faLdWl1pt9oluis9xq98ksbpqkpKhEYNEhDYyDt/Bzxv4U%2BOf7LuhftB6T8L18Mz%2BIvCSaxbWE9qi3Fk7w%2BYu2RVUsucMj4XehVto3YFPxx/wApC/hf/wBkZ8ef%2BnbwhQB7NRRRQAUUUUAFFfHn7c/jX9kf4Zf8FA/2XvG3xK8c%2BAPD/j5vGWpWUd/rus2drqY0ebw3r8UcamV1kFtJfSRRjHyvO0a8vtFeb/8ABULxN8E/Fvi3xJ4h%2BIniDR9TjuP2e9U/4Z0vo7qKZpfHC3c6v/YzgkNrAkGkiHyT54xIE%2BUS0AfoXXzj8JvFX7d/x10fXvHfhf43/CTQNLt/iF4q0PS9Kv8A4P6pf3EVrpevX%2BmQtLcJ4igWWR47NXZlijXc5AUACvcdYu/iNY/D5rvwzoOkap4oj09DFp%2Bq6vJYWc9ztG5XuIre4eJM7vmWGQ9Plryj/gnTceJbv9m6%2BuvGWk2Nhq8nxb%2BIbanY6ZqL3dtbznxnrXmRxTvDC0yBsgO0UZYAEoucAAvf8IP/AMFC/wDo6D4M/wDhh9W/%2Baij/hB/%2BChf/R0HwZ/8MPq3/wA1FezUUAeM/wDCD/8ABQv/AKOg%2BDP/AIYfVv8A5qKP%2BEH/AOChf/R0HwZ/8MPq3/zUV7NRQB4z/wAIP/wUL/6Og%2BDP/hh9W/8Amoo/4Qf/AIKF/wDR0HwZ/wDDD6t/81FezUUAeM/8IP8A8FC/%2BjoPgz/4YfVv/moo/wCEH/4KF/8AR0HwZ/8ADD6t/wDNRXs1FAHjP/CD/wDBQv8A6Og%2BDP8A4YfVv/moo/4Qf/goX/0dB8Gf/DD6t/8ANRXs1FAHjP8Awg//AAUL/wCjoPgz/wCGH1b/AOaij/hB/wDgoX/0dB8Gf/DD6t/81FezUUAeM/8ACD/8FC/%2BjoPgz/4YfVv/AJqKP%2BEH/wCChf8A0dB8Gf8Aww%2Brf/NRXs1FAHjP/CD/APBQv/o6D4M/%2BGH1b/5qKP8AhB/%2BChf/AEdB8Gf/AAw%2Brf8AzUV7NRQB4z/wg/8AwUL/AOjoPgz/AOGH1b/5qKP%2BEH/4KF/9HQfBn/ww%2Brf/ADUV7NQSFG5jgDqTQB4z/wAIP/wUL/6Og%2BDP/hh9W/8Amoo/4Qf/AIKF/wDR0HwZ/wDDD6t/81Feoan488DaJn%2B2fGek2m3732rUYo8f99MK53VP2nP2bNEJGtftC%2BB7PHX7V4ss48f99SCspV6MPiml6tL82juoZXmeK/gYepP/AAwnL/0mEjkf%2BEH/AOChf/R0HwZ/8MPq3/zUUf8ACD/8FC/%2BjoPgz/4YfVv/AJqKuan%2B3x%2Bw1o%2BRqP7Y/wALo2Xqg8e6ezf98iYn9K53VP8AgqX/AME79Iz9r/a/8EPjr9l1YT/%2Biw1c8syy6HxV4L/t%2BP8A8kexQ4K4zxX8HLMTL0w9f/5SjW/4Qf8A4KF/9HQfBn/ww%2Brf/NRR/wAIP/wUL/6Og%2BDP/hh9W/8Amorh9T/4LM/8Ey9Jz9q/at0p8dfs2j6hP/6Lt2rKP/Bb7/gm3cEjQ/jXquqc4/4l/gXWGz/31aisHnmSxdniaf8A4HH/ADZ61Pwt8TKseaOS4u3f6vVS%2B9xij03/AIQf/goX/wBHQfBn/wAMPq3/AM1FH/CD/wDBQv8A6Og%2BDP8A4YfVv/morzL/AIfQ/scXPGiaT8SNTz937B8N9QbP03Rij/h8D8GrnnRP2Yfj7qQ7Gx%2BFVw2f%2B%2BnFT/buT9K8X6Xf5RZp/wAQq8R18WV1Y/4lCH/pdaB6b/wg/wDwUL/6Og%2BDP/hh9W/%2Baij/AIQf/goX/wBHQfBn/wAMPq3/AM1FeZf8PZtNn/5Bf/BO/wDaovQej2/wfJX8zcij/h6X4ruP%2BQd/wTJ/acb0%2B0/DlIf53Bo/tzKulT/yWf8A8rD/AIhbx6viwdvWthV%2BeM/Q9N/4Qf8A4KF/9HQfBn/ww%2Brf/NRR/wAIP/wUL/6Og%2BDP/hh9W/8AmorzI/8ABS3403P/ACDf%2BCXHx6f0%2B1aJbQ/zlNJ/w8M/atu%2BNI/4JS/FZyen2zVLG3/9CY4o/tvLukpP/typ/wDKw/4hhxmvipUo%2BuKwa/8Adtnp3/CD/wDBQv8A6Og%2BDP8A4YfVv/moo/4Qf/goX/0dB8Gf/DD6t/8ANRXmX/Dcv7ftzzpn/BI/xU4PT7V8TNKhP5FTik/4bJ/4KbXH/IP/AOCQF23p9p%2BOejRfziNH9tYLopv/ALhVf/kA/wCIZ8TL4qmFXrjsEv8A3YZ6d/wg/wDwUL/6Og%2BDP/hh9W/%2Baij/AIQf/goX/wBHQfBn/wAMPq3/AM1FeY/8NV/8FWrn/U/8EotMts/8/Hx00p8f98RUf8NG/wDBW%2B4/1P8AwTe8I2//AF8fGC1fH/fMdH9s4bpCp/4Kqf8AyKD/AIhtni%2BLFYJf9z%2BE/SrI9O/4Qf8A4KF/9HQfBn/ww%2Brf/NRR/wAIP/wUL/6Og%2BDP/hh9W/8AmorzL/hev/BYCTlP2D/h1H7SfFBT/JKP%2BF0/8FiX%2B7%2BxR8L0/wB/4jsf5JR/bFD/AJ9Vf/BUw/4hzmnXHYH/AMLsP%2Blz03/hB/8AgoX/ANHQfBn/AMMPq3/zUVb/AGVviN8afGGsfFDwJ8dNf8L6tqngH4hRaHZ6r4T8NXOk291ay6Do%2Bpqz29xe3jLIsmoyoWEu0rGh2qc58n/4W9/wWRk%2B5%2ByB8JI/%2BunxAmP8kroP%2BCdmq/GbW9c%2BPOqftBeE9G0PxfL8ZoP7X0vw/ftc2kGPCPhsReXKwBbMIjY56MzDtXThsfDFVHGMJx0v70HFfe%2BvkePnfCmKyLCxr1cVhqqb5bUcRTrS2bu4wV1HTWW12l1PpOiiiu0%2BXCiiigAooooAKKKKACiiigAooooAKKKKACiiigAooooAKKKKACiiigAr4x/bR8af8Id/wWC/Y0SWXZBq/h34ladOc9fMttDKD8ZUjr7Or82f%2BCzfi2TwH/wUq/Yf8YiXZDYeIvEJvHzjEEmp%2BFopP/HJGrzc2rfV8BKr2cX/AOTw/wAz6DhWl9Y4hw%2BH/wCfjlD5zpVor8XG3nY/SaiiivSPnwooooAKKKKACiiigAooooAKKKKACiiigDzPUv2ZP2bfjRo%2Bg%2BKfjF%2Bz34H8Wanb%2BH7W1g1HxL4Ts7%2BeOBVLrEsk8bMEDO7BQcAuxxkmqX/DA/7Cv/Rlnwl/8Nzpn/xiuT%2BL3/BSD9i/9j6Xw58NP2i/jL/wjut33hSz1O1sv%2BEd1G732r74lk32tvIgy8Mo2lg3y5xggnkP%2BH5v/BLL/o6L/wAsnXP/AJCrxcRi%2BHadeUa86Smnrzezvfzur39TReIeIypfVI5xOkqenIsTUgo9bKKrxUd9lFb7anrf/DA/7Cv/AEZZ8Jf/AA3Omf8AxivTtA0DQvCmhWXhbwtotppumabaR2unadp9ssMFrBGoSOKONAFRFUBVVQAAAAMCvlb/AIfm/wDBLL/o6L/yydc/%2BQq%2BnvAPjrwr8UPAmi/EvwLqn27RPEWkW2p6Pe%2BQ8X2i1uIllik2SKrpuR1O1lDDOCAeK6MDiMnrTksHKm2lryct7efKlpfuKXF1XiT91PMZYnk1s686vLfS9pValr7XSV9r9Dwn4YfsL%2BK/AHjzwprWp/GfTdQ0HwP8UPFXi/w1pcPhCSC7C67/AGs89pcXJvXSUxS6qxSVIYv3cIRkLMZB5HrX/BGGXXvFPj3xJefHbw7FceMvAXj/AML/ANtWvwvRNbuY/E0iuLjVdRN8X1R7LaI4UC26eWNu1MBh7tYft%2BfCPV9OsZtJ8KeI5r660XxbqV3pMv2C3l0tPDl6thqMd3JPdpBAwu3SBGaXy2JLF1jV3XhPBv8AwU%2B8D/Hab4caj8BILOWx134z6j4G8bwX99Y6lLp5t/Bur%2BIUNtc6VfXFnK7G0sDvSeZAk00bBJVPlekQddJ%2BwwH8Q6rr4%2BKGDqfx10n4jmIaJ/q/sWkafpv2DPn/ADb/ALB5nnYG3zdvltt3N3nxr%2BB2oftAfs8678EvH/jGK3v9asGjTxBoelmAWV0komtbqKCWWXLQypC%2B1nZXaM5wGwPnjxb/AMFVpX%2BCHhTxr8IvhTr/AIjvdUg%2BHsniPxTL4fgt9G0VvEl3pypBcwDUmuY7hrW981UgN1FA00HmzMpJb6Q%2BMPx48P8Awk%2BAXjz4%2B3Wjalc2PgLw/rGqX1lcafNaS3A06GWWVYxOillbyWCSqGjcEMjMpBIBznwI/Z7%2BJnwu1TxH438dfFfQfEfifx14si1Xxtf2ng6Wxs5bSHTIrC3srG2a%2Bma0C/Z4JWklludzNcDaolTyfINB/wCCWerRfD%2B3%2BHvjD9ogajB4L8B2PhL4N3ll4S%2BzTeGLKy1Gy1G0nvC93KNTuVn0rSd7gWyOtljy1aVnr0f9lr42fH7xD8VPE3wG/aVHhG58RaN4K8O%2BK7XUvBelXNlaC11WTUoDZNHc3Nw7y28%2BlzZnDosqTRkRRkMteST/APBQf9onRNJvfi1feD/BWpeFvEul/EB/h1oEfm6dfW134cNybZdQ1C4uWt3ivYrOeR3ENuLQlELTjdIADrk/YI%2BMVl4gh%2BNemftIeHj8UZ/HV/4l1vV9Q%2BHM0/h%2B8e50W10UQx6UNTWaDyrKytVjk%2B2swb7QW3LcOgzdd/4JZeG/EPgT4W/BfWPEngzUfCXw68O6Vpc9/rHwxiufE90lpOJZYrPVftSpplrchI4pII7ZysRkWORCytHwPh7/AIKJ/taeLPhR4k1Twno%2Bmarq2ieNfC9g2sRfAHxTDdW2m6lEJbu4l8LNeHVZFgUEx3KyLDOC5RSIXJ7P4g/tu/HPUfCWly/s1%2BNPhx4ru9M%2BEes%2BPPE3iDUPCuoW1lrC2Fwtuml2tr9u87TJpJVuo5ZZ5LhrV7fa0ErMyxgHc%2BD/ANjr4ux/tI%2BPvjN8YPjZ4S8Y6H45tLnR4tHm%2BHl1balovh9kKw6Ra3w1Z4Y4g586eQWge5kJLFQkKw4/wL/YR%2BMv7P1odU8GftD%2BFH1/Rvh5ongXwTeT/C%2BRLKz0TTZ5JE%2B32sOpo1/dOkjJ5sU1rEhy0cC73VsTwL/wUaX4u/tUy/Dbw3480Dwt4V0rWNF0eW01/wAAate3Wt32o6NZ6tFEmrQzxafpTmK/giignWaW4khmCKAUJm/Y/wD25/HP7YM%2BtX/hL4meC9Om1zw5q2o/DnwlqPw51qCeKKC6FtDeTanNdJbaxEjPD9rhsY0NtJcJC024B3AGeN/%2BCdfxy8TfDjTPh/pv7UPhcWt98RNS8ZfErR9Z%2BF9xc6N4pu7iRZYLNbODV7eS1sIpVEz27Tz/AGmRQZndWlSXqPiX%2Bwt40%2BJfxJufE958cdOs/D/i248L33xQ8O23g9y%2Bs32iXKXEUllcNen%2Bz4rgxQQzxSJdEwwqsckblpW4lv26Pjrpv7Inw5%2BKfjbxN8OfDWteKPidq/hTxf8AEPWNAu08MeG4LGfWYk1Ca1bUFkjSeTTLa1VZL1EWa/TMrYWN/OPHn/BYnx1ovwN0v45wX3gLw7p1j8Otc8QXaeJdJvn/AOE71PSNTu7C70XRP9Jha2nf7E0y%2Bat1IqXsGYHEcrUAe0eE/wDgn/8AFnwT4sXxF4e/aY0lF8Mr4xuvhlNN8PTJe6ZqOvzyXDz6pcG/xq0MEspIhSO0MuyMySM6B6tfDn9in9oH4e/sc%2BLv2ZYv2hvA13r/AIotrhJvHcnwtvjJd3F4CuoX%2BowvrjPfXk4ZysizwJEdgEbRxrELHxJ/al%2BLnw6/a3%2BHfw4h1XRtU8HfEW7xbac/w31aym0yzGl3dybhvEEl22nXNz51ocaakKXRim3gFYmkbmP2cf2tv2s/jrb%2BFrC/k%2BHmlXvxh%2BDqfEX4ZTr4bvpY/D1mLnT1msdTj%2B3g6jKkGq2TCWB7RXkWZdiqFcgGn4h/YK%2BOutfDnwfpen/tR6BpXjDQ/hpqfgDxD4l074bS/ZNT0O7NtteCzl1R2tL6BbSIxzvPPFvknZrd1dEjs6l/wSp/Z6s/jD8NvjB8ONd8YeG7jwF49t/E1/pdr8QNeax1l7fw7daJBGbQaglrbuI5LTfKsJ82C0e1kVormUVwetf8FHfi34f%2BHGj6Nf33ha58SeIfjHq/grw/470LwDrGq6Tqtpp1jNd3GpWmiWVzLfXbLLBNY/Z4rlh5sM0/m%2BVGRXV/HT9pL9pzSvgt8M/i9%2Bzl8cvhP4jHjzVPDug6baXPwz1KVNd1C%2BvFS5u7eRdbiayt4bTz7lreRJ5Yls5g0jn5VAMaP/gkvG/hO8%2BGcvxytbHwvpXgXxJ4W%2BHdloPgxbW60q01nULW%2Bm/tCdrqRNUCSWcKBBFbJIjS%2BaJHcSL6L4J/Zf8A2nPh6/jDx74Z/aM8CDx3488SWmoeI9RufhPdHRPsttp0dlFBBpya0kyTERRu9w93IWxs2BVQJX8V/tGfHHwN%2B3F4U/Z5vNT0LVdA8avf/ZoP%2BFb6tpj6PDDp091HKNanu3sNWnMsCxtY28cdwsczTECO3kZuW%2BH37dvxM8JeKviz4L%2BN8eneJ7j4f2OiroUugfDzU/Cd1rur6jd3tnDpVvYatdXEl0kk9tbrDqUT/ZJjdOqt/o0rAA9l%2BEXwRsv2cP2VLL4I2HiS41dPD/hu4gbUrmBYjPIyySOyxJ8sMe92CRLlY0CoCQoNY3jj/lIX8L/%2ByM%2BPP/Tt4Qql%2Byd8Z/it8fP2OLn4hfHCw8P23iuPUvFeja1F4VhnTT/M0zWNR00NCJ3eTay2isSzZJYnCghRd8cf8pC/hf8A9kZ8ef8Ap28IUAezUUUUAFFFFABRRRQAV4z%2Bwf8A8kQ1z/ss3xH/APU11uvZq8Z/YP8A%2BSIa5/2Wb4j/APqa63QB7NRRRQAUUV4T%2B0L/AMFMP2Hf2YPPs/ir%2B0Loa6nb5D6Fo0x1C%2BDj%2BBobYO0RPrJsHvWGIxWGwlP2leahHu2kvxZz4nF4XB0%2BevNQXdtL5K%2B78km/I92or84NX/4L2%2BMPjPqs3hX9gv8AYT8cePrwP5Y1HU4GSKE9meG0Wb5O%2BXljwOTilitv%2BDiv9pHm4vvh78F9OuOqqtu8ojPp/wAf0qNj3Q59K8T/AFmwNV2wkKlb/BBtf%2BBS5Y/iegsvzqcFOODqRi9VKqo4eLXdPESoya840ZJ9L6X/AEeqlrniPw94YszqPiTXrLT7dc5nvrpIkH/AnIFfAen/APBHT9sL4kkXH7TX/BVz4j6nFJ/x8aN4bmuYIPfa0lzs/wDIArq/B/8Awb9f8E/9GvP7S8fweN/HFyxzLN4n8WyKXPubNYDj8fxrWOPzyt/Dwaiv79SK/CCk/wATkrYfMqf2qN%2ByqTn%2BMKMY/wDk3zPefHP/AAUR/YS%2BHFrLc%2BLP2uvh7GYTiW2s/FNtd3Cn/rjA7yf%2BO15F4t/4Lvf8E0PDcJOj/GvUvEFwDgWWieEtQLsfZp4Y0P8A31Xpvw8/4Jkf8E/Phfai18K/sh%2BBpMEFZta0RNTlUj0kvPNcfga9f8J%2BA/A/gKwGl%2BBvBmk6LajpbaTp0VtH/wB8xqBWnJxDU3nSh6RnN/jKK/A43HNr6Spb/wAtR6f%2BBxd/mfD2q/8ABfj4Q6lFn4UfsffGjxI5%2B4//AAjMUMT/AEZJZW/8drmNV/4LVftqeIQ0fwr/AOCQfxJuQf8AV3N5DqMwP1SLThj/AL7r9HqKxnlud1fixzX%2BGlBfm5Hp4fG5hh9qeHf%2BKjOf4SxMV%2BB%2BW%2Bq/8FM/%2BC3/AInm8nwl/wAE2pdFgc/6288BatPMg9vMuIlP4rWVqHx//wCC/vjYZsPBnjLw8X6x6b8KdGUD2DXl05H1r9XaK5pcO42p/EzCs/nGP/pKR7NLiziTD29gsJT81l%2BEk/8Ays6/5H5Lf8If/wAF3PF/za3ofxmvd3U2PxF8MeHv0WN9tKf2P/8AgrP4kO/xJ4S%2BPj5%2B9Bf/ALXuniH/AL4t7Mfoa/Wiio/1ToS%2BPEVZesjo/wBe/ERfw81lT/694XL6f3cuAbX3n5L/APDtv9vXWv8AkP8A7PuqX%2Bfvf8JF%2B0xez5%2BvkKtA/wCCQP7R%2BsEHWf2H/g9dsf4/EPxm8UXHPv5Nwua/Wiij/U/K38UpP15X%2BcGH%2Bv3ij9niPHR/wVo0/wD01Qpn5WaZ/wAEbP2m4MNYfsjfsh2Sjot/rnjK8f8A8euGU10el/8ABJj9rOxwI/2fv2MIcd28J61dY/7/AJbP41%2BmFFax4SyiG3N98f8A5WcNfirxAxX8fiHMZeuNr/o4n546Z/wTF/bEscNa%2BA/2ObBh0e1%2BCglYf8CkjzXRaZ%2BwB%2B39puDpnxP/AGdNLx0Gm/A63GPplRX3ZRXRHhzLobOf/gVvygjx69fPcV/HzXGz/wAWMxD/ADqHxrpn7JH/AAVG0jDaT%2B2R8KLEjotn8GrdAPxDA1qj4Cf8FgMeWP29/h4q/wB5fhYmR%2BG/FfWtFdCybDRWlSov%2B4kzyamT060uapiK8n516r/Ns%2BSv%2BGbv%2BCuF1xP/AMFKPCdrnvbfB20fH/fclH/DJX/BVW55n/4K5Wtt/s2/wE0dx/49LX1rRT/sfC9Z1P8AwbU/%2BSRn/YGD61Kr/wC41X9JI%2BS/%2BGN/%2BCnbcyf8Fg7onvt%2BBOiqPy82k/4Yx/4KYSfLc/8ABYDUCvpF8EdGQ/mJK%2BtaKP7Gwf8ANU/8G1f/AJMP9X8B/NV/8HVv/kz5K/4Yc/4KDS83f/BXTxMx7%2BT8LtKj/k1H/DCX7eQ%2BZP8Agrf4y3e/w80sj8s19a0Uf2Nge8//AAZU/wDkw/1fy7vU/wDB1b/5YfJX/DDX/BQDo3/BXPxVt7AfDLSs/nuo/wCGEP27JeLr/grb41I/6ZeANMT%2BRr61oo/sbA95/wDgyp/8mH%2Br%2BXd6n/g6t/8ALD5KP/BP79siX/j5/wCCsfxIP/XLwzp6fyFH/Dur9qC541L/AIKsfF5h3%2By2llCf0U19a0Uf2Ll/aX/gyp/8mH%2Br2V9VP/wbV/8Alh8l/wDDtb46j5h/wVM%2BOu49c6pbEfl5dJ/w7U%2BOU3F3/wAFS/jsw/6Y6rbRn8xFX1rRR/YmXfyv/wADqf8AywP9Xcp/kl/4Mq//AC0%2BS/8Ah2P8V15T/gqJ%2B0Ln/a8UQEf%2Bia6H/gnX8MtY%2BDut/Hn4ca/8UvEHjS7074zQeb4m8U3Cy3955nhHw3KPNdQAdgcRrx91FFfSdeM/sv8A/Jb/ANo7/ss1j/6hXheujDZdhMJNzpRae3xSf/pUpL8DqwmVYDA1HUoRabVtZTenpKcl%2BF/M9mooortPRCiiigAooooAKKKKACiiigAooooAKKKKACiiigAooooAKKKKAM3xl4t0TwF4U1Hxr4kkuVsNLs5Lm8NlYTXc3lopJ2QwI8srYHCRqzMcAAkgVzXwk/aL%2BEXxu8Pax4l8C%2BILyOHw7fNZ%2BIrTxFoN7o17pU4gjuNl1aahDBPb5hlilBkjUNHIrqSpBrZ%2BKXiTxj4O%2BG2veK/h58Obnxhr2naRcXGi%2BFbPUbezl1a6SMmK1We5dIYTI4VfMkYKucnpivmf4JfBr42fED9mb4m%2BBPjN8IPGHhj4jfGiz1YeN/FGt3WiNZ2t9caSlnB9mj0/U7p47G3iSG2hXmVvIaWUb5XkYA9z%2BAf7VPwN/actb%2B6%2BDXiu8v8A%2BzYbWe5h1Lw9faZM1tdIz2t3HFewQvNazrHIYrmMNDL5b7HbY2PzW/4OX7/WtK%2BOX7N%2Br%2BH1H2qx0HxxeRkn7v2efw3c5/KE19tfsb/D7453Pxj1n43/ABm%2BClx8Ptvwq8K%2BDLbQrvWLC8kvLrTZ9UuLq7jaxnmQWm6/jjg8wpMQkrPFFlQfib/gvl8NPE0f7VfwXu9R%2BKviDxBD4j8IfEe30bQNVttOS10WR7DS0WO1a2tIp3V3ZN32iWdhsXaV%2Bbd4XE0XPIMQlvy/rE9nhnMIZTxVlmNn8NPFYSTvtb61h07%2BVpu/lc/WHQtYsvEWiWfiDTX3W99aR3EDeqOoZT%2BRFWq8m/YN8Z/8LC/Yn%2BE3jB5vMlvPh5pH2ls5zMtpGkv/AI%2BrV6zXr4eqq%2BHhVX2kn96T/UwznL5ZTnGJwMt6NSpT/wDAKk4f%2B2/iFFFFbHmhRRRQAUUUUAFFFFABRRRQAUUUUAZXgb/kSdH/AOwXb/8Aota1ayh4M0NMrA19CmSRFb6tcxovsqrIFUewAFL/AMIfpP8Az96r/wCDy7/%2BO0AalFZf/CH6T/z96r/4PLv/AOO0f8IfpP8Az96r/wCDy7/%2BO0AeH%2BIP%2BCaf7PniXxH8ZvEuoav4mEvxt062s9ct01GHydEESktJpqGEiBppyLmYS%2BaksyqWUr8hf4K/4J3fDnwt4uj%2BIXiD4xePvFPiA/E6Tx3eax4gvdP8y71NvCs/hfy2S1soYktxYTlljiSPEyI2dm6Nvbf%2BEP0n/n71X/weXf8A8do/4Q/Sf%2BfvVf8AweXf/wAdoA%2Bcv%2BHUnwYs/C%2BgeAfDnxn%2BJGkeHdIsfCEOqaDp2p6eIPEE3hprU6Zd3jPYtKJttlbJL9neCOVIlDJ8q4%2BgdY%2BHWkeLfA%2Bu/Dr4hX1z4j0nxFDfW2pWuqRwqGsroOr2Y8iOMGJY3MalsyFQN7u2WNz/AIQ/Sf8An71X/wAHl3/8do/4Q/Sf%2BfvVf/B5d/8Ax2gDzP4Hfse6X8C5NS1nTvjn478Qa/qkOi2N14o8TT6bPfHSNKkle00keXZRxfZh9ouwzmM3LG8mcz%2BYVkXlr/8A4Jl/AbXp/E%2BmeL/Fni/WfDHiLSfE%2Bn2Xgq91K2TTvD6eIZGk1eSxaG3juVkmd5CrTTTeQJXSARIxWvdf%2BEP0n/n71X/weXf/AMdo/wCEP0n/AJ%2B9V/8AB5d//HaAPJPDX7Fup%2BFF8QeIdK/a4%2BKJ8Z%2BJW02LVPiFcR%2BH5NTaxsFuBbWCxNpJsVgVru5kJ%2By%2BazzMxkPGOf8AEX/BMn4Oaz4D0vwLo3xT8f6CbfSNf0rxHrOj6raC%2B8UWWuXv2/V4b%2BSa1kUG5uy85ltlt5oWlkEEkKuyn3v/AIQ/Sf8An71X/wAHl3/8do/4Q/Sf%2BfvVf/B5d/8Ax2gDybXP2DvhVq/xTHxBs/F3iXTNHm8S6P4j1bwBpktnHouqazpUNtDp9/MDbG6WSGOxsAEiuI4W%2Bwwb422ndD8Ov2DfA/wt8WSeLPCPxd8bRHTtC1nSfAWnyyaa9t4Jt9UuIri6/s5DZZkbzYIDH9tN2I1hEagRs6N6/wD8IfpP/P3qv/g8u/8A47R/wh%2Bk/wDP3qv/AIPLv/47QB498JP2KPEPwU%2BBs3wP8DftofFaNW8R3Wr23iW4s/DD6jatdTzXNzboP7FFs0Mk9xLKfMgeRSwCOiqFEvib9hHwJr/wd0b9nXTvix420f4f2elTab4l8JaddWDxeLred990upXFxaS3ZadmmMz289u0v2iXcTuGPXP%2BEP0n/n71X/weXf8A8do/4Q/Sf%2BfvVf8AweXf/wAdoA898T/sq23jn4waR8TvHXxw8bavpHh7Xk1rQPh/cHTItGsL%2BO3eCOZWhsUvZQnmSOsct1JGHYNs%2BRAvAaZ/wTE%2BG%2Bg/DvXvhv4c/aB%2BKOmW9/4H/wCEM8Kahp%2Br6fFeeCPDvnLK2m6TKLH92jBIojLcC4nEcEIEoMaEfQP/AAh%2Bk/8AP3qv/g8u/wD47R/wh%2Bk/8/eq/wDg8u//AI7QB5BZ/sM6PYfCjwh8NbT4/eNoL74e6wL7wD4usdM8PWl/4fQWMlh9kt4LfSksGtvss08fly2shxLkEMkRj1/Bf7F/wl8Cr8LbfSdS1ya3%2BEh1G48OWt7fRypdahe28lvNqV0THukuvLuL0BkKIPt0/wAhygT0j/hD9J/5%2B9V/8Hl3/wDHaP8AhD9J/wCfvVf/AAeXf/x2gDzjXP2TY/F3xg034teOfj/491qPw7q15qvhDwvdvpcWnaBf3Flc2JuYDb2EdzMyW95dJGLmedF84naWVCuRpf7AXwa13VNc139pbU7744XuvadYadcP8WtE0a9t4LSzmnnghitLSwtrUYmuJZDIYWlYlcuQiBfXv%2BEP0n/n71X/AMHl3/8AHaP%2BEP0n/n71X/weXf8A8doA82%2BB/wCyf8Ef2M/2edf%2BEHwD8H2mi6JcX%2Bua3Lb2mn21sGub6ee5cFbaKJCkYkS3iBXKQW8MZLbAareOP%2BUhfwv/AOyM%2BPP/AE7eEK9RPgzQ3ws7X0yZBMVxq1zIjezK0hVh7EEV5d44/wCUhfwv/wCyM%2BPP/Tt4QoA9mooooAKKKKAPI/2lv2wvB37M%2BoWWi6l8N/F3i3ULjw/qfiC%2B07wbZ2s02m6Lp/kC81CYXNxAGjjNzCoiiMlxKXIihk2Ptn%2BLv7WfhT4azeE9K8HfDzxR8Q9X8baXd6r4e0TwNHZPPcaZapA9xfb726tofKT7VarjzDI7XEYRHyccd%2B15%2Bzt%2B0D47%2BIEPxR/ZvuvCD6nqHw113wRrNv4y1K6tYbWC/ktZYdShNvbTmeS3e3kzasIlnEw/fwmPLZ3xr/ZL8ceJvgh4L%2BGPgr4QeENZ1LwLbPo3hzWNZ%2BKmtaFNZactqlqlw0%2BlWfnT%2BckafaNPLJBIFCmZtqmgD3z4afEXwd8X/hx4f%2BLXw71lNR8P%2BKNEtNX0LUI1IW6s7mFZoZQCAQGjdW555rzT9g//AJIhrn/ZZviP/wCprrdbnwZ/Zk8J/CP9krwf%2ByJHr2rz6N4S8DaZ4Zj1PS9VudKvZobO1itxMk9lLHLbu3lBsxOpGSAcVyv/AATp8PWHhL9m6%2B8LaVcX0ttp3xb%2BIdtby6nqk97cuieM9aUGW4uHeadyBzJI7OxyWYkk0Ae5syopd2AAGSSeAK%2BIf2r/APgtt8FvhZper6b%2BzPoI%2BI2oaQ/k6p4lFybbw3pUpBwst6R/pMhALLBbh2lCsFbcMV6D/wAFgf2mv%2BGXf2D/ABh4i0vUvs2ueJYR4c8PMGwwuLtWWSRSOQ0dus8oI/ijFeP/APBLv/gmd4al%2BDfw4/aI/akuG8U6tb%2BHbW88C%2BDby1WPSPC9vKiyRyrbD5ZryQFZZJ5Bu3sONyB6%2BZzTHZjWzBZdl7Sny80pPXlTdl83q9m3pa2rXpZNlWEzWtWr5hipYfB4fkU3Tgp16tSopShQoc/7qnJ04SqVK1VSjSp8rVOpOUIvwzwz8E/%2BCxP/AAVZWLV/i78XdQ%2BG/wANdRUOyizfSre7gYcrb2EbC4vIzkMj3UiqykEelfVv7N3/AAQy/YF/Z/W31TXPh7N4%2B1mHDNqPjWUXEO7vttECwbc9A6OR/ePf7EorTCcM5dQn7bEXr1f5qnvfcneKXyO553Qy%2BtfIsNHBrbni5VMQ13ni6vNXbfVU3hob8tNIqaHoOheGNKh0Lw1otpp1jbJst7OxtlhiiX0VEACj2Aq3RRX0KSSsjwZznUm5Tbberb1bfdt3b%2BbCiiimSFFFFABRRRQAUUUUAFFFFABRRRQAUUUUAFFFFABRRRQAUUUUAFFFFABRRRQAUUUUAFFFFABRRRQAV4z%2By/8A8lv/AGjv%2ByzWP/qFeF69mrxn9l//AJLf%2B0d/2Wax/wDUK8L0AezUUUUAFFFFABRRRQAUUUUAFFFFABRRRQAUUUUAFFFFABRRRQAUUUUAFFFFABX5wf8ABamztr39vL9i60v0za3fjLV7K9PpBcX/AIegcn2w/wCtfo/X5yf8FxT9g/aK/Zy8Wjj%2BwLnU9Q3f3dviDwimf/IleVnn/IprPsk/ulB/ozx%2BIKk6OT1akHZx5ZJ9uWpTlf8A8lPcv%2BCLWt3uo/8ABOjwP4f1dv8AT/Dd3q2jXy5%2B49vqVyqr%2BEZjr6pr5K/4JR/8Ux/wv74PyfL/AMIv%2B0N4g%2BxRf3LK58maH88ua%2BtaMjb/ALIoxe8Y8v8A4C5R/wDbT9W8U4RXiJmdWCtGrVdZeleFOureX75/cFFFFeqfAhRRRQAUUUUAFFFFABRRRQAUUUUAFFFFABRRRQAUUUUAFFFFABRRRQAUUUUAFFFFABRRRQAUUUUAFFFFABRRRQAV4z44/wCUhfwv/wCyM%2BPP/Tt4Qr2avGfHH/KQv4X/APZGfHn/AKdvCFAHs1FFFABRRRQAUUUUAFeM/sH/APJENc/7LN8R/wD1Ndbr2avF/wBhWaO3%2BBWv3EzbUT4yfEhmY9gPGutk0AfBX/BXLXrz9tz/AIKU/Cv/AIJ%2BeF75pNM0S%2Bth4jS2nKuk94BcXTlR97ydOh3A8YM7DjNfqxYWNnpdjDpmnWscFvbxLFBDEoVY0UYVQB0AAAAr8of%2BCFnh/XP2pv2wfiV%2B3X48tZXuLX7UYzPho01XVLh3fyW67YrKGKHaegm4HNfrHXyvC98XGvmct683b/BH3Yr82e/jYxwHDOWYJfHVg8ZV/wAeLtKlF/8AXvB08NG3R1Jre4UUUV9UeAFFFFABRRRQAUUUUAFFFFABRRRQAUUUUAFFFFABRRRQAUUUUAFFFFABRRRQAUUUUAFFFFABRRRQAUUUUAFFFFABXjP7L/8AyW/9o7/ss1j/AOoV4Xr2avGf2X/%2BS3/tHf8AZZrH/wBQrwvQB7NRRRQAUUUUAFFFFABRRRQAUUUUAFFFFABRRRQAUUUUAFFFFABRRRQAUUUUAFfnL/wX1RrWw8O%2BKEUltC%2BGmvX6kDkFfFvgVMj8HNfo1XwF/wAFwtH/ALd8OXNkU3bP2fPGtxj/AK4%2BI/BEuf8AxyvMzuLlk2IS/kn/AOkt/oeNxFFzyDFpb%2Bzn%2BEW/0PR/2QmXwf8A8FNv2o/h%2BGAt9YTwp4j01B/F5lg8dw/vmULzX1tXxZ8HtY8n/grfpOro%2BIPG/wCyfp%2BoO3/PW5h1RFH1xE1fadZZLJPDVIrpUqfc5KS/9LP1fxCksTj8vxy/5f4HBT%2Baoeyf/phXCiiivYPgQooooAKKKKACiiigAooooAKKKKACiiigAooooAKKKKACiiigAooooAKKKKACiiigAooooAKKKKACiiigAooooAK8Z8cf8pC/hf8A9kZ8ef8Ap28IV7NXjPjj/lIX8L/%2ByM%2BPP/Tt4QoA9mooooAKKKKAPmP9tX4n/HiL4qR/Cr4L/GibwCNH%2BD/iTxxPqlvo9jeHUryxmsobS0mW8hlUWYM8z3Ai8udt0ISaHDFub/ao/aX/AGjtf8C/BW8/Z/tvGFtqfxC8K33iHV/DXw2t9Cm8ReVFptvOpi/4SBTYi0inuoo5y2Jy01ssWSzKfe/j9%2Byf8B/2no9PT40%2BD7rUTptrd2kElh4gvtNeWzuxGLuymeynia4tJxDD51rKXgl8qPejbFxX%2BJn7IPwJ%2BLttp8PjXR9fM2k3l5caTqWkeOdX02%2BsRdKFuLeG6s7qKeK1dVQG1RxBiNAIxsXABF8A/jo3ib9jXwJ%2B0T481ga/Nq/w90jWtX1DwV4bv7tL%2Baezhllls7KKF7tkZ3LJF5RlCkBlBBA87/ZI8eabcfsKeNviZp0V9BaN44%2BKGpQJqemT2NzHH/wlmuyAS29wiTQOB1jkRXU5DKCCK%2Bg/Bfg3wp8OfB2k/D3wJ4ftdJ0PQdMg07RtKsYhHBZ2kEaxQwxqOFREVVAHQACvl/RtSbR/%2BCY/x31dGw1rrPxlmB9CviXxE39KwxM/Z4apPtGT%2B6Lf6GOIkoYecn0i39yb/Qxf%2BCBvw70HwT/wTU8JeItKtdl34r1fVdU1VyOZJlvZbND9PJtYR%2BdfZtfNX/BHrRH0D/gmp8JbF02mTQJrnHtNdzzA/wDj9fStcORU1SyXDQStanD/ANJT/Uuk6jw9JTd2oU1r2jSpJL5JJLySCiiivVLCiiigAooooAKKKKACiiigAooooAKKKKACiiigAooooAKKKKACiiigAooooAKKKKACiiigAooooAKKKKACiiigArxn9l//AJLf%2B0d/2Wax/wDUK8L17NXjP7L/APyW/wDaO/7LNY/%2BoV4XoA9mooooAKKKKACiiigAooooAKKKKACiiigAooooAKKKKACiiigAooooA89/autPgHe/s7%2BK7f8Aagk8Lr4EOm518%2BNZ4I9L2iRTELhrgiLaZhGAHOC20c5xXyx8GvEv7N/7Tf8AwQ08J/Bc/tSeANIsdT/Zx0bSte8QXmsWl7aaIF022tLiS7iFxGNkU%2BYpEeSMBwUZkOcfdNFAHzl/wTQ8X%2BD/ABD8KPFvhr4c%2BDvhnaeHfC/j2fTNG8TfBzw6mleGvFcZsbK5fUbO3SSVV2y3MlnIVmnUzWMmJDyieMf8FNIfiv4o8b%2BMdG8beCPD1hoVp%2Byv8Tp/DWoaV4nnvLu/SK88Kyu1zbSWUKWhXy02hJrgNk5K7Ru%2B9K%2BV/wBvDR/%2BEi%2BLy%2BH9m77d%2Byv8Vrfb677jwsuP1rlx0PaYGrHvCS/8lkcWZU/a5bXh3hNffCR5V8KtY2/tjfsaeOd//I5fs4Xdhvz9/wArTrW8x7/ezX37X5sfDXWNumf8E5viXv8A%2BPTTtQ0EyZ/5%2BNFjtgv/AJBxX6T15HD0%2BanV9YS/8Co0n%2BaZ9/n9T63wbwxi/wCbAKL9aWIrx/KS%2B8KKKK%2BhPjQooooAKKKKACiiigAooooAKKKKACiiigAooooAKKKKACiiigAooooAKKKKACiiigAooooAKKKKACiiigAooooAK8Z8cf8AKQv4X/8AZGfHn/p28IV7NXjPjj/lIX8L/wDsjPjz/wBO3hCgD2aiiigAooooAKK86%2BPv7V/wH/Zij09/jR4wutNOpW13dwR2GgX2ovHZ2gjN3ezLZwStb2kAmh866lCQRebHvdd65t/Gn9oz4ZfAHw1b%2BMfiFF4nm0y4hlm%2B2%2BFvAer68kMUaB3lm/sy1uPIj2nIeTapAOCcHAB3VfFvjXVxon/BJH9oG8L7d%2Bv/ABdt85/56%2BLNeix%2BO/FfXPw68f8AhX4r/D7Qvil4Fv5brRPEujWuq6NdT2U1s81pcRLNC7QzoksRKOpKSKrqThlBBA%2BF/wBqLWG0P/gi/wDHS9RsF/ib49t8%2B0vxE1KI/wDodcGaz9nldeXaE/8A0mR52cS5coxL/wCnc/8A0iR9Nf8ABOfSho37A3wZs1XG/wCGWizkD1lsopD/AOh17PXm/wCxvpTaH%2ByH8KtEddps/hvocBHoU0%2BBf6V6RWuBjyYGlHtCP/pMT1a1L2FWVL%2BV8v8A4D7v5RQUUUV1GYUUUUAFFFFABRRRQAUUUUAFFFFABRRRQAUUUUAFFFFABRRRQAUUUUAFFFFABRRRQAUUUUAFFFFABRRRQAUUUUAFeM/sv/8AJb/2jv8Ass1j/wCoV4Xr2avGf2X/APkt/wC0d/2Wax/9QrwvQB7NRRRQAUUUUAFFFFABRRRQAUUUUAFFFFABRRRQAUUUUAFFFFABRRRQAUUUUAFeBfHrR/8AhIf2zfBWgbN3274A/EW32%2Bu/UfCS4/Wvfa8Z8c/8pCvhf/2Rnx5/6dvCFKUVKLT6kyipxcX10PhP4daxn/gnH%2Bwx8TFbP9kfH7SNPuJM/cge%2B1G2kP4eWor9Uq/JbSP%2BKd/4IbeEtS%2B7/wAK1%2BOMc%2Bf%2BeXleJZR%2BH/Hz%2BtfrTXy3DUnytPrToP8A8klF/jE%2BppSeJ8HOGKz3gsXSfyqYepb5c7%2B8KKKK%2BqPmAooooAKKKKACiiigAooooAKKKKACiiigAooooAKKKKACiiigAooooAKKKKACiiigAooooAKKKKACiiigAooooAK8Z8cf8pC/hf8A9kZ8ef8Ap28IV7NXjPjj/lIX8L/%2ByM%2BPP/Tt4QoA9mooooAKKKKAPmP9tb4Y/HiT4qR/FX4LfBabx8NY%2BD3iTwPPpdvrFjZnTby%2BmsprS7ma9niU2ZMEy3Bi8yddsJSGbLBbnxp%2BB3xe8X/sIWP7Hng7w5qRm1G30jwJ4m1i6v7WFv8AhHQ8Fpq2pxlZ2P7ywW68pARP5kse6NcMR9IUUAY/ibwpc6t4LuPB/hTxXf8AhV3tBBY6roFvaGfTwMBWhS6gmgyAMAPE64/h6V%2BdP7X8V74S/wCCFXxV8Pat4pvtaux8YPFNnLrGppAlzfSL8S74tNKtvFFCHcIzMI40TJO1VGAP0ur8vP8AgonqEsf/AASP1/w7E3Ou/tQeL7Hb/e/4rnXpcfnEK8fiCXJkWJf9yX4q36nm5zReIyqtRX24uP8A4E4x/wDbj9KvhxoieGfh5oPhyNNq6fo1rbKvoI4VXH6Vs0AADAFFetGKjFRXQ9arUdarKo95Nv723%2BoUUUVRmFFFFABRRRQAUUUUAFFFFABRRRQAUUUUAFFFFABRRRQAUUUUAFFFFABRRRQAUUUUAFFFFABRRRQAUUUUAFFFFABXjP7L/wDyW/8AaO/7LNY/%2BoV4Xr2avGf2X/8Akt/7R3/ZZrH/ANQrwvQB7NRRRQAUUUUAFFFFABRRRQAUUUUAFFFFABRRRQAUUUUAFFFFABRRRQAUVzHxo0Pxb4j%2BFut6R4F%2BJWpeD9Vksy9p4j0iytLi5sijB2Mcd5DNAzMqsn7yNwN%2BcEgV4Cn7TXxltv8Agkv4D/aRXxLBL498V/Dfwe0/iC60%2BLy4NT1gafbSag0CKsREct41wYgqx/JtwF4oA%2Bpa8Z8cf8pC/hf/ANkZ8ef%2BnbwhUf7InjX4l3fiv4sfBT4m/Ea%2B8ZTfDfx5baXpfivVbGzt72%2BtLrRNM1NUulsYILfzo5L2WPMUMYMSwkruLM2Ff/E7w34x/wCCm3gvwZpOm%2BIYbzw98HvHEd/NqvhHUbG0lL6t4Swba6uYI4L0DactbvIFyNxG5cgHxpqXh46v/wAEZf2o/AaJz4a%2BM%2BvxBR1T7LrFldfhgV%2Bnfw/8QDxb4D0TxUrhhqekW12GHfzIlfP61%2Bf3gLw7/an7I/7f3w5Ee54fiZ441OGL/al0%2BOdAPq0QxX2N%2Bw94h/4Sz9i/4S%2BJGk3PefDXQ5ZTn%2BM2EO4fg2RXymQ%2B5iIx70rf%2BAVqsf1Ppcj/AH3gfgf%2BnGOrw9OehGX/ALhPUqKKK%2BrPmgooooAKKKKACiiigAooooAKKKKACiiigAooooAKKKKACiiigAooooAKKKKACiiigAooooAKKKKACiiigAooooAK8Z8cf8pC/hf/ANkZ8ef%2BnbwhXs1eM%2BOP%2BUhfwv8A%2ByM%2BPP8A07eEKAPZqKKKACiiigAor56/a8/aJ/aA8B/ECD4Xfs4WvhFdT0/4a67431m48Zabc3UN1BYSWsUOmwi3uIDBJcPcSZumMqwCEfuJjJhcP9pX9vi78F%2BFPg%2BPhbcW2kaj8YNMn1jT9R1fwNqniU2GnQWMV3Lt0vSXjuryc/aLddqSIscfnTMxWHY4B9Q1%2BYH7bemt4i/Yi%2BHng5OTrX7dfiWyKf3g/i/xQP54r9DPDfxl%2BH8fwG0n46eL/i54Vfw7ceG7TVLvxtDdJZaPPDLCj/bI3mlcQ277gyb5WwrKC7Hk/nV8XfG/hfx/8Pf2Yo/CHiCx1jR/Ef7dPifVNO1LTLtLi2vbVPHGsFZYpEJWRGS4BDKSCCCDg143ENnk9WL68q%2B%2BdNfqcGZuawnub81P/wBO0v0TP1Iooor2TvCiiigAooooAKKKKACiiigAooooAKKKKACiiigAooooAKKKKACiiigAooooAKKKKACiiigAooooAKKKKACiiigAooooAK8Z/Zf/AOS3/tHf9lmsf/UK8L17NXjP7L//ACW/9o7/ALLNY/8AqFeF6APZqKKKACiiigAooooAKKKKACiiigAooooAKKKKACiiigAooooAKKKKAMT4jfD/AMP/ABU8E6h8PvFVzq8OnapCIruTQfEN7pV2FDBsR3djLFcQkkAExyKSCVOQSDwXgj9iT9nPwB8EW/Zv0bw1rt54HPhl/D6%2BHPEPjrWNWgj00gKIE%2B3XcrIEUBY2UholVVjZVAA9YooA5H4MfAv4afADw1deFfhlpV9DDqGpyajql5q%2Bu3mqX2oXboiNPc3l9NNcXMnlxRRhpZGKpFGgwqKo4fxx/wApC/hf/wBkZ8ef%2BnbwhXs1eM%2BOP%2BUhfwv/AOyM%2BPP/AE7eEKAPCP2b/Dv9s/G39uL4TeXn7drcEvlev2/RpP54r1D/AIJHeIv%2BEo/4JvfCTUvM3eV4Z%2ByZz/z7zywY/Dy8Vy37KyrpP/BVf9qzRXA2atpfgi/jjPTCaZLC5/Enmn/8ETWbTv2AtE8CuxLeFvFPiDSWBPKlNUuZMf8AkWvlMr9zH015YiP/AIDWUl%2BDPpeD/wB94PZlS/585hSl8prG03%2BUT6zooor6s%2BaCiiigAooooAKKKKACiiigAooooAKKKKACiiigAooooAKKKKACiiigAooooAKKKKACiiigAooooAKKKKACiiigArxnxx/ykL%2BF/wD2Rnx5/wCnbwhXs1eM%2BOP%2BUhfwv/7Iz48/9O3hCgD2aiiigAooooA8j/aX/Y88H/tM6hZa1qPxJ8X%2BEdQt/D%2Bp%2BH77UfBt5awzalouoeQbzT5jc204WORraFhLEI7iIoTFNHvfc7x/%2ByPofjTTPDaaD8WvFnhPV/Bt7cv4Q8R%2BGYdKW70eyng8iTTYkuLGa3e18oIoEsMkgMMbeZvQNXrVFAHN/B34UeDfgT8KPDfwX%2BHdnNBoXhXRLbStJiuLhppRbwRrGm%2BRvmkchQWY8sSSeTX5vfE61k1v4%2B/sp%2BGkGQ/7VvxYvyv/AF6%2BNbyTP4DNfqLX5m%2BG5bfXf2%2B/2YvC0hBNl8YPjzfspHTPiLWSp/O3/SvGz5KWAUO86S/8qw/yODMZunTptLepSXy9pG/4Jn6ZUUUV7J3hRRRQAUUUUAFFFFABRRRQAUUUUAFFFFABRRRQAUUUUAFFFFABRRRQAUUUUAFFFFABRRRQAUUUUAFFFFABRRRQAUUUUAFeM/sv/wDJb/2jv%2ByzWP8A6hXhevZq8Z/Zf/5Lf%2B0d/wBlmsf/AFCvC9AHs1FFFABRRRQAUUUUAFFFFABRRRQAUUUUAFFFFABRRRQAUUUUAFFFFABRRRQAV4z44/5SF/C//sjPjz/07eEK9mrxnxx/ykL%2BF/8A2Rnx5/6dvCFAHmHwu/4kv/BZ/wCKemdP7a%2BC%2Biahj%2B95N20Gf1xS/wDBJT/iUeGvjr4Ab5f%2BEc/aS8VWcCekJeCRCPY72qD9rD/ix3/BTP4AftFRfutP8b2epfDjxJcdMmYfatOj9y1yH6/3eKn/AOCe/wDxIf2tv2rvAH3fs3xRstX2en26wEmfx2V8pQ/dZtCD3VWsvlUpxnH8n80z6XgD3uC%2BKsC96c8NW%2BX1pNP7qzXyPrSiiivqz5oKKKKACiiigAooooAKKKKACiiigAooooAKKKKACiiigAooooAKKKKACiiigAooooAKKKKACiiigAooooAKKKKACvGfHH/KQv4X/wDZGfHn/p28IV7NXjPjj/lIX8L/APsjPjz/ANO3hCgD2aiiigAooooAKK%2BHv%2BCqZ%2BBw%2BKGl/wDDWR08eDf%2BFK%2BMP%2BEI/tfHl/8ACXebp32f7Hnn%2B2PI3/YvL/0n/j58jnfVX9s3Q/hN8Tvgd8FvHP7Tf7Q3wH0rxD4Gt7p9Z0X42aNba1pOta6ulC2vbEwfbINt1FNIx%2BTzZI26Qt0oA%2B66/Lj4GPLq/wDwVx%2BEumDJXSNS%2BMF%2BR/d87xl4qgz%2BgFfoF8J/HfxC8a/sqeEfiV4T%2BDFjoHiXWfA%2Bmajb/D/xBqUmmwaTcTWsUjadNNFazPB5JYxErAxBjxsHb4E/YFttf8Wf8FXbPUPGOlWNjrGi%2BAfiNdapY6ZqD3ltbXT/ABM8QRyJFO8MLSoPPwHaKMsMEoucDxs7TlSoR71qX4Sb/Q4MdUjCdBP7VWC/Co/0P1Aooor2TvCiiigAooooAKKKKACiiigAooooAKKKKACiiigAooooAKKKKACiiigAooooAKKKKACiiigAooooAKKKKACiiigAooooAK8Z/Zf/AOS3/tHf9lmsf/UK8L17NXjP7L//ACW/9o7/ALLNY/8AqFeF6APZqKKKACiiigAooooAKKKKACiiigAooooAKKKKACiiigAooooAKKKKAOd%2BLnxS8G/A/wCFviL4x/EO/e10LwtotzqmrTxQtLItvBE0j7EXLSOQpCooLMxAAJIri/hl%2B1p4a%2BIPhHxtruvfDLxZ4Q1j4eqX8U%2BEPE8Nl/aVtGbNbyKRTaXU9tKksL/IyTEb1eN9jxuq637VfwVuv2jP2bvG3wO07Xo9KvPE/hy6sdO1OaEyx2l0yEwTOgILosoRmQEFlBGRnNeffB/4N/tH6f4s%2BI/xY%2BMfgb4ey638RrSC1uvDuleLb2606xtbGw8i0gM82mxPc%2BfPNdvM5ij8mN40VJypZgD0D9mz486j%2B0b8ObL4nyfA3xf4J0/VbK1vdGj8YT6S81/azwrLHMg06%2Buwg2sMrKUcE/d71zXjj/lIX8L/APsjPjz/ANO3hCsH9iX9ljxZ%2Bz54y8ceLL34Y/D74b6D4ltNIt9H%2BF/ws1Ka60XTZrMXfn6kGeysUW5uhcwRSLHbIuzT4SWdmYhl/wDDHw34O/4KbeC/Gek6l4hmvPEPwe8cSX8Oq%2BLtRvrSIpq3hLAtrW5nkgsgdxytukYbA3A7VwAZH/BYD4f614t/Ya8Q%2BOvCCf8AFQfDjUbHxpoE23PkT6dOssknHPFuZ64z9hf4gaL41/4KN/Hbxr4bf/iW/EX4feA/FWnDdnMJ0xowR%2BEgz719geL/AAto3jnwnqngnxHaifT9Y06exv4T/wAtIZY2jdfxViK/KD9mbxD4u/ZB8I%2BD/wBreaS4uE%2BD3ivUfg38frONWYto8d%2BWsdREfb7MZ4VyMllCKMDca%2BSzh/Us4o4p/Bo5eXJzRb%2BUKt35Rb6H0/h5BV%2BKsfksXaeaYKdGkntLEUKtLEUoX6SqRhOnDvPkj9pH64UVDYX9jqthBqmmXkVxbXMKy29xBIGSWNgCrKw4IIIII6g1NX1u58y04tpqzQUUUUCCiiigAooooAKKKKACiiigAooooAKKKKACiiigAooooAKKKKACiiigAooooAKKKKACiiigAooooAKKKKACvGfHH/KQv4X/APZGfHn/AKdvCFezV4z44/5SF/C//sjPjz/07eEKAPZqKKKACiiigAooooAK/L//AIJe38ut/wDBYL4zuWJXRdM8dWA/2fM%2BIN5cY/8AHya/UCvzF/4I36TLqP8AwU8/a58SlSV0vxzrtiG9PP8AEupS4/8AIJ/KvGza8q%2BDiv8An6vwhUZwYtw%2BsYeMus3b1VOoz9OqKKK9k7wooooAKKKKACiiigAooooAKKKKACiiigAooooAKKKKACiiigAooooAKKKKACiiigAooooAKKKKACiiigAooooAKKKKACvGf2X/APkt/wC0d/2Wax/9QrwvXs1eM/sv/wDJb/2jv%2ByzWP8A6hXhegD2aiiigAooooAKKKKACiiigAooooAKKKKACiiigAooooAKKKKACiiigAooooAK8Z8cf8pC/hf/ANkZ8ef%2BnbwhXs1eM%2BOP%2BUhfwv8A%2ByM%2BPP8A07eEKAPZq%2BCPivdeB/2Mf2vvi3p/7T/gu8X4D/tHWtgkniZbfzdN0jV/sz2t1DeFfmtxcBt4lIwDtIOFdk%2B96zfGHg7wn8QvC994J8deG7LWNH1O2a31HTNStlmguYmGCjowIYfWvPzDBSxlOLg0pxd1dXWqcWpLrGSbTtr1WqOHGYfFTnRxGEqezr0ZqdOXaS72adn3TUk0pLWKPj3/AIJzftH6J8CtSvf%2BCc/7QHxPsBr/AIOukj%2BFuuaheokfi/w1OvmWEltKTsmkSM%2BWUQnhVVdxRyPtSvz0%2BP3/AASO%2BKXhbwveeCP2cLvwp4/%2BGpuJLrTvhF8UxP5uhO/Mg0fV4mFxaEn7qMyoDkuZMnPhnh79un9vb/gnpMngz4jaV4jtPD9rKI7fwz8cNMnvUhXoLew8R6ejJdc4AaeNI0GB2zXzlDOMTkdNYfH0ZKnHRSV5WXRN7SSWid4yslzRum3%2Bh4/OeFOOMVLHYqvHK8xqWdWniPdwdWq0ueph8XCMqdL2kr1HRxMKSjKcuSry6R/X6ivhr4Nf8F6P2WvFuno3xx8HeIvAMqMsd1qsUS65oqyHGFS%2BsN%2B45ODujXHfvX1b8Iv2mP2evj7ZLffBb41%2BGPE6sm4xaNrUM00Y/wBuJW3xn2ZQa%2Biweb5Zj7ewrRk%2B17P7nZ/gzgzPg3ijKMIsXiMLJ0HtWharQl5xr0ZVqL/8GJ6q6Wx3FFFFeifMhRRRQAUUUUAFFFFABRRRQAUUUUAFFFFABRRRQAUUUUAFFFFABRRRQAUUUUAFFFFABRRRQAUUUUAFeM%2BOP%2BUhfwv/AOyM%2BPP/AE7eEK9mrxnxx/ykL%2BF//ZGfHn/p28IUAezUUUUAFFFFAHkf7S37YXg79mfULLRdS%2BG/i7xbqFx4f1PxBfad4Ns7WabTdF0/yBeahMLm4gDRxm5hURRGS4lLkRQybH22v2l/2v8A4Q/st/s3ah%2B1F4xk1DWfD9rpi3unWXhmCO5vdYVojKiWkbvGsjGJWlJZ1RI43kdkRGYcX%2B15%2Bzt%2B0D47%2BIEPxR/ZvuvCD6nqHw113wRrNv4y1K6tYbWC/ktZYdShNvbTmeS3e3kzasIlnEw/fwmPLcp%2B1D/wTn8XftA/s02Pwk8J/GrW/BWseCvh1r3hHwSmk39hd6dqkN3pqafDcakL7Sp3gkMMZjZ7ULLDFd3SRyv5pNAH1PomrW2vaLZ67Zo6w3trHPEsoAYK6hgDgkZwfU1%2Bc3/BFO7tLP8AbF/bh8QahII4k%2BN15F5hGcbdd8QDAxySSVGByTivvHw98JnHwM034NePPG2vatJBoFvp%2Bp69a6w%2BmahdPHGqtMtxpgtWgdiud0Ai68BQcV8E/wDBEvwTaeEfHn7WiabLey2kH7UGo6XbT6lqU97cSJa%2BIr8Ay3Fw7yzyYkBaSR2dySzMxJJ8vHpyxmE8pyf/AJTn/mcWJpxqYvDt/Zc3/wCU2v1P0T/4TDSf%2BfTVP/BHd/8Axql/4TDSf%2BfTVf8AwR3f/wAar528ff8ABZH/AIJvfC/x3rXw08c/tG/Ydb8O6tc6ZrFl/wAIhrEv2e6t5Wilj3x2jI%2B10YblJU4yCRzWT/w/L/4Jaf8AR0P/AJZOt/8AyFRLPMlhJxliaaa/vx/zP0mj4W%2BJmIoxq0skxcoySaaw9VpppNNNQs0000%2BqafU%2Bn/8AhMNJ/wCfTVf/AAR3f/xqj/hMNJ/59NV/8Ed3/wDGq%2BdvAP8AwWR/4JvfFDx3ovw08DftG/btb8RatbaZo9l/wiGsRfaLq4lWKKPfJaKibndRuYhRnJIHNd9%2B398YPiZ%2Bz7%2BxN8U/jj8G7TTZvE/hLwPqGq6OurzMlussELSb32xybtqhmCbcOyhCyBi69eFxuDxsXLD1IzS35Wnb1sfP55wzxJwxWhSzjBVcNKabiqtOdNySdm0ppNpPRtddD0v/AITDSf8An01X/wAEd3/8ao/4TDSf%2BfTVf/BHd/8AxqvnvU/23Pjb4V%2BIfjnwX8QvgV4E0LT/AIZfDy08TeOfE938VLo2Nu93FqjW9tbY0cSzqH0%2BMSyukRRLgtHHM6CKTmfht/wUq1f4q6p4Z0PVvhPq/hfW4vjRL4O8Q6Qst5bQyIfB%2Boa/DPt1jR7S9eF0hiTb9ntJBKgZZZIVK3HSeGfVX/CYaT/z6ar/AOCO7/8AjVH/AAmGk/8APpqv/gju/wD41Xzz%2ByV%2B3z8Sf2h9P0S48c/swf8ACP3fiz4TaL8QfCel%2BHvGsOqz3WnXzBHgnNxBZRW9xCXiYqHkR0fIcMpjrqf2q/FnxV1L4tfC/wDZ4%2BFvxX1DwI3ja61i61bxXo2m2N1exW9hZCRbaBb%2B3uLdWkmmhZmeJz5UEqrtZhIgB67/AMJhpP8Az6ar/wCCO7/%2BNUf8JhpP/Ppqv/gju/8A41XzlB%2B0J%2B0j8T/%2BCZHhD4//AA%2BtLn/hOdd0jw7N4hu/Cuhre3FvaS39pFrGoadZSLIJ5UszeXNvAVl3Msa7JziN/JfDX7Vf7U/xF8OP4fsPG3xdsfDHhb4o674b134i6H8JLe78WXkcemWN9pJudJOmSJbRytfSxSyCxiKm1hEgtjLIVAPuf/hMNJ/59NV/8Ed3/wDGqP8AhMNJ/wCfTVf/AAR3f/xqvzpn/wCChn7YnxB8N/Dz416Fq%2BraLo03wp%2BHXiXxknh/S9Hn0PRbrV7%2BVdSfXftayX5tXtkRrUaUzSRhZJLgpG0ch%2Bn9A8XfGHR/29o/hN4c/aB1vxzoj6Hqer/EDw7qeiaXHY%2BC4ZpY/wCx4be4tLWK4E8uJ1EVzNcNJDDJMfLwm8A%2BgNL1vTtY8xbKSTfCQJYp7d4nTPQlXAYA84OMHBq3WVaf8jtqH/YLs/8A0Zc1q0AFFFFABRRRQAUUUUAFFFFABRRRQAUUUUAFFFFABRRRQAUUUUAFFFFABRRRQAV4z%2By//wAlv/aO/wCyzWP/AKhXhevZq8Z/Zf8A%2BS3/ALR3/ZZrH/1CvC9AHs1FFFABRRRQAUUUUAFFFFABRRRQAUUUUAFFFFABRRRQAUUUUAFFFFABRUd7e2enWcuoahdxQW8ETSTzzSBUjRRlmZjwAACST0rA%2BF3xi%2BEfxw8KDx58Fvin4c8X6G07wLrXhfXLfULQypjennQOyblyMjORnmgDo68Z8cf8pC/hf/2Rnx5/6dvCFd/8LPjZ8Gfjlo914h%2BCfxb8MeMbCxvmsr6%2B8La/b6hDb3KgFoXeB3VJAGUlCQQGHHNcB44/5SF/C/8A7Iz48/8ATt4QoA9mooooAKivrGy1Ozl0/UrOK4t5kKTQTxh0kU9VZTwQfQ1LRRuDSaPnT4t/8EnP%2BCf3xjv31zW/2c9I0fVGYumreEZJdInSQ9ZP9EaNGbk8srZ718yfFL/g29%2BD%2Bt3Ump/B39pvxXoFybj7RHJ4g0u21R1kByMTR/Z5gPTLkj3r9JqK8bF8O5HjdauHjfulyv742M8vpyybFPFZZUnhar3nQqVKEn6ujUp83/bykvI/L7Tf%2BCc//Bb79ndy/wCz5%2B3xp2uafb8Wmma1rd1JtA6Bbe/guIVHt5g610ek/tK/8HBfwaAt/ib%2Bxh4S8e2UX377Sbm3FzNjuBa3eB%2BMFfo9RXJDhunh/wDdcTWp%2BSnzL7pqR6lfPOI8Sv3%2BMdX/AK/UsPWf/gcqFOp83Ub6ttnwRpP/AAWc%2BOXhHCftFf8ABK34y%2BGkj4nvNG0ua%2BiOOrKZre3XHtvP1rpfCf8AwXz/AOCeGsTmz8ceJvF3gq4Xh7bxR4Oud6n0ItBPivtKq%2Bq6RpOu2T6brel295bSDElvdQLIjD0KsCDXTHBZ3S%2BHFqX%2BOlH84Sj%2BR41aeaVL2dJPypSj%2BEazX9bHgfgn/gq5/wAE5/iAQuhfte%2BD7fI4/tu9bTP/AEsWKvQ/Dn7Wv7KnjBxF4R/aa%2BH2qMei6d4zsZyf%2B%2BJTWd4j/Yc/Yu8XNJJ4l/ZJ%2BGl7JLnzJ5/A9gZDnvv8rcD7g5ry3xX/AMEWP%2BCZXjCSSe//AGW9PtZHyQ%2Bk65qFmFPqEhuFT8NuKbfEcFtRn86kf0kjOMMzc3edNLp7tW/4SsfTGk%2BIdA16PztD1yzvUxnfaXKSD81Jq5Xwh4n/AODdf/gn1rchm0C78feH3zmM6R4mjbYfb7TBKf1rltR/4N6fDul5Hwv/AG6vifoWP9X9okSfb6f6p4P6VlLHcQ098HGX%2BGqv/boI9CjgsbV3xGHXrLER/wDdea/M/RiivzNvf%2BCI/wC3T4aUj4c/8FY/GLEf6sXM2q2WPbMWoSfyrDu/%2BCXP/Bb7w8%2B/wv8A8FL5tSjQ/cv/AIi64jsPbfBKM/U1hLO82p/Hl1T5Spv9T1KPD2a1/gxGCfrjFD8KmEj%2BLP1Oor8qpv2Sf%2BC%2BfhZcWvx91vWivey%2BKdthvp9qsh%2BtZ8/g7/g4Z8OyfvU8fPCv/Le08Z%2BFr4n/ALZvGrGofEteHx4Gsv8At1P8rnVDg3i6r/CpYaf%2BHMcv/BTrUn%2BB%2BstFfkv/AMLC/wCC5mgf8hvxP8b7bb977B8IPDOrY%2Bm2Zd1J/wANUf8ABWHRPl8R/E79pOHH3pZP2NNHkiH1eK9/pU/62UF8WHqr1ijT/UPxFl/DymVT/Bisun%2BWYL8j9aaK/Jb/AIb2/br0v/kYP2ufiNpuPvf25%2ByQkWPr5UrUv/Dzj4/ab/yHv%2BCm2j6bj739s/s16jFj6%2BXG1H%2Bt%2BXL4oSXq4L85IP8AUDxUfw8OYyX%2BCFKp/wCm8TUP1oor8o9O/wCCpfxSvTiy/wCCuvwfkPpf/BXWbf8APdbit3Tv%2BCjXx/v8fYv%2BCrv7Nz56fbfBeo2//oSjFXHizLJbJ/fT/wDlpy1uDPE3DfxeGsxj64Wf6Nn6f0V%2Bblh%2B3R%2B1PfY%2Byf8ABU79kVs/8/cdxB/6FIK2bH9rX9tLUCBp3/BTf9iy4J/hGttn8hcZrePEmCltCX/lP/5ceZVyfjSh/EyHHx9cJV/%2BRP0Kor4Msvj1/wAFEtRx/Zv7e/7Hlznp5V/cNn/vmataz%2BIP/BU3UMf2f%2B19%2ByfcZ6eV9ubP5SVtHPaMtqNR/KH/AMtPOqf27R/iZVi4%2BuHmvzsfbtFfG9pdf8Fg7/8A5B/7RX7MM%2BenlWGptn8nrRh8N/8ABbG4XzLf4wfs4yL6poerkfoa0WbOW2Hq/wDgK/8AlhwzzTE0vjwWIXrTt%2Bc0fW9FfJf/AAin/Bbj/orH7Of/AIItY/xpP%2BEU/wCC3P8A0Vj9nP8A8EWsf41X9qS/6Bqv/gC/%2BTM/7an/ANAlf/wBf/LD61or5K/4RT/gtz/0Vf8AZz/8EWsf40v/AAiX/BbduD8Xf2dV910DVz/M0f2pP/oGq/8AgC/%2BTD%2B2p/8AQJX/APAF/wDLD60or5L/AOEG/wCC10n3/jr8AI/%2BufhjUz/M0n/Cuf8AgtM/LftH/AxPZPCF%2Bf5tR/alT/oGq/8AgMf/AJMP7Zq/9Adb/wAAj/8ALD61rxnxx/ykL%2BF//ZGfHn/p28IV5h/wrH/gtA3X9p/4KL/u%2BCrw/wA2qp8E/C37Z/hr/goX4M/4a7%2BKngzxN5/wZ8Zf8I9/wiGhy2X2bGreFfP83zCd%2B7MO3HTY3rWtDHVK1VQdCpG/WSSS9bTf5G%2BGzKpiKypvDVYX6yjFJetpt/gfYFFFFegeoFFFFABRRRQAV8J/8EhdNhh8M/tOaqI8S3H7b/jWNm9VTXISv6u1fdlfFv8AwSo0ptP%2BGXx7u2XAvv20vHc6n1A8SiP/ANp1x143xVF9nL/0gynS56sJ/wAt/wAUon2lRXzF4/8A%2BCmv/CBeO9b8C/8ADvn9p7Wv7F1e5sP7Y0D4T/abC/8AJlaPz7aX7SPNhfbvR8DcrKcDNZH/AA9h/wCsan7Wn/hm/wD7qrnlnWWRk4upqv7s/wD5WeXLiHJoScZVdVp8NTpp/wA%2Bj60rF%2BI/w88GfFz4fa58KviNoMWq%2BH/EukXOl65pk7MqXVpcRNFNEShDAMjMMqQRnIIPNfPngH/gpr/wnvjvRfAv/Dvn9p7Rf7a1e2sP7Y1/4T/ZrCw86VY/PuZftJ8qFN293wdqqxwcV7N%2B0n4w%2BJ3w8%2BAXi/4g/Bnw5aaz4n0HQLnUtH0W9hd01KSBDKbUBHQh5VRo0bdhXdWIYAqevDYzDYyLlRldLfSS/wDSox/U7cHj8HmEXLDy5ktHpJef2ox/C5jQfsa/s8L4V8U%2BDtT8Ialq9n418N2%2Bg%2BKpfEXivU9TutSsIPtPkxyXN3cyT70%2B1z4lDiUbl%2Bf5E253gf8AYK/Za%2BHupLrnh/wFqU2pDxcPFEura14x1bUry41caRNowu5ri8upZZ2Gnzy2%2BJGZdpU43IjL4b4j/wCCj/xN%2BJHha58Y/suNoeq2HiPx3NpHwoli8JLqjeINOsNIW61W9ka51vSraGOK78%2BAO1wu0WbgJK0g8vifBv7dXxG%2BLniPRPjxZfabXTvHnwy/Z31WPwo2v3v2HSp/EXi7Xba/kg%2BzTxbnMXkozHKTrawrMksS%2BUek7D7D8MfsnfAjwTY6JYeDvCd7pS%2BHPA1p4O0SbTvEeoQzWmi2rxvBarKk4c7TFHmQsZGAIZ2DMDo/G/8AZ6%2BFP7ROiafofxS0fUZhpGom%2B0i/0TxFfaRfWNwYZYGeG8sJobiLdDNNE4SQB0kZWBUkV8m/BP8Aap/ag%2BN37Unwg8Yan4q8I/2J47%2BFvj/W/Dnw90q6vdPa1ks7/RoLaDVpTNcJdSx%2BaUa4S2iNtI9wixSZyfbv239W8ST6Z8KPhvL4q1Xw7pHjv4r2Gh%2BM9S8N67cafdQ2Z0%2B/ukghvbdop7fz721s7XzI2jkZbgqpUuKAPQpP2d/hYngMfDDRrHWNF0CLw5YaFZaZ4Z8V6jpUen2NmSbdLT7HcRGzdQdplgKSuiIjOyxoq4F/%2BxV%2Bz7ffCqz%2BC0Wk%2BJrHw/aX9zeyxaP8Q9bsbrUJ7lna5e%2Bu7e8S51AzNI7SfapJRIzZfcQCPLPhFqP7QvxT/wCCbfjfQ/hP8SbufxpZ6l478OeAfFmsaqWuLi30/XtU0/TLiS8lDlpTa20A%2B1uHLtidt%2B4581%2BHfj%2B10v4XftHxfH/Rvi54e%2BHvwfu7PXNL03UfjVqc/iO0nXQ1urvTpNV0zVJZpdzGOZLU3k4/06LhcxxRAH0x4w/YW/ZY8c%2BKdN8W658MGil0vTtN0%2BPTtJ16/wBP027tNOmaawt7uwtZ47W%2Bit5GZoo7mKVY9xCgAkVY%2BF37GvwI%2BDPxT8QfGP4c2viyx1nxVr15rXiCGb4k67c6de390AJp20%2Be9ezDbVRExCBEkcaRhFRQPhD9o3Qv2ufgz8AvCHwqh%2BN/iu%2B8W%2BAv2Zta8Y%2BPrvUPjFrGl3OkamZoZX1aK5WSR/ED2sn2qKHTb%2BRLUxxxrNPEJF3fRfxpuPGfg/8Aa4%2BCfxj8H%2BKtbsvCvjnxVb6Z4hvpfibq9wb64l0a/wDK03/hGJv%2BJdbQsYLed7yFhcRyxvmDa0swAPqO0/5HbUP%2BwVZ/%2BjLmtSsu0/5HbUP%2BwVZ/%2BjLmtSgAooooAKKKKACiiigAooooAKKKKACiiigAooooAKKKKACiiigAooooAKKKKACvGf2X/wDkt/7R3/ZZrH/1CvC9ezV4z%2By//wAlv/aO/wCyzWP/AKhXhegD2aiiigAooooAKKKKACiiigAooooAKKKKACiiigAooooAKKKKACiiigDyL9vv4feNPit%2BxR8U/hx8PNGl1PWdZ8Daja2WkQOFfUy0DbrNSxCgzruhG4hf3nJAya8Ms9H8b/HHw7%2B0/efBzwL4x8KD4ueD20r4djxF4K1LRJJ9WtvDv2WS/ljuoI2shvmtLZHuBEZf7PYx70RWP2hRQB8vfsPW9z4s%2BPfjP4w%2BF/g54n8D%2BEJvhT4I8MWmk%2BKvCd1osx1XTZNakukS2uo42eOGC%2BsLcXCKYpTEVR3WEGtq/wBN%2BK9p/wAFNvBd5428aeHtQ0K4%2BD3jg%2BGtO0rwxPZ3dgg1bwl5i3NzJezJdk5TBSG3C7TkNuG36Hr5w/aP1f416P8At4fCef4HfD/wt4i1JvhH47W7tPFfjC50WCOD%2B1PCRLpLb6fes77to2GNRgk78gKQD6Porxn/AITj/goX/wBGv/Bn/wAPxq3/AMy9H/Ccf8FC/wDo1/4M/wDh%2BNW/%2BZegD2aivGf%2BE4/4KF/9Gv8AwZ/8Pxq3/wAy9H/Ccf8ABQv/AKNf%2BDP/AIfjVv8A5l6APZqK%2BcdJ/aO/bt1j4z6/8Drf9lD4SLqnh3wvpGu3ly/x11TyJINRudSt4UQjwxuLq2lzlgVAAePBYlgvUf8ACcf8FC/%2BjX/gz/4fjVv/AJl6APZqK8Z/4Tj/AIKF/wDRr/wZ/wDD8at/8y9H/Ccf8FC/%2BjX/AIM/%2BH41b/5l6APZqK8Z/wCE4/4KF/8ARr/wZ/8AD8at/wDMvXL%2BAf2jv27fiJ4r8b%2BENH/ZQ%2BEkNx4D8URaFqslz8ddUCTzyaVp%2Bph4tvhgkp5OowqSwU70cYwAzAH0dRXjP/Ccf8FC/wDo1/4M/wDh%2BNW/%2BZej/hOP%2BChf/Rr/AMGf/D8at/8AMvQB7NRXjP8AwnH/AAUL/wCjX/gz/wCH41b/AOZej/hOP%2BChf/Rr/wAGf/D8at/8y9AHs1FfOPwi/aO/bt%2BMvhS78X%2BHP2UPhJbW9n4o1vQpI73466ormfS9VutMncbfDDDY01pIyHOSjKSFOVHUf8Jx/wAFC/8Ao1/4M/8Ah%2BNW/wDmXoA9morxn/hOP%2BChf/Rr/wAGf/D8at/8y9H/AAnH/BQv/o1/4M/%2BH41b/wCZegD2aivGf%2BE4/wCChf8A0a/8Gf8Aw/Grf/MvXL/BH9o79u348fBjwh8cfCv7KHwktdL8Z%2BF9P13TbbUPjrqizwwXdtHcRpIE8MMocLIAwVmGQcEjmgD6Oorxn/hOP%2BChf/Rr/wAGf/D8at/8y9H/AAnH/BQv/o1/4M/%2BH41b/wCZegD1rUfD2gawCNW0Ozus9ftFsj5/76BrC1D4G/BPV8/2r8HvC11nr9o8P2z5/NDXBf8ACcf8FC/%2BjX/gz/4fjVv/AJl65f43ftHft2/Af4MeL/jj4q/ZQ%2BEl1pfgzwvqGu6lbaf8ddUaeaC0tpLiRIw/hhVLlYyFDMoyRkgc1EqVOfxRT9Un%2Bh00cbjcP/Bqyj/hlJflJHpN/wDsg/smarn%2B1P2Xvh1c56/aPBNg%2BfzirGvv%2BCfv7CWokm6/Yy%2BFhJ6tH4B09CfxWEGq/wDwnH/BQv8A6Nf%2BDP8A4fjVv/mXo/4Tj/goX/0a/wDBn/w/Grf/ADL1hLA4KXxUoP8A7dj/APInqUuKeKKH8LH14%2BleuvyrIoXv/BMX/gnvf58/9jzwCuf%2BePh%2BKP8A9AArJvP%2BCSX/AATfvs%2Bf%2ByR4XXP/ADxE8f8A6BIK6X/hOP8AgoX/ANGv/Bn/AMPxq3/zL0f8Jx/wUL/6Nf8Agz/4fjVv/mXrKWVZXLfDw/8AAI//ACJ6NLj/AI8o/wAPNsUv%2B5iv/wDLWcLd/wDBGL/gmTe5879lPTFz/wA8db1GP/0G5FZ03/BDz/gl7K/mxfszGF%2BzweM9ZQj8rzFdH8Xf2jv27fg14UtPF/iP9lD4SXNveeKNE0KOOy%2BOuqM4n1TVbXTIHO7wwo2LNdxs5zkIrEBjhT1H/Ccf8FC/%2BjX/AIM/%2BH41b/5l6yeR5LLfDU//AACP%2BR3Q8U/E2l8Od4tf9zNb/wCTZ5l/w5H/AOCeEX/IN%2BGXiGz9Psvj7Vhj87k0n/Dlr9iqL/kHyfEC09Ps3xG1EY/OU16d/wAJx/wUL/6Nf%2BDP/h%2BNW/8AmXo/4Tj/AIKF/wDRr/wZ/wDD8at/8y9T/YWS/wDQPD/wG35WNP8AiK/ia985xL9arl/6UpHmP/Dmv9mCL/jw%2BJ3xdtfQW/xNvRj8yaX/AIc9/BCP/jy/aQ%2BO9t6eR8VLkY/NTXpv/Ccf8FC/%2BjX/AIM/%2BH41b/5l65fx9%2B0d%2B3b8O/FfgjwhrH7KHwkmuPHniiXQtKktvjrqhSCePStQ1MvLu8MAhPJ06ZQVDHe6DGCWU/sLJ/8AnxH8f/kg/wCIq%2BI3XNKr9fZv86DOa/4dEfDmPi0/bJ/aNt/Tyfi1MP5xGj/h0p4ej/49P2/f2oYPTyfi%2B4x%2Bdua9N/4Tj/goX/0a/wDBn/w/Grf/ADL0f8Jx/wAFC/8Ao1/4M/8Ah%2BNW/wDmXo/sPKf%2BfS%2B%2Bf/ywP%2BIqeIPXMJP1p4d/nhWeY/8ADqF4zm1/4KUftXJ7H4v7h%2BRtqp/BT9la/wD2Zf8AgoV4LF5%2B0z8UviKNa%2BDPjLZ/wsvxQNSOn%2BTq3hXP2ciNPL8zzRv67vKj6Y59a/4Tj/goX/0a/wDBn/w/Grf/ADL1Q8D%2BB/2rPGP7Vnhz43fG74cfD3wzo3hn4e%2BIdDhh8K/EO%2B1q6u7rUr7RLhGZLjSLFIo0TS5QWDuxaVAFxkjahlWX4aqqlKFpL%2B9N/g5tfgefmnH3F2d4GeDx2J56c7XXssPG9mmvehhqc1qltNX2d1dP3WiiivQPjwooooA%2BRv8AgoLrmsan8WF8D6x8avE/gXQdE%2BA3jHxlp%2BoeGPFVzpDSavYS6akd1NJBIn2iOzjnZzbS77d/tOZopAq7eq%2BPfh74ufHP9i/w9400zSLmD4gHwdBqz6Unxh1rwNDb3UlkjXDy3GlhnkEUjcQzqYs/eaP71ez/ABO%2BCPwX%2BNlvp1p8ZvhD4X8XRaPfrfaRF4n0C2v1sbpRhZ4ROjCKQDo64YetZfj/APZY/Zh%2BK9pDYfFL9nHwH4lgttSuNRt4df8ACFleJFeTkGe5UTRMFlkIBeQfM2BknFAGN%2Bz38V9c8UfsV/D/AONem2fiD4gX%2Br/DfRtWQW9lZ6fqWuvPYwSmUw3NxFb28sm8u0bzKiEld3Az5v8A8E99JhsP2WPEPiuTwtqWi3WufH3x3res6VqskElzYynxzqRkjlNtJLCWjSIKxjkkT5CQ7Dk/TVvbwWsCWtrCkcUaBI441AVVAwAAOgA7V8m/sleLP2ztP%2BHviiz%2BGPwD%2BGGr6Enxp%2BIv9n6jr3xd1HTbuZf%2BEz1ksZLaLQLlIiG3AATPkAHIJ2hOKbTfQak0ml1PqD/hOfBP/Q4aX/4MI/8A4ql/4TnwT/0OGlf%2BDCP/AOKry3/hOP8AgoX/ANGv/Bn/AMPxq3/zL0f8Jx/wUL/6Nf8Agz/4fjVv/mXpiPUv%2BE58E/8AQ4aV/wCDCP8A%2BKo/4TnwT/0OGlf%2BDCP/AOKry3/hOP8AgoX/ANGv/Bn/AMPxq3/zL0f8Jx/wUL/6Nf8Agz/4fjVv/mXoA1L74GfsUap8ONJ%2BDup/B34W3HhHQL37ZoXhWfw9pr6bptzukbzoLYp5UMm6WU70UHMjnPzHOhp/w4/ZR0m1tbLSvAfw9tobK00m0sobfS7FFt4NLnkuNMiQBQES0nlllt1GBBJI7xhWYk%2BZ/BH9o79u348fBjwh8cfCv7KHwktdL8Z%2BF9P13TbbUPjrqizwwXdtHcRpIE8MMocLIAwVmGQcEjmuo/4Tj/goX/0a/wDBn/w/Grf/ADL0Aatj8D/2KtL8U63450z4QfC631vxLBdQ%2BI9Yg8P6al1qsd1j7SlzKE3zrLtXzA5IfA3ZxXQeN9K%2BAHxM8EXPwy%2BJGm%2BDvEHhu8hSK78Pa5DaXdjPGjKyI8EoaNlVlUgFcAqCOgriv%2BE4/wCChf8A0a/8Gf8Aw/Grf/MvR/wnH/BQv/o1/wCDP/h%2BNW/%2BZegDqh4J/ZhHh638Ijwj4DGk2nhufw9a6X9gsvs8OkTiNZtOSPbtW1kEMQeADy2ESAqdoxX8PfDX9k7wj8Nx8G/CngD4d6Z4QWcTr4U0/SrCHTRKJhMH%2BzIoi3CVVkztzvUN1Ga81%2BN37R37dvwH%2BDHi/wCOPir9lD4SXWl%2BDPC%2Boa7qVtp/x11Rp5oLS2kuJEjD%2BGFUuVjIUMyjJGSBzXUf8Jx/wUL/AOjX/gz/AOH41b/5l6AOk%2BJ3w6/ZT%2BNl3pV/8ZvAnw98XT6DcGfQ5vE%2Bl2N%2B%2BnSkqTJAZ1YwsSiHcmD8i%2BgqKw%2BFv7I%2Bl/Fi4%2BPemfDn4cW3jq7QpdeNINIsE1aZTGIyHvAvnMCiqhBb7qgdBisD/hOP%2BChf/Rr/AMGf/D8at/8AMvR/wnH/AAUL/wCjX/gz/wCH41b/AOZegD0zQ9QsdX8U6hqWlXcdzbfYbWIXEDhkLq87MoYcEgOuceorarxn/hOP%2BChf/Rr/AMGf/D8at/8AMvXL/F39o79u34NeFLTxf4j/AGUPhJc2954o0TQo47L466ozifVNVtdMgc7vDCjYs13GznOQisQGOFIB9HUV4z/wnH/BQv8A6Nf%2BDP8A4fjVv/mXo/4Tj/goX/0a/wDBn/w/Grf/ADL0AezUV4z/AMJx/wAFC/8Ao1/4M/8Ah%2BNW/wDmXo/4Tj/goX/0a/8ABn/w/Grf/MvQB7NRXzj4%2B/aO/bt%2BHfivwR4Q1j9lD4STXHjzxRLoWlSW3x11QpBPHpWoamXl3eGAQnk6dMoKhjvdBjBLL1H/AAnH/BQv/o1/4M/%2BH41b/wCZegD2aivGf%2BE4/wCChf8A0a/8Gf8Aw/Grf/MvR/wnH/BQv/o1/wCDP/h%2BNW/%2BZegD2aivGf8AhOP%2BChf/AEa/8Gf/AA/Grf8AzL1y%2BrftHft26P8AGfQPgdcfsofCRtU8ReF9X12zuU%2BOuqeRHBp1zptvMjk%2BGNwdm1SAqApBCSZKkKGAPo6ivGf%2BE4/4KF/9Gv8AwZ/8Pxq3/wAy9H/Ccf8ABQv/AKNf%2BDP/AIfjVv8A5l6APZqK8Z/4Tj/goX/0a/8ABn/w/Grf/MvR/wAJx/wUL/6Nf%2BDP/h%2BNW/8AmXoA9mor5x0n9o79u3WPjPr/AMDrf9lD4SLqnh3wvpGu3ly/x11TyJINRudSt4UQjwxuLq2lzlgVAAePBYlgvUf8Jx/wUL/6Nf8Agz/4fjVv/mXoA9morxn/AITj/goX/wBGv/Bn/wAPxq3/AMy9H/Ccf8FC/wDo1/4M/wDh%2BNW/%2BZegD2aivGf%2BE4/4KF/9Gv8AwZ/8Pxq3/wAy9cv4B/aO/bt%2BInivxv4Q0f8AZQ%2BEkNx4D8URaFqslz8ddUCTzyaVp%2Bph4tvhgkp5OowqSwU70cYwAzAH0dRXjP8AwnH/AAUL/wCjX/gz/wCH41b/AOZej/hOP%2BChf/Rr/wAGf/D8at/8y9AHs1eM/sv/APJb/wBo7/ss1j/6hXhej/hOP%2BChf/Rr/wAGf/D8at/8y9W/2Vvhz8afB%2BsfFDx38dNA8L6Tqnj74hRa5Z6V4T8S3OrW9raxaDo%2BmKr3FxZWbNI0mnSuVEW0LIg3Mc4APW6KKKACiiigAooooAKKKKACiiigAooooAKKKKACiiigAooooAKKKKACiiigAr5X/ae/a0%2BLnww%2BMfizWvAPh3wfJ4Y%2BD/h/w/e%2BNTrWkXE2q6pb6vfypcwWFxHcRpZeRbWcdxmSKcXMhSMiHy/NP1RXjPxn/Yh%2BHHxu%2BKR%2BJmueOfFWlxaja6Ra%2BL/DWjXVqmneKYNLvZL2xivllt5Jgsc00ufs8sBljkMUxljCoAD2aiiigAooooA%2BY/Dn7SvxMh/b/wDFHwf%2BI2seHvCfhtfEFpongyLUfhFrKXXjGAaBBqOIPEbXa6c0sd3c6gBaCF5PLtJgFBZpF%2BnK8r8WfstQeP8A4yaR8U/Hvxv8a6vpXh7XY9a0DwBcHTItGsdQjt3gjnDQ2SXsuzzJJFSa6kjEj7tnyIF9UoAKKKKAPF/%2BCgvxd%2BOH7P37I/jT49fAK98KR6x4J0K71y6g8YaLc31td2lrbSzPboltdWzJK7IiiQuVQFiUfgV5/wCPP2tPi54L%2BPHi3U/Cnh3whF8PPCHxj8I/D7xlZzaRcHW9V1XXYNFSPUIbtLhYY44P7c0mMxSW8ryJDPiWPagr2H9rH9nGy/a0%2BBGvfs%2B618VfFPhHSfE9lLY65f8AhBdO%2B13NlLE8U1tuv7S6jRHV%2BWRFkBUbXXnPFwfsA%2BDp/iLZ/EXxV8cfH2usdZ0nXPE2jahLpUVj4n1zTEjSx1a9jtrCJluIhBaYW2aCBjY2xeJjHkgHvdFFFABXi/7ZPxd%2BOHwStfAPjH4WXvhT%2BxtQ%2BJnhzw94vsfEGi3NzdXNrqus2Omg2csN1CltJGtzLJvkSdSURdnJNe0V5V%2B1d%2By2/wC1V4b0LwvP8ffG/ga30LxJYa6jeC4dHZ7u9sbyC8s2lOpafeDbFcW8bhYwgblZN6naADzj9nn9pX4ma3%2B1V4t%2BCPxQ1fw94T06HxTrdv4J8JSfCLWdMudetoXSU39vrVxd/YNQdjJNLLFbQF%2BS7FcMT9OV5LpP7KIf4yaL8ZfiP%2B0B478azeF7u8u/CeheIRpMNho91c28lrJcRLYafbSyv9nmnhXz5JVRZ32gEgj1qgAooooA8P8A27vi58eP2fvg1q/x1%2BFHjHwLY6f4W0W5vL3RfFnhm9v7nxDe5RbPTLOS2vYPs81xKRbo3lXTNLPEFhY/K3n/AMEf2vvjPrnxL8Ff2t4M8JaR8NPG/wAT/FHw28K%2BGtO0uaPV9Ev9Ah1bfPPci4a3mgkbw/qaLDHbxGNWtj5kmWA9P/aV/ZBg/aS8eeCPiBN%2B0D478IXPgG7ub3RbHwxFo09nJeyoI1vJoNT068R54Y/MWGQBTGJ5SPmbIq%2BA/wBhr4e%2BA/jLb/F2H4i%2BLtSg07XdT17RPCGpXNl/ZOla3qMbx6hqkCRWqT%2BfOJ7ssrzPCjX1yY4o/M4APa6KKKACvl/9rn48ftL/AAW%2BImn%2BFNKh8AeNdH8cw61baL8OYvB99JrCWtpod1dyX9xOL14rq2F1Fb20kItYgft8KCYyMiSfUFeHTfsTXEf7R/iv9prRP2q/iXp2r%2BLdNh0650uGDw/PaafZwwNHDbWbXOky3NvEsrvdbFm2vO5dw4O2gBn7CH7Qfjf49/D28uviv4%2B0a%2B8XacLNtf8ADdl8LtX8I3mgPPbLKILmy1e6nuHBbf5dwAkciodobaTXuleb/A79m7Tvgz4n8SfEPWPil4p8ceKvFcVjb6x4n8XNYLcvaWYm%2By2qRafa2ttHFG1zcuNsIZmuJCzNkY9IoAKKKKAPjn/goJ%2B3H8VP2MPHP9p65ougeMfCL6NqOt2/hWX4c6nZS26abo19qSSf8JFNdPpk939r00bLFYEuhHMsoG2FpG9e/Zo%2BLvxz1b4qeN/2ev2jrnwpqHifwjpOh61HrXgrSLmwsbmx1QXkaRGC5ubl1liuNOu1L%2BbiRDE2yMkqK3x1/YS8EftOa1dWvx/%2BLfjXxR4LuZLiRfhleSabDosUk1jNZM2%2B3so76QCO4mYJLdOgd9235EC9P%2Bz5%2BzNpHwDvNe8RXfxQ8WeOPEfiQ2cereKvGtxZvfS21pEYrW1H2O2t4ViiDysMR72eeV3Z2cmgD0qiiigAr4j/AGp/2yv2s/g38avEHwo8HeG/DnjXU7DRbjXfDAT4H%2BII5NFA1HTLVDC325x4mkFjqlx539l%2BU8LQlZRGJhHX25Xh%2BvfsW6n4l8en4na1%2B1z8UZtb0%2BC8i8G3hTQAPCq3U0Mk/wBkjGk7J2aOBbfderdMsTOFKu7OQDqv2WPiw/xk%2BEcHiy9%2BJmjeKr%2BHUbqy1S%2B0bwZfeHRbXEUrK1rNpuoXE91ZzxjCvHM4fPzbVDAV6NXDfAP4C%2BHvgB4Z1PRtK8U634g1HX9euNb8SeJPEc0DXuq38wRGnlFvFDAmI4oYlSGKONUiQBRgk9zQAUUUUAFFFFABRRRQAUUUUAUfFHiGw8JeGtR8V6qHNrpljNd3IiXLeXGhdsDucKa%2Bc/2Jv2k/jX4/8U6P4M%2BNnh7wZZjx18LbL4jeGYfBmlXFoNMjvLgm70%2B7M1xKLuaN7m2f7YggE7SzEwR7QX%2Blru0tb%2B1lsb23SaGaNo5opVDK6kYKkHggjjFeQ/szfsV%2BAv2YNVfV9A%2BIPi3xLLbeGLHwz4dHiy9tZhoGhWbyPb6bam3t4S0amT5pZzNcSCOLzJn8tcAHsVFFFABXC/tQePPiL8LP2aPiJ8Tvg/4UXXvFvhzwLq%2BqeFtDaxmuhqOo29nLLbWxhgZZZhJKiJ5cbB23YUgkGu6rO8W6Jf8AiXwxqHh/S/Feo6Fc3tpJDb61pCwNdWLspAmiFxFLEXU8gSRumR8ysMggHl37FPxan%2BKHwzvrLVviF4f1nU/Duqrp15pmifDDU/Bz6GgtoJIrO40rVLme5hcI4kV28tHili2Jgb39irzz4D/s7aT8DrzxL4jufiJ4k8Y%2BJPF%2Bow3niLxT4rezF3dGG3S3giEdjbW1tFFHGgCrHCmSzsxZmZj6HQAUUUUAfLn7VH7WPxQ/Zw%2BL3jiy%2BJWjeEvEXwvsP2d/F/j220K30S4TVXbRBpaz21xcyXL280U6304CC2QqETLvlhXb/sz/ABf%2BPmqfFzxl%2Bzr%2B0s/hK88UeGPDHh7xLHqvgrSbmxspLLVn1K3W2MNzc3LmWG40i7BlEgWRHiby4zuWoPjH%2Bwr4d%2BOnx1b4y%2BPPjt45l02bwVqfhG%2B%2BHsMGi/2Jd6NqS232%2B0kL6a16RO1pA7OLoOpQhGRGZD0n7O/7Luh/s%2B32teI5/ih4t8b%2BIdftbCyv/E/ja5tJL02Fiki2dmPsltbx%2BVEZ7hwShkd7mV3d2bNAHp9FFFABXyJ8a/2l/wBrbwZrv7QHgS38K%2BDPFl74C8P%2BFPEnw2sdJ%2BH%2Bp386x6jqupQhLy1ivHl1GeBdNjnU2wtyXJCr8qtX13Xhcv7FHiGL46eNvj/oX7aHxW0rVvG%2BkWOmXNjZWfhhrTTbayuLmezS2EuivJ%2B6N5dKDM8pdZyJPMKoVAOr/ZU%2BLc3xl%2BFI8Taj8TtG8U6ja6rc2OrXWj%2BCL/w2bO4ib5rWfTNRuJ7q0nRSu5JmDEMrbVVhXpNcJ8A/gHoHwB0LWbHT/FuueI9V8TeIJdc8T%2BJvEktu17qt/JDDB5sgtoYYIwsFvbwqkUUaKkKALnJPd0AFFFFAHxt%2B0t%2B13%2B0t%2Bzx8ZoPhtrKfDPxrfa3BBN4Rh07wte2kvgu81LxDpnh7SJtTle%2BmF1FO2rzgtEtnI4sbpYwy%2BYYvcf2Vfi/8SPiMPH/w%2B%2BMR0SfxV8NPHjeGtZ1Xw1p01nYan5ml6dq1vcQ28088lvm11S3R42mlxJHJhiCMcLbf8E1fCTXXxDfxD%2B0v8TtZt/iTrx1zWLfUjoXmWepRXEM%2Bn3NtdRaWl0psHt7cWkbzSRRLCgZH5z6x8A/gLofwD8Patptl4v1zxJq3iLXpta8T%2BKPEr2xv9XvpI4ofOmFrBBAuyCC3gRIoo0WOCNQvBJAO6ooooAZc/afs0n2PZ52w%2BV5udu7HGcc4zXxB8Vv2uf20/hp8RNc%2BG1vbeA/GeveGL3w1b6t468EfBXX9Wj8OW%2BrNePe2EulWepT3dzNHDZWN0TFOn7u6haWBAYmk%2B3ruGS4tZbeG6kgeSNlWeIKXjJGAy7gVyOoyCPUGvnv4MfsBeIPgJ8Nrj4afDv8Abq%2BMUUd1qz6nNrN5ZeE59Qlu5XlkuZ5pn0I/aZJ3l3SSTiR8xpsKAYIB6z8BPiHZfFb4O%2BH/AIhWHxA0bxUmp6eJH1/w/pM1haXcgJWQpazzTS2xV1ZGhkkd42VlY7lIHX1yXwL%2BC/hL9n34X6d8KfBVzf3FlYS3VxNfarcia6vru6uZbq6upnCqGlmuJ5pX2qq7pDtVVwo62gAqj4nh8SXPhvULfwbqdjZavJZSrpd5qdg91bQXBQiOSWGOWJpo1bBZFkjLAEB1J3C9Wb4x0G/8UeFr/wAO6X4t1LQbm8tXig1rRxAbqxcjiaIXEUsRdTyBJG6HHzKwyKAPh74b/t2fta/GD4p638EvhZpvw%2BTxnptrrt9J4z8V/C7WtDXVNM0i10WVLGXRLy%2BTUNPle78Q7EmnmePyoZLhIXWdAfsb4BfFrTfj58CfBXx10bTZbOz8a%2BEtN160s5n3PBFeWsdwsbEAZKiQAn1FeLav/wAEyPA%2Bta5ffEW7/aU%2BKafEDVkvLXWviTbXukQ6tf6ZdW1rbTaYUTTRZw2xSytGHkW0UqyQLKsocsx%2Bg/Bfg/w18PPB2k%2BAPBmkxafo%2Bh6ZBp%2Bk2EOdltbQxrHFGuecKiqo%2BlAGnRRRQBy/xp1Hxxo3wt1rW/hz4hsdL1awszdQ32oeD73xAiRxkPKBp1jPBc3kjRK6pFDIHLsuFc/I3xb8Jf8Agoj8fvEnjTQ9T8b3HhHwJ4M1KedfEHji8%2BBniKa21i/h1%2B60hEuZVvo08MzyWtpa/uNUaSWB5VjfOwJX238TPBmu%2BPfCU3hzw38Utf8ABt5JLG8Wv%2BGYrF7uDawJVVv7a5gYMAVIeJuCcYOCPFbr/gnN4U1DwfcfDbVv2kPibd%2BGNc1Ca/8AHmgTXGjiLxhdz3jXVxNfSrpouIvNLLC0dnLaxCGJI1RRu3AH0TRRRQAUUUUAFFFFABRRRQAUUUUAFFFFABRRRQAUUUUAFFFFABRRRQAUUUUAFFFFABRRRQAUUUUAFFFFABRRRQAUUUUAFFFFABRRRQAUUUUAFFFFABRRRQAUUUUAFFFFABRRRQAUUUUAFFFFABRRRQAUUUUAFFFFABRRRQAUUUUAFFFFABRRRQAUUUUAFFFFABRRRQAUUUUAFFFFABRRRQAUUUUAFFFFABRRRQAUUUUAFFFFABRRRQAUUUUAFFFFABRRRQAUUUUAFFFFABRRRQAUUUUAFFFFABRRRQAUUUUAFFFFABRRRQAUUUUAFFFFABRRRQB//9k%3D\">"
      ]
     },
     "metadata": {},
     "output_type": "display_data"
    }
   ],
   "source": [
    "s.run(tf.global_variables_initializer())\n",
    "\n",
    "BATCH_SIZE = 512\n",
    "EPOCHS = 40\n",
    "\n",
    "# for logging the progress right here in Jupyter (for those who don't have TensorBoard)\n",
    "simpleTrainingCurves = matplotlib_utils.SimpleTrainingCurves(\"cross-entropy\", \"accuracy\")\n",
    "\n",
    "# tf.placeholder(shape=(None, 784), dtype=tf.float32)\n",
    "\n",
    "\n",
    "for epoch in range(EPOCHS):  # we finish an epoch when we've looked at all training samples\n",
    "    \n",
    "    batch_losses = []\n",
    "    for batch_start in range(0, X_train_flat.shape[0], BATCH_SIZE):  # data is already shuffled\n",
    "        _, batch_loss = s.run([step, loss],\n",
    "                              {input_X: X_train_flat[batch_start:batch_start+BATCH_SIZE], \n",
    "                               input_y: y_train_oh[batch_start:batch_start+BATCH_SIZE]})\n",
    "        \n",
    "        # collect batch losses, this is almost free as we need a forward pass for backprop anyway\n",
    "        batch_losses.append(batch_loss)\n",
    "\n",
    "    train_loss = np.mean(batch_losses)\n",
    "    \n",
    "    val_loss = s.run(loss, {input_X: X_val_flat,\n",
    "                            input_y: y_val_oh})  # this part is usually small\n",
    "    \n",
    "    train_accuracy = accuracy_score(y_train,\n",
    "                                    s.run(classes,\n",
    "                                          {input_X: X_train_flat}))  # this is slow and usually skipped\n",
    "    \n",
    "    valid_accuracy = accuracy_score(y_val,\n",
    "                                    s.run(classes,\n",
    "                                          {input_X: X_val_flat})) \n",
    "    \n",
    "    simpleTrainingCurves.add(train_loss,\n",
    "                             val_loss,\n",
    "                             train_accuracy,\n",
    "                             valid_accuracy)"
   ]
  },
  {
   "cell_type": "markdown",
   "metadata": {},
   "source": [
    "# Submit the MLP with 2 hidden layers\n",
    "Run these cells after training the MLP with 2 hidden layers"
   ]
  },
  {
   "cell_type": "code",
   "execution_count": 21,
   "metadata": {
    "collapsed": true
   },
   "outputs": [],
   "source": [
    "## GRADED PART, DO NOT CHANGE!\n",
    "# Validation loss for MLP\n",
    "grader.set_answer(\"i8bgs\", s.run(loss,\n",
    "                                 {input_X:X_val_flat,\n",
    "                                  input_y: y_val_oh}))\n",
    "\n",
    "\n",
    "# Validation accuracy for MLP\n",
    "grader.set_answer(\"rE763\", accuracy_score(y_val,\n",
    "                                          s.run(classes,\n",
    "                                                {input_X: X_val_flat})))"
   ]
  },
  {
   "cell_type": "code",
   "execution_count": null,
   "metadata": {
    "collapsed": true
   },
   "outputs": [],
   "source": []
  },
  {
   "cell_type": "code",
   "execution_count": 23,
   "metadata": {},
   "outputs": [
    {
     "name": "stdout",
     "output_type": "stream",
     "text": [
      "Submitted to Coursera platform. See results on assignment page!\n"
     ]
    }
   ],
   "source": [
    "# you can make submission with answers so far to check yourself at this stage\n",
    "grader.submit(COURSERA_EMAIL, \"dVv9lKNoVzqIB3rj\")"
   ]
  },
  {
   "cell_type": "code",
   "execution_count": null,
   "metadata": {
    "collapsed": true
   },
   "outputs": [],
   "source": []
  }
 ],
 "metadata": {
  "kernelspec": {
   "display_name": "Python 3",
   "language": "python",
   "name": "python3"
  },
  "language_info": {
   "codemirror_mode": {
    "name": "ipython",
    "version": 3
   },
   "file_extension": ".py",
   "mimetype": "text/x-python",
   "name": "python",
   "nbconvert_exporter": "python",
   "pygments_lexer": "ipython3",
   "version": "3.6.2"
  }
 },
 "nbformat": 4,
 "nbformat_minor": 1
}
